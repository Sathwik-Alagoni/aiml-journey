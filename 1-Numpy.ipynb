{
  "metadata": {
    "kernelspec": {
      "name": "python",
      "display_name": "Python (Pyodide)",
      "language": "python"
    },
    "language_info": {
      "codemirror_mode": {
        "name": "python",
        "version": 3
      },
      "file_extension": ".py",
      "mimetype": "text/x-python",
      "name": "python",
      "nbconvert_exporter": "python",
      "pygments_lexer": "ipython3",
      "version": "3.8"
    }
  },
  "nbformat_minor": 5,
  "nbformat": 4,
  "cells": [
    {
      "id": "1cb92af9-6a58-4f09-a785-bb73d20b7335",
      "cell_type": "code",
      "source": "import numpy as np",
      "metadata": {
        "trusted": true
      },
      "outputs": [],
      "execution_count": 7
    },
    {
      "id": "be83eb63-db2c-4f63-97da-75f25bbc29a3",
      "cell_type": "code",
      "source": "#python is a dynamically typed language\n#python is slower compartive to c but it is more flexible\n#numpy is a python library but behind the scene it make use of c language\n#It make the process faster when dealing with huge volume of data\narr1 = np.array([1,2,3])\nprint(arr1)\nprint(arr1 * 2)",
      "metadata": {
        "trusted": true
      },
      "outputs": [
        {
          "name": "stdout",
          "output_type": "stream",
          "text": "[1 2 3]\n[2 4 6]\n"
        }
      ],
      "execution_count": 16
    },
    {
      "id": "efb48ca5-f422-4312-89f2-ec628f2c4c40",
      "cell_type": "code",
      "source": "type(arr1)",
      "metadata": {
        "trusted": true
      },
      "outputs": [
        {
          "execution_count": 17,
          "output_type": "execute_result",
          "data": {
            "text/plain": "numpy.ndarray"
          },
          "metadata": {}
        }
      ],
      "execution_count": 17
    },
    {
      "id": "0d7cf751-323b-44cd-92cb-2b8330940536",
      "cell_type": "code",
      "source": "#dimention of the arr\narr1.shape",
      "metadata": {
        "trusted": true
      },
      "outputs": [
        {
          "execution_count": 18,
          "output_type": "execute_result",
          "data": {
            "text/plain": "(3,)"
          },
          "metadata": {}
        }
      ],
      "execution_count": 18
    },
    {
      "id": "a404ce08-0e01-4ba3-b865-cb7753153fc7",
      "cell_type": "code",
      "source": "#similar to range method in python\narr2 = np.arange(1,5)\narr2",
      "metadata": {
        "trusted": true
      },
      "outputs": [
        {
          "execution_count": 20,
          "output_type": "execute_result",
          "data": {
            "text/plain": "array([1, 2, 3, 4])"
          },
          "metadata": {}
        }
      ],
      "execution_count": 20
    },
    {
      "id": "a9c081d1-4835-4d71-88c7-6e4e42c9caf4",
      "cell_type": "code",
      "source": "arr3 = np.arange(1,5,0.5)#step size\narr3",
      "metadata": {
        "trusted": true
      },
      "outputs": [
        {
          "execution_count": 21,
          "output_type": "execute_result",
          "data": {
            "text/plain": "array([1. , 1.5, 2. , 2.5, 3. , 3.5, 4. , 4.5])"
          },
          "metadata": {}
        }
      ],
      "execution_count": 21
    },
    {
      "id": "d0658492-a9a4-455c-8c85-b425272ec8d5",
      "cell_type": "code",
      "source": "# The type changes because of one element \narr4 = np.array([1,2,3,4.0])\narr4",
      "metadata": {
        "trusted": true
      },
      "outputs": [
        {
          "execution_count": 23,
          "output_type": "execute_result",
          "data": {
            "text/plain": "array([1., 2., 3., 4.])"
          },
          "metadata": {}
        }
      ],
      "execution_count": 23
    },
    {
      "id": "2d0a9403-7329-4c4c-91cb-e39661ee06d9",
      "cell_type": "code",
      "source": "arr5 = np.array([1,2,3,4], dtype='float')\narr5",
      "metadata": {
        "trusted": true
      },
      "outputs": [
        {
          "execution_count": 24,
          "output_type": "execute_result",
          "data": {
            "text/plain": "array([1., 2., 3., 4.])"
          },
          "metadata": {}
        }
      ],
      "execution_count": 24
    },
    {
      "id": "d7192472-2bf2-45a4-ad94-0b248db4522a",
      "cell_type": "code",
      "source": "arr6 = np.array([0,10,100])\narr6 ** 100",
      "metadata": {
        "trusted": true
      },
      "outputs": [
        {
          "execution_count": 29,
          "output_type": "execute_result",
          "data": {
            "text/plain": "array([0, 0, 0], dtype=int32)"
          },
          "metadata": {}
        }
      ],
      "execution_count": 29
    },
    {
      "id": "f7fb6493-7ba9-46fb-b487-85425150946b",
      "cell_type": "code",
      "source": "#Two dimentional array\n\nm1 = np.array([[1,2],[3,4]])\nm1 * 2",
      "metadata": {
        "trusted": true
      },
      "outputs": [
        {
          "execution_count": 33,
          "output_type": "execute_result",
          "data": {
            "text/plain": "array([[2, 4],\n       [6, 8]])"
          },
          "metadata": {}
        }
      ],
      "execution_count": 33
    },
    {
      "id": "65da5b14-fa63-48d0-988b-f149d0b5e324",
      "cell_type": "code",
      "source": "m1 = np.arange(1,13)\nm1.reshape(6,2)",
      "metadata": {
        "trusted": true
      },
      "outputs": [
        {
          "execution_count": 37,
          "output_type": "execute_result",
          "data": {
            "text/plain": "array([[ 1,  2],\n       [ 3,  4],\n       [ 5,  6],\n       [ 7,  8],\n       [ 9, 10],\n       [11, 12]])"
          },
          "metadata": {}
        }
      ],
      "execution_count": 37
    },
    {
      "id": "18498bdf-eac5-4814-93a5-1554753ac8d9",
      "cell_type": "code",
      "source": "m2 = np.arange(9)\nm3= m2.reshape(3,3)",
      "metadata": {
        "trusted": true
      },
      "outputs": [],
      "execution_count": 42
    },
    {
      "id": "5197578e-4181-4979-86fd-68e0cf3ca5e9",
      "cell_type": "code",
      "source": "m2.shape\nm3.shape",
      "metadata": {
        "trusted": true
      },
      "outputs": [
        {
          "execution_count": 43,
          "output_type": "execute_result",
          "data": {
            "text/plain": "(3, 3)"
          },
          "metadata": {}
        }
      ],
      "execution_count": 43
    },
    {
      "id": "b6007bcf-35d8-4dc3-b84d-6ef9a05f19e9",
      "cell_type": "code",
      "source": "np.arange(9)",
      "metadata": {
        "trusted": true
      },
      "outputs": [
        {
          "execution_count": 47,
          "output_type": "execute_result",
          "data": {
            "text/plain": "array([0, 1, 2, 3, 4, 5, 6, 7, 8])"
          },
          "metadata": {}
        }
      ],
      "execution_count": 47
    },
    {
      "id": "1cd8def2-e4d8-4d4f-b61b-3a9e1061bb33",
      "cell_type": "code",
      "source": "np.arange(9).reshape(9,1)",
      "metadata": {
        "trusted": true
      },
      "outputs": [
        {
          "execution_count": 45,
          "output_type": "execute_result",
          "data": {
            "text/plain": "array([[0],\n       [1],\n       [2],\n       [3],\n       [4],\n       [5],\n       [6],\n       [7],\n       [8]])"
          },
          "metadata": {}
        }
      ],
      "execution_count": 45
    },
    {
      "id": "f3bd3428-402a-41eb-bb4b-c4fe4bc238c9",
      "cell_type": "code",
      "source": "np.zeros((2,3))",
      "metadata": {
        "trusted": true
      },
      "outputs": [
        {
          "execution_count": 50,
          "output_type": "execute_result",
          "data": {
            "text/plain": "array([[0., 0., 0.],\n       [0., 0., 0.]])"
          },
          "metadata": {}
        }
      ],
      "execution_count": 50
    },
    {
      "id": "b01aa672-7613-4fe6-8c47-0b3c030b63fd",
      "cell_type": "code",
      "source": "np.ones((2,3))",
      "metadata": {
        "trusted": true
      },
      "outputs": [
        {
          "execution_count": 52,
          "output_type": "execute_result",
          "data": {
            "text/plain": "array([[1., 1., 1.],\n       [1., 1., 1.]])"
          },
          "metadata": {}
        }
      ],
      "execution_count": 52
    },
    {
      "id": "2c9df626-f09e-4563-a083-927351f7a8c1",
      "cell_type": "code",
      "source": " np.diag([1,2,3])",
      "metadata": {
        "trusted": true
      },
      "outputs": [
        {
          "execution_count": 53,
          "output_type": "execute_result",
          "data": {
            "text/plain": "array([[1, 0, 0],\n       [0, 2, 0],\n       [0, 0, 3]])"
          },
          "metadata": {}
        }
      ],
      "execution_count": 53
    },
    {
      "id": "7481e087-cb4e-4f6b-919d-8b9d6e49c46e",
      "cell_type": "code",
      "source": "np.identity(3)",
      "metadata": {
        "trusted": true
      },
      "outputs": [
        {
          "execution_count": 54,
          "output_type": "execute_result",
          "data": {
            "text/plain": "array([[1., 0., 0.],\n       [0., 1., 0.],\n       [0., 0., 1.]])"
          },
          "metadata": {}
        }
      ],
      "execution_count": 54
    },
    {
      "id": "c4e56c9c-56b6-4dc6-abbd-9efb002809dc",
      "cell_type": "code",
      "source": "m1 = np.arange(12).reshape(3,4)\nm1",
      "metadata": {
        "trusted": true
      },
      "outputs": [
        {
          "execution_count": 57,
          "output_type": "execute_result",
          "data": {
            "text/plain": "array([[ 0,  1,  2,  3],\n       [ 4,  5,  6,  7],\n       [ 8,  9, 10, 11]])"
          },
          "metadata": {}
        }
      ],
      "execution_count": 57
    },
    {
      "id": "c9ae82e2-db20-4ece-bd32-f4f5969943b2",
      "cell_type": "code",
      "source": "m1[1,3]",
      "metadata": {
        "trusted": true
      },
      "outputs": [
        {
          "execution_count": 63,
          "output_type": "execute_result",
          "data": {
            "text/plain": "np.int32(7)"
          },
          "metadata": {}
        }
      ],
      "execution_count": 63
    },
    {
      "id": "3a315b89-de4e-4cbc-acd2-cd53a3d67718",
      "cell_type": "code",
      "source": "m1[0,1:3]",
      "metadata": {
        "trusted": true
      },
      "outputs": [
        {
          "execution_count": 64,
          "output_type": "execute_result",
          "data": {
            "text/plain": "array([1, 2])"
          },
          "metadata": {}
        }
      ],
      "execution_count": 64
    },
    {
      "id": "74f159a4-934f-4426-9248-f0c9c6614058",
      "cell_type": "code",
      "source": "m1[0:,2:]",
      "metadata": {
        "trusted": true
      },
      "outputs": [
        {
          "execution_count": 71,
          "output_type": "execute_result",
          "data": {
            "text/plain": "array([[ 2,  3],\n       [ 6,  7],\n       [10, 11]])"
          },
          "metadata": {}
        }
      ],
      "execution_count": 71
    },
    {
      "id": "10ff9bcf-b3ee-4826-a682-5ee3afc14d9a",
      "cell_type": "code",
      "source": "m1[0: , 1::2]",
      "metadata": {
        "trusted": true
      },
      "outputs": [
        {
          "execution_count": 73,
          "output_type": "execute_result",
          "data": {
            "text/plain": "array([[ 1,  3],\n       [ 5,  7],\n       [ 9, 11]])"
          },
          "metadata": {}
        }
      ],
      "execution_count": 73
    },
    {
      "id": "e7308692-7497-482a-bf77-78885c66ebcd",
      "cell_type": "code",
      "source": "m1[:,(1,3)]",
      "metadata": {
        "trusted": true
      },
      "outputs": [
        {
          "execution_count": 74,
          "output_type": "execute_result",
          "data": {
            "text/plain": "array([[ 1,  3],\n       [ 5,  7],\n       [ 9, 11]])"
          },
          "metadata": {}
        }
      ],
      "execution_count": 74
    },
    {
      "id": "162e0a61-6bb0-4318-834a-e29fe7b9e7ef",
      "cell_type": "code",
      "source": "m1 = np.arange(12).reshape(3,4)\nm1 < 6",
      "metadata": {
        "trusted": true
      },
      "outputs": [
        {
          "execution_count": 78,
          "output_type": "execute_result",
          "data": {
            "text/plain": "array([[ True,  True,  True,  True],\n       [ True,  True, False, False],\n       [False, False, False, False]])"
          },
          "metadata": {}
        }
      ],
      "execution_count": 78
    },
    {
      "id": "27f3daa2-9d09-4464-bb19-ace72240f4cc",
      "cell_type": "code",
      "source": "m1[m1<6]",
      "metadata": {
        "trusted": true
      },
      "outputs": [
        {
          "execution_count": 79,
          "output_type": "execute_result",
          "data": {
            "text/plain": "array([0, 1, 2, 3, 4, 5])"
          },
          "metadata": {}
        }
      ],
      "execution_count": 79
    },
    {
      "id": "eaa11d60-ee55-4d73-b47c-cf94b3428f3e",
      "cell_type": "code",
      "source": "m1[m1%2==0].reshape(2,3)",
      "metadata": {
        "trusted": true
      },
      "outputs": [
        {
          "execution_count": 82,
          "output_type": "execute_result",
          "data": {
            "text/plain": "array([[ 0,  2,  4],\n       [ 6,  8, 10]])"
          },
          "metadata": {}
        }
      ],
      "execution_count": 82
    },
    {
      "id": "543acc8c-8ee6-4dab-9336-efb9c55fcd3c",
      "cell_type": "code",
      "source": "a = np.array([1,2,3])\nb = np.array([2,3,4])\na+b",
      "metadata": {
        "trusted": true
      },
      "outputs": [
        {
          "execution_count": 84,
          "output_type": "execute_result",
          "data": {
            "text/plain": "array([3, 5, 7])"
          },
          "metadata": {}
        }
      ],
      "execution_count": 84
    },
    {
      "id": "abd38611-e8e2-4ea8-8779-8176eb57cb05",
      "cell_type": "code",
      "source": "a * b",
      "metadata": {
        "trusted": true
      },
      "outputs": [
        {
          "execution_count": 85,
          "output_type": "execute_result",
          "data": {
            "text/plain": "array([ 2,  6, 12])"
          },
          "metadata": {}
        }
      ],
      "execution_count": 85
    },
    {
      "id": "60c3e195-e7e7-4a1a-b44b-8ce24d4f8048",
      "cell_type": "code",
      "source": "A = np.arange(12).reshape(3,4)\nA",
      "metadata": {
        "trusted": true
      },
      "outputs": [
        {
          "execution_count": 90,
          "output_type": "execute_result",
          "data": {
            "text/plain": "array([[ 0,  1,  2,  3],\n       [ 4,  5,  6,  7],\n       [ 8,  9, 10, 11]])"
          },
          "metadata": {}
        }
      ],
      "execution_count": 90
    },
    {
      "id": "524a5c57-04e6-468e-8894-6d83b99a0576",
      "cell_type": "code",
      "source": "B = np.arange(12).reshape(4,3)\nB",
      "metadata": {
        "trusted": true
      },
      "outputs": [
        {
          "execution_count": 94,
          "output_type": "execute_result",
          "data": {
            "text/plain": "array([[ 0,  1,  2],\n       [ 3,  4,  5],\n       [ 6,  7,  8],\n       [ 9, 10, 11]])"
          },
          "metadata": {}
        }
      ],
      "execution_count": 94
    },
    {
      "id": "933e82e4-8289-4432-8ac7-344c3b8158a7",
      "cell_type": "code",
      "source": "np.matmul(A,B)",
      "metadata": {
        "trusted": true
      },
      "outputs": [
        {
          "execution_count": 97,
          "output_type": "execute_result",
          "data": {
            "text/plain": "array([[ 42,  48,  54],\n       [114, 136, 158],\n       [186, 224, 262]])"
          },
          "metadata": {}
        }
      ],
      "execution_count": 97
    },
    {
      "id": "214138a8-5349-401f-a160-e5260732fbd6",
      "cell_type": "code",
      "source": "A @ B",
      "metadata": {
        "trusted": true
      },
      "outputs": [
        {
          "execution_count": 98,
          "output_type": "execute_result",
          "data": {
            "text/plain": "array([[ 42,  48,  54],\n       [114, 136, 158],\n       [186, 224, 262]])"
          },
          "metadata": {}
        }
      ],
      "execution_count": 98
    },
    {
      "id": "82659019-0a3b-4687-8df4-e0c27d780e29",
      "cell_type": "code",
      "source": "B @ A",
      "metadata": {
        "trusted": true
      },
      "outputs": [
        {
          "execution_count": 99,
          "output_type": "execute_result",
          "data": {
            "text/plain": "array([[ 20,  23,  26,  29],\n       [ 56,  68,  80,  92],\n       [ 92, 113, 134, 155],\n       [128, 158, 188, 218]])"
          },
          "metadata": {}
        }
      ],
      "execution_count": 99
    },
    {
      "id": "95cd28a9-7ec2-4bb8-bf5b-5c6bb821f96b",
      "cell_type": "code",
      "source": "np.dot(A,B)",
      "metadata": {
        "trusted": true
      },
      "outputs": [
        {
          "execution_count": 100,
          "output_type": "execute_result",
          "data": {
            "text/plain": "array([[ 42,  48,  54],\n       [114, 136, 158],\n       [186, 224, 262]])"
          },
          "metadata": {}
        }
      ],
      "execution_count": 100
    },
    {
      "id": "334879e1-8fbe-4ab7-b059-d4407191ec09",
      "cell_type": "code",
      "source": "A = np.arange(12).reshape(3,4)\nA",
      "metadata": {
        "trusted": true
      },
      "outputs": [
        {
          "execution_count": 101,
          "output_type": "execute_result",
          "data": {
            "text/plain": "array([[ 0,  1,  2,  3],\n       [ 4,  5,  6,  7],\n       [ 8,  9, 10, 11]])"
          },
          "metadata": {}
        }
      ],
      "execution_count": 101
    },
    {
      "id": "c6eda828-1dde-4e48-8cfe-4dbe0d0d78ec",
      "cell_type": "code",
      "source": "a = np.array([1,2,3])\na",
      "metadata": {
        "trusted": true
      },
      "outputs": [
        {
          "execution_count": 102,
          "output_type": "execute_result",
          "data": {
            "text/plain": "array([1, 2, 3])"
          },
          "metadata": {}
        }
      ],
      "execution_count": 102
    },
    {
      "id": "a262e1c9-b8b8-4bc0-8cef-ca76ada1592c",
      "cell_type": "code",
      "source": "np.dot(a,A)",
      "metadata": {
        "trusted": true
      },
      "outputs": [
        {
          "execution_count": 109,
          "output_type": "execute_result",
          "data": {
            "text/plain": "array([32, 38, 44, 50])"
          },
          "metadata": {}
        }
      ],
      "execution_count": 109
    },
    {
      "id": "7c4e866b-55a4-44e8-9314-51590f04fb48",
      "cell_type": "code",
      "source": "np.matmul(a,A)",
      "metadata": {
        "trusted": true
      },
      "outputs": [
        {
          "execution_count": 110,
          "output_type": "execute_result",
          "data": {
            "text/plain": "array([32, 38, 44, 50])"
          },
          "metadata": {}
        }
      ],
      "execution_count": 110
    },
    {
      "id": "48ea4f00-d435-48f8-bcc5-d6778d3b28f8",
      "cell_type": "code",
      "source": "a @ A",
      "metadata": {
        "trusted": true
      },
      "outputs": [
        {
          "execution_count": 111,
          "output_type": "execute_result",
          "data": {
            "text/plain": "array([32, 38, 44, 50])"
          },
          "metadata": {}
        }
      ],
      "execution_count": 111
    },
    {
      "id": "c9cd7a9d-e37a-4b17-94a6-0f9ee7c94367",
      "cell_type": "code",
      "source": "a = np.arange(3)\na.T",
      "metadata": {
        "trusted": true
      },
      "outputs": [
        {
          "execution_count": 112,
          "output_type": "execute_result",
          "data": {
            "text/plain": "array([0, 1, 2])"
          },
          "metadata": {}
        }
      ],
      "execution_count": 112
    },
    {
      "id": "27f00bf2-d3ef-465e-9b08-b17f7d7c1f5e",
      "cell_type": "code",
      "source": "a = np.arange(3).reshape(1,3)\nprint(a)\na.T",
      "metadata": {
        "trusted": true
      },
      "outputs": [
        {
          "name": "stdout",
          "output_type": "stream",
          "text": "[[0 1 2]]\n"
        },
        {
          "execution_count": 115,
          "output_type": "execute_result",
          "data": {
            "text/plain": "array([[0],\n       [1],\n       [2]])"
          },
          "metadata": {}
        }
      ],
      "execution_count": 115
    },
    {
      "id": "88e151e7-ddcb-4fb6-b908-b190c966536f",
      "cell_type": "code",
      "source": "A.flatten()",
      "metadata": {
        "trusted": true
      },
      "outputs": [
        {
          "execution_count": 117,
          "output_type": "execute_result",
          "data": {
            "text/plain": "array([ 0,  1,  2,  3,  4,  5,  6,  7,  8,  9, 10, 11])"
          },
          "metadata": {}
        }
      ],
      "execution_count": 117
    },
    {
      "id": "5b2f6760-4ec6-4777-b922-a8daea67e593",
      "cell_type": "code",
      "source": "A.ravel()",
      "metadata": {
        "trusted": true
      },
      "outputs": [
        {
          "execution_count": 119,
          "output_type": "execute_result",
          "data": {
            "text/plain": "array([ 0,  1,  2,  3,  4,  5,  6,  7,  8,  9, 10, 11])"
          },
          "metadata": {}
        }
      ],
      "execution_count": 119
    },
    {
      "id": "099b41eb-d0ed-41df-a73f-30ac0009d255",
      "cell_type": "code",
      "source": "A.reshape(12,)",
      "metadata": {
        "trusted": true
      },
      "outputs": [
        {
          "execution_count": 122,
          "output_type": "execute_result",
          "data": {
            "text/plain": "array([ 0,  1,  2,  3,  4,  5,  6,  7,  8,  9, 10, 11])"
          },
          "metadata": {}
        }
      ],
      "execution_count": 122
    },
    {
      "id": "5d11aff6-0067-4f3f-89e7-31a6240e193c",
      "cell_type": "raw",
      "source": "print(A)",
      "metadata": {}
    },
    {
      "id": "c4ecca5e-582e-40ee-b8e5-fdb5aa6e7713",
      "cell_type": "code",
      "source": "A.shape",
      "metadata": {
        "trusted": true
      },
      "outputs": [
        {
          "execution_count": 124,
          "output_type": "execute_result",
          "data": {
            "text/plain": "(3, 4)"
          },
          "metadata": {}
        }
      ],
      "execution_count": 124
    },
    {
      "id": "ae9a226c-6a80-4fd0-82ec-2df4c7418d99",
      "cell_type": "code",
      "source": "A.reshape(6,-1)",
      "metadata": {
        "trusted": true
      },
      "outputs": [
        {
          "execution_count": 125,
          "output_type": "execute_result",
          "data": {
            "text/plain": "array([[ 0,  1],\n       [ 2,  3],\n       [ 4,  5],\n       [ 6,  7],\n       [ 8,  9],\n       [10, 11]])"
          },
          "metadata": {}
        }
      ],
      "execution_count": 125
    },
    {
      "id": "80752fc1-a9ed-4d36-a681-16574abea773",
      "cell_type": "code",
      "source": "A.reshape(-1,6)",
      "metadata": {
        "trusted": true
      },
      "outputs": [
        {
          "execution_count": 126,
          "output_type": "execute_result",
          "data": {
            "text/plain": "array([[ 0,  1,  2,  3,  4,  5],\n       [ 6,  7,  8,  9, 10, 11]])"
          },
          "metadata": {}
        }
      ],
      "execution_count": 126
    },
    {
      "id": "7045bf69-2d33-4d76-b216-dae8d2c79046",
      "cell_type": "code",
      "source": "B = np.arange(24).reshape(2,3,4)\nB",
      "metadata": {
        "trusted": true
      },
      "outputs": [
        {
          "execution_count": 127,
          "output_type": "execute_result",
          "data": {
            "text/plain": "array([[[ 0,  1,  2,  3],\n        [ 4,  5,  6,  7],\n        [ 8,  9, 10, 11]],\n\n       [[12, 13, 14, 15],\n        [16, 17, 18, 19],\n        [20, 21, 22, 23]]])"
          },
          "metadata": {}
        }
      ],
      "execution_count": 127
    },
    {
      "id": "f5722cd0-e393-4a06-8708-fc06a4257b8a",
      "cell_type": "code",
      "source": "B[0,0,0]",
      "metadata": {
        "trusted": true
      },
      "outputs": [
        {
          "execution_count": 128,
          "output_type": "execute_result",
          "data": {
            "text/plain": "np.int32(0)"
          },
          "metadata": {}
        }
      ],
      "execution_count": 128
    },
    {
      "id": "3a8013a0-aad2-447f-8c54-6dc2d21b14c6",
      "cell_type": "code",
      "source": "B[1,1,1]",
      "metadata": {
        "trusted": true
      },
      "outputs": [
        {
          "execution_count": 129,
          "output_type": "execute_result",
          "data": {
            "text/plain": "np.int32(17)"
          },
          "metadata": {}
        }
      ],
      "execution_count": 129
    },
    {
      "id": "5aed31b7-b512-46bd-af63-778bdf2ab2a6",
      "cell_type": "code",
      "source": " A = np.arange(12).reshape(4,3)\nA",
      "metadata": {
        "trusted": true
      },
      "outputs": [
        {
          "execution_count": 135,
          "output_type": "execute_result",
          "data": {
            "text/plain": "array([[ 0,  1,  2],\n       [ 3,  4,  5],\n       [ 6,  7,  8],\n       [ 9, 10, 11]])"
          },
          "metadata": {}
        }
      ],
      "execution_count": 135
    },
    {
      "id": "b53dd5f6-647f-4456-a810-21399966a202",
      "cell_type": "code",
      "source": "B = np.arange(3).reshape(1,3)\nB",
      "metadata": {
        "trusted": true
      },
      "outputs": [
        {
          "execution_count": 131,
          "output_type": "execute_result",
          "data": {
            "text/plain": "array([[0, 1, 2]])"
          },
          "metadata": {}
        }
      ],
      "execution_count": 131
    },
    {
      "id": "d80968c8-c71b-4a7c-94a1-92fa2a4c36b8",
      "cell_type": "code",
      "source": "print(A.shape, B.shape)",
      "metadata": {
        "trusted": true
      },
      "outputs": [
        {
          "name": "stdout",
          "output_type": "stream",
          "text": "(3, 4) (1, 3)\n"
        }
      ],
      "execution_count": 132
    },
    {
      "id": "7b82c2df-e81c-4216-a3d4-278b6a52c3a2",
      "cell_type": "code",
      "source": "A + B",
      "metadata": {
        "trusted": true
      },
      "outputs": [
        {
          "execution_count": 136,
          "output_type": "execute_result",
          "data": {
            "text/plain": "array([[ 0,  2,  4],\n       [ 3,  5,  7],\n       [ 6,  8, 10],\n       [ 9, 11, 13]])"
          },
          "metadata": {}
        }
      ],
      "execution_count": 136
    },
    {
      "id": "098cf91f-c58c-4490-952d-439d6a85c060",
      "cell_type": "code",
      "source": "np.random.randint(1,10,50)",
      "metadata": {
        "trusted": true
      },
      "outputs": [
        {
          "execution_count": 138,
          "output_type": "execute_result",
          "data": {
            "text/plain": "array([6, 3, 5, 5, 7, 3, 7, 5, 3, 8, 8, 1, 8, 1, 8, 2, 1, 5, 7, 6, 3, 5,\n       3, 9, 1, 8, 6, 3, 4, 9, 9, 9, 8, 8, 6, 7, 9, 6, 4, 4, 1, 9, 1, 1,\n       9, 4, 9, 5, 9, 2])"
          },
          "metadata": {}
        }
      ],
      "execution_count": 138
    },
    {
      "id": "30ff51d3-6d52-4d6b-b8c0-47f077285537",
      "cell_type": "code",
      "source": "np.random.rand(100)",
      "metadata": {
        "trusted": true
      },
      "outputs": [
        {
          "execution_count": 139,
          "output_type": "execute_result",
          "data": {
            "text/plain": "array([0.11257084, 0.69846015, 0.30934157, 0.12895401, 0.06976992,\n       0.43346625, 0.2449557 , 0.44361363, 0.32549802, 0.26359976,\n       0.67989046, 0.60117118, 0.5794835 , 0.4880172 , 0.18205405,\n       0.39080243, 0.28558601, 0.53919784, 0.23368529, 0.56200987,\n       0.47065998, 0.2609477 , 0.02373787, 0.77258198, 0.26056069,\n       0.63100941, 0.19605066, 0.04074132, 0.69760788, 0.93513809,\n       0.14573276, 0.67300338, 0.03875091, 0.84508558, 0.74633991,\n       0.86354545, 0.47172711, 0.71110465, 0.03921744, 0.08051063,\n       0.4675484 , 0.38516007, 0.98735724, 0.15486345, 0.1830957 ,\n       0.30149676, 0.10874108, 0.80404835, 0.96134492, 0.10691433,\n       0.88188706, 0.25144239, 0.34632601, 0.89479131, 0.13249076,\n       0.89563812, 0.30130412, 0.10214285, 0.7136689 , 0.41243153,\n       0.76020186, 0.16141792, 0.10259448, 0.29664332, 0.5591041 ,\n       0.1135993 , 0.09153797, 0.91001173, 0.93771443, 0.69539182,\n       0.3486481 , 0.86336247, 0.02047237, 0.06215262, 0.33349701,\n       0.52906306, 0.71211298, 0.8881086 , 0.11644582, 0.38976143,\n       0.14013196, 0.20722726, 0.15614461, 0.64092151, 0.10308684,\n       0.59573881, 0.20186674, 0.43427443, 0.13878428, 0.27880258,\n       0.30815052, 0.38270599, 0.74446501, 0.70891961, 0.81860199,\n       0.71482381, 0.42771313, 0.05465194, 0.98485258, 0.36490135])"
          },
          "metadata": {}
        }
      ],
      "execution_count": 139
    },
    {
      "id": "fdc38a66-e08a-4116-b609-2d16b566a38c",
      "cell_type": "code",
      "source": "50+ np.random.rand(3)*25",
      "metadata": {
        "trusted": true
      },
      "outputs": [
        {
          "execution_count": 143,
          "output_type": "execute_result",
          "data": {
            "text/plain": "array([67.54083515, 71.95718083, 67.41873073])"
          },
          "metadata": {}
        }
      ],
      "execution_count": 143
    },
    {
      "id": "c6674612-e7f1-4602-ab96-9b7800472e58",
      "cell_type": "code",
      "source": "",
      "metadata": {
        "trusted": true
      },
      "outputs": [],
      "execution_count": null
    }
  ]
}