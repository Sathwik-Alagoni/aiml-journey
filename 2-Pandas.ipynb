{
  "metadata": {
    "kernelspec": {
      "name": "python",
      "display_name": "Python (Pyodide)",
      "language": "python"
    },
    "language_info": {
      "codemirror_mode": {
        "name": "python",
        "version": 3
      },
      "file_extension": ".py",
      "mimetype": "text/x-python",
      "name": "python",
      "nbconvert_exporter": "python",
      "pygments_lexer": "ipython3",
      "version": "3.8"
    }
  },
  "nbformat_minor": 5,
  "nbformat": 4,
  "cells": [
    {
      "id": "6ba518f1-896a-42fd-96de-d51481dee201",
      "cell_type": "code",
      "source": "import pandas as pd",
      "metadata": {
        "trusted": true
      },
      "outputs": [],
      "execution_count": 2
    },
    {
      "id": "b44b6e4b-21da-4d25-b388-5fc14bbae7d2",
      "cell_type": "code",
      "source": "df = pd.read_csv('data/gapminder-unclean.csv')\ndf",
      "metadata": {
        "trusted": true
      },
      "outputs": [
        {
          "execution_count": 3,
          "output_type": "execute_result",
          "data": {
            "text/plain": "          country continent  year  lifeExp       pop   gdpPercap iso_alpha\n0     Afghanistan      Asia  1952   28.801   8425333  779.445314       AFG\n1     Afghanistan      Asia  1957   30.332   9240934  820.853030       AFG\n2     Afghanistan      Asia  1962   31.997  10267083  853.100710       AFG\n3     Afghanistan      Asia  1967   34.020  11537966  836.197138       AFG\n4     Afghanistan      Asia  1972   36.088  13079460  739.981106       AFG\n...           ...       ...   ...      ...       ...         ...       ...\n1699     Zimbabwe    Africa  1987   62.351   9216418  706.157306       ZWE\n1700     Zimbabwe    Africa  1992   60.377  10704340  693.420786       ZWE\n1701     Zimbabwe    Africa  1997   46.809  11404948  792.449960       ZWE\n1702     Zimbabwe    Africa  2002   39.989  11926563  672.038623       ZWE\n1703     Zimbabwe    Africa  2007   43.487  12311143  469.709298       ZWE\n\n[1704 rows x 7 columns]",
            "text/html": "<div>\n<style scoped>\n    .dataframe tbody tr th:only-of-type {\n        vertical-align: middle;\n    }\n\n    .dataframe tbody tr th {\n        vertical-align: top;\n    }\n\n    .dataframe thead th {\n        text-align: right;\n    }\n</style>\n<table border=\"1\" class=\"dataframe\">\n  <thead>\n    <tr style=\"text-align: right;\">\n      <th></th>\n      <th>country</th>\n      <th>continent</th>\n      <th>year</th>\n      <th>lifeExp</th>\n      <th>pop</th>\n      <th>gdpPercap</th>\n      <th>iso_alpha</th>\n    </tr>\n  </thead>\n  <tbody>\n    <tr>\n      <th>0</th>\n      <td>Afghanistan</td>\n      <td>Asia</td>\n      <td>1952</td>\n      <td>28.801</td>\n      <td>8425333</td>\n      <td>779.445314</td>\n      <td>AFG</td>\n    </tr>\n    <tr>\n      <th>1</th>\n      <td>Afghanistan</td>\n      <td>Asia</td>\n      <td>1957</td>\n      <td>30.332</td>\n      <td>9240934</td>\n      <td>820.853030</td>\n      <td>AFG</td>\n    </tr>\n    <tr>\n      <th>2</th>\n      <td>Afghanistan</td>\n      <td>Asia</td>\n      <td>1962</td>\n      <td>31.997</td>\n      <td>10267083</td>\n      <td>853.100710</td>\n      <td>AFG</td>\n    </tr>\n    <tr>\n      <th>3</th>\n      <td>Afghanistan</td>\n      <td>Asia</td>\n      <td>1967</td>\n      <td>34.020</td>\n      <td>11537966</td>\n      <td>836.197138</td>\n      <td>AFG</td>\n    </tr>\n    <tr>\n      <th>4</th>\n      <td>Afghanistan</td>\n      <td>Asia</td>\n      <td>1972</td>\n      <td>36.088</td>\n      <td>13079460</td>\n      <td>739.981106</td>\n      <td>AFG</td>\n    </tr>\n    <tr>\n      <th>...</th>\n      <td>...</td>\n      <td>...</td>\n      <td>...</td>\n      <td>...</td>\n      <td>...</td>\n      <td>...</td>\n      <td>...</td>\n    </tr>\n    <tr>\n      <th>1699</th>\n      <td>Zimbabwe</td>\n      <td>Africa</td>\n      <td>1987</td>\n      <td>62.351</td>\n      <td>9216418</td>\n      <td>706.157306</td>\n      <td>ZWE</td>\n    </tr>\n    <tr>\n      <th>1700</th>\n      <td>Zimbabwe</td>\n      <td>Africa</td>\n      <td>1992</td>\n      <td>60.377</td>\n      <td>10704340</td>\n      <td>693.420786</td>\n      <td>ZWE</td>\n    </tr>\n    <tr>\n      <th>1701</th>\n      <td>Zimbabwe</td>\n      <td>Africa</td>\n      <td>1997</td>\n      <td>46.809</td>\n      <td>11404948</td>\n      <td>792.449960</td>\n      <td>ZWE</td>\n    </tr>\n    <tr>\n      <th>1702</th>\n      <td>Zimbabwe</td>\n      <td>Africa</td>\n      <td>2002</td>\n      <td>39.989</td>\n      <td>11926563</td>\n      <td>672.038623</td>\n      <td>ZWE</td>\n    </tr>\n    <tr>\n      <th>1703</th>\n      <td>Zimbabwe</td>\n      <td>Africa</td>\n      <td>2007</td>\n      <td>43.487</td>\n      <td>12311143</td>\n      <td>469.709298</td>\n      <td>ZWE</td>\n    </tr>\n  </tbody>\n</table>\n<p>1704 rows × 7 columns</p>\n</div>"
          },
          "metadata": {}
        }
      ],
      "execution_count": 3
    },
    {
      "id": "9ba6d8ad-06be-42c7-97eb-6e793ba9fa28",
      "cell_type": "code",
      "source": "df.head(5)",
      "metadata": {
        "trusted": true
      },
      "outputs": [
        {
          "execution_count": 4,
          "output_type": "execute_result",
          "data": {
            "text/plain": "       country continent  year  lifeExp       pop   gdpPercap iso_alpha\n0  Afghanistan      Asia  1952   28.801   8425333  779.445314       AFG\n1  Afghanistan      Asia  1957   30.332   9240934  820.853030       AFG\n2  Afghanistan      Asia  1962   31.997  10267083  853.100710       AFG\n3  Afghanistan      Asia  1967   34.020  11537966  836.197138       AFG\n4  Afghanistan      Asia  1972   36.088  13079460  739.981106       AFG",
            "text/html": "<div>\n<style scoped>\n    .dataframe tbody tr th:only-of-type {\n        vertical-align: middle;\n    }\n\n    .dataframe tbody tr th {\n        vertical-align: top;\n    }\n\n    .dataframe thead th {\n        text-align: right;\n    }\n</style>\n<table border=\"1\" class=\"dataframe\">\n  <thead>\n    <tr style=\"text-align: right;\">\n      <th></th>\n      <th>country</th>\n      <th>continent</th>\n      <th>year</th>\n      <th>lifeExp</th>\n      <th>pop</th>\n      <th>gdpPercap</th>\n      <th>iso_alpha</th>\n    </tr>\n  </thead>\n  <tbody>\n    <tr>\n      <th>0</th>\n      <td>Afghanistan</td>\n      <td>Asia</td>\n      <td>1952</td>\n      <td>28.801</td>\n      <td>8425333</td>\n      <td>779.445314</td>\n      <td>AFG</td>\n    </tr>\n    <tr>\n      <th>1</th>\n      <td>Afghanistan</td>\n      <td>Asia</td>\n      <td>1957</td>\n      <td>30.332</td>\n      <td>9240934</td>\n      <td>820.853030</td>\n      <td>AFG</td>\n    </tr>\n    <tr>\n      <th>2</th>\n      <td>Afghanistan</td>\n      <td>Asia</td>\n      <td>1962</td>\n      <td>31.997</td>\n      <td>10267083</td>\n      <td>853.100710</td>\n      <td>AFG</td>\n    </tr>\n    <tr>\n      <th>3</th>\n      <td>Afghanistan</td>\n      <td>Asia</td>\n      <td>1967</td>\n      <td>34.020</td>\n      <td>11537966</td>\n      <td>836.197138</td>\n      <td>AFG</td>\n    </tr>\n    <tr>\n      <th>4</th>\n      <td>Afghanistan</td>\n      <td>Asia</td>\n      <td>1972</td>\n      <td>36.088</td>\n      <td>13079460</td>\n      <td>739.981106</td>\n      <td>AFG</td>\n    </tr>\n  </tbody>\n</table>\n</div>"
          },
          "metadata": {}
        }
      ],
      "execution_count": 4
    },
    {
      "id": "01092b4f-5e6c-465e-b95c-07cdd83cc2e1",
      "cell_type": "code",
      "source": "df.tail()",
      "metadata": {
        "trusted": true
      },
      "outputs": [
        {
          "execution_count": 5,
          "output_type": "execute_result",
          "data": {
            "text/plain": "       country continent  year  lifeExp       pop   gdpPercap iso_alpha\n1699  Zimbabwe    Africa  1987   62.351   9216418  706.157306       ZWE\n1700  Zimbabwe    Africa  1992   60.377  10704340  693.420786       ZWE\n1701  Zimbabwe    Africa  1997   46.809  11404948  792.449960       ZWE\n1702  Zimbabwe    Africa  2002   39.989  11926563  672.038623       ZWE\n1703  Zimbabwe    Africa  2007   43.487  12311143  469.709298       ZWE",
            "text/html": "<div>\n<style scoped>\n    .dataframe tbody tr th:only-of-type {\n        vertical-align: middle;\n    }\n\n    .dataframe tbody tr th {\n        vertical-align: top;\n    }\n\n    .dataframe thead th {\n        text-align: right;\n    }\n</style>\n<table border=\"1\" class=\"dataframe\">\n  <thead>\n    <tr style=\"text-align: right;\">\n      <th></th>\n      <th>country</th>\n      <th>continent</th>\n      <th>year</th>\n      <th>lifeExp</th>\n      <th>pop</th>\n      <th>gdpPercap</th>\n      <th>iso_alpha</th>\n    </tr>\n  </thead>\n  <tbody>\n    <tr>\n      <th>1699</th>\n      <td>Zimbabwe</td>\n      <td>Africa</td>\n      <td>1987</td>\n      <td>62.351</td>\n      <td>9216418</td>\n      <td>706.157306</td>\n      <td>ZWE</td>\n    </tr>\n    <tr>\n      <th>1700</th>\n      <td>Zimbabwe</td>\n      <td>Africa</td>\n      <td>1992</td>\n      <td>60.377</td>\n      <td>10704340</td>\n      <td>693.420786</td>\n      <td>ZWE</td>\n    </tr>\n    <tr>\n      <th>1701</th>\n      <td>Zimbabwe</td>\n      <td>Africa</td>\n      <td>1997</td>\n      <td>46.809</td>\n      <td>11404948</td>\n      <td>792.449960</td>\n      <td>ZWE</td>\n    </tr>\n    <tr>\n      <th>1702</th>\n      <td>Zimbabwe</td>\n      <td>Africa</td>\n      <td>2002</td>\n      <td>39.989</td>\n      <td>11926563</td>\n      <td>672.038623</td>\n      <td>ZWE</td>\n    </tr>\n    <tr>\n      <th>1703</th>\n      <td>Zimbabwe</td>\n      <td>Africa</td>\n      <td>2007</td>\n      <td>43.487</td>\n      <td>12311143</td>\n      <td>469.709298</td>\n      <td>ZWE</td>\n    </tr>\n  </tbody>\n</table>\n</div>"
          },
          "metadata": {}
        }
      ],
      "execution_count": 5
    },
    {
      "id": "565036b8-108a-4726-ba9c-04fe1597fc75",
      "cell_type": "code",
      "source": "type(df)",
      "metadata": {
        "trusted": true
      },
      "outputs": [
        {
          "execution_count": 6,
          "output_type": "execute_result",
          "data": {
            "text/plain": "pandas.core.frame.DataFrame"
          },
          "metadata": {}
        }
      ],
      "execution_count": 6
    },
    {
      "id": "d0365546-7176-42fa-8524-eccee9cf86e4",
      "cell_type": "code",
      "source": "df.shape",
      "metadata": {
        "trusted": true
      },
      "outputs": [
        {
          "execution_count": 7,
          "output_type": "execute_result",
          "data": {
            "text/plain": "(1704, 7)"
          },
          "metadata": {}
        }
      ],
      "execution_count": 7
    },
    {
      "id": "1e24deb7-6fad-4d27-b8af-740105b717d7",
      "cell_type": "code",
      "source": "df.info()",
      "metadata": {
        "trusted": true
      },
      "outputs": [
        {
          "name": "stdout",
          "output_type": "stream",
          "text": "<class 'pandas.core.frame.DataFrame'>\nRangeIndex: 1704 entries, 0 to 1703\nData columns (total 7 columns):\n #   Column     Non-Null Count  Dtype  \n---  ------     --------------  -----  \n 0   country    1704 non-null   object \n 1   continent  1692 non-null   object \n 2   year       1704 non-null   int64  \n 3   lifeExp    1703 non-null   float64\n 4   pop        1704 non-null   int64  \n 5   gdpPercap  1703 non-null   float64\n 6   iso_alpha  1704 non-null   object \ndtypes: float64(2), int64(2), object(3)\nmemory usage: 73.3+ KB\n"
        }
      ],
      "execution_count": 8
    },
    {
      "id": "a5012be3-901f-4c53-bd8c-7f443989fa42",
      "cell_type": "code",
      "source": "df.describe()",
      "metadata": {
        "trusted": true
      },
      "outputs": [
        {
          "execution_count": 9,
          "output_type": "execute_result",
          "data": {
            "text/plain": "             year      lifeExp           pop      gdpPercap\ncount  1704.00000  1703.000000  1.704000e+03    1703.000000\nmean   1979.50000    59.476932  2.960121e+07    7211.034188\nstd      17.26533    12.920492  1.061579e+08    9858.756515\nmin    1952.00000    23.599000  6.001100e+04     241.165876\n25%    1965.75000    48.185000  2.793664e+06    1201.919257\n50%    1979.50000    60.765000  7.023596e+06    3530.690067\n75%    1993.25000    70.846000  1.958522e+07    9319.503534\nmax    2007.00000    82.603000  1.318683e+09  113523.132900",
            "text/html": "<div>\n<style scoped>\n    .dataframe tbody tr th:only-of-type {\n        vertical-align: middle;\n    }\n\n    .dataframe tbody tr th {\n        vertical-align: top;\n    }\n\n    .dataframe thead th {\n        text-align: right;\n    }\n</style>\n<table border=\"1\" class=\"dataframe\">\n  <thead>\n    <tr style=\"text-align: right;\">\n      <th></th>\n      <th>year</th>\n      <th>lifeExp</th>\n      <th>pop</th>\n      <th>gdpPercap</th>\n    </tr>\n  </thead>\n  <tbody>\n    <tr>\n      <th>count</th>\n      <td>1704.00000</td>\n      <td>1703.000000</td>\n      <td>1.704000e+03</td>\n      <td>1703.000000</td>\n    </tr>\n    <tr>\n      <th>mean</th>\n      <td>1979.50000</td>\n      <td>59.476932</td>\n      <td>2.960121e+07</td>\n      <td>7211.034188</td>\n    </tr>\n    <tr>\n      <th>std</th>\n      <td>17.26533</td>\n      <td>12.920492</td>\n      <td>1.061579e+08</td>\n      <td>9858.756515</td>\n    </tr>\n    <tr>\n      <th>min</th>\n      <td>1952.00000</td>\n      <td>23.599000</td>\n      <td>6.001100e+04</td>\n      <td>241.165876</td>\n    </tr>\n    <tr>\n      <th>25%</th>\n      <td>1965.75000</td>\n      <td>48.185000</td>\n      <td>2.793664e+06</td>\n      <td>1201.919257</td>\n    </tr>\n    <tr>\n      <th>50%</th>\n      <td>1979.50000</td>\n      <td>60.765000</td>\n      <td>7.023596e+06</td>\n      <td>3530.690067</td>\n    </tr>\n    <tr>\n      <th>75%</th>\n      <td>1993.25000</td>\n      <td>70.846000</td>\n      <td>1.958522e+07</td>\n      <td>9319.503534</td>\n    </tr>\n    <tr>\n      <th>max</th>\n      <td>2007.00000</td>\n      <td>82.603000</td>\n      <td>1.318683e+09</td>\n      <td>113523.132900</td>\n    </tr>\n  </tbody>\n</table>\n</div>"
          },
          "metadata": {}
        }
      ],
      "execution_count": 9
    },
    {
      "id": "2b89173e-b5b8-49a3-ab6a-8c7eb2dde719",
      "cell_type": "code",
      "source": "df.columns",
      "metadata": {
        "trusted": true
      },
      "outputs": [
        {
          "execution_count": 10,
          "output_type": "execute_result",
          "data": {
            "text/plain": "Index(['country', 'continent', 'year', 'lifeExp', 'pop', 'gdpPercap',\n       'iso_alpha'],\n      dtype='object')"
          },
          "metadata": {}
        }
      ],
      "execution_count": 10
    },
    {
      "id": "6daa508b-77c6-45dd-9f95-576b0c491a99",
      "cell_type": "code",
      "source": "df.keys()",
      "metadata": {
        "trusted": true
      },
      "outputs": [
        {
          "execution_count": 11,
          "output_type": "execute_result",
          "data": {
            "text/plain": "Index(['country', 'continent', 'year', 'lifeExp', 'pop', 'gdpPercap',\n       'iso_alpha'],\n      dtype='object')"
          },
          "metadata": {}
        }
      ],
      "execution_count": 11
    },
    {
      "id": "1089eb81-d667-43a8-a18f-05dc1a7c4843",
      "cell_type": "code",
      "source": "df['country'].head()",
      "metadata": {
        "trusted": true
      },
      "outputs": [
        {
          "execution_count": 12,
          "output_type": "execute_result",
          "data": {
            "text/plain": "0    Afghanistan\n1    Afghanistan\n2    Afghanistan\n3    Afghanistan\n4    Afghanistan\nName: country, dtype: object"
          },
          "metadata": {}
        }
      ],
      "execution_count": 12
    },
    {
      "id": "d05fde40-ad16-47df-96c8-dc5a9b878cd6",
      "cell_type": "code",
      "source": "df[['country','lifeExp']].head()",
      "metadata": {
        "trusted": true
      },
      "outputs": [
        {
          "execution_count": 13,
          "output_type": "execute_result",
          "data": {
            "text/plain": "       country  lifeExp\n0  Afghanistan   28.801\n1  Afghanistan   30.332\n2  Afghanistan   31.997\n3  Afghanistan   34.020\n4  Afghanistan   36.088",
            "text/html": "<div>\n<style scoped>\n    .dataframe tbody tr th:only-of-type {\n        vertical-align: middle;\n    }\n\n    .dataframe tbody tr th {\n        vertical-align: top;\n    }\n\n    .dataframe thead th {\n        text-align: right;\n    }\n</style>\n<table border=\"1\" class=\"dataframe\">\n  <thead>\n    <tr style=\"text-align: right;\">\n      <th></th>\n      <th>country</th>\n      <th>lifeExp</th>\n    </tr>\n  </thead>\n  <tbody>\n    <tr>\n      <th>0</th>\n      <td>Afghanistan</td>\n      <td>28.801</td>\n    </tr>\n    <tr>\n      <th>1</th>\n      <td>Afghanistan</td>\n      <td>30.332</td>\n    </tr>\n    <tr>\n      <th>2</th>\n      <td>Afghanistan</td>\n      <td>31.997</td>\n    </tr>\n    <tr>\n      <th>3</th>\n      <td>Afghanistan</td>\n      <td>34.020</td>\n    </tr>\n    <tr>\n      <th>4</th>\n      <td>Afghanistan</td>\n      <td>36.088</td>\n    </tr>\n  </tbody>\n</table>\n</div>"
          },
          "metadata": {}
        }
      ],
      "execution_count": 13
    },
    {
      "id": "10284430-2f40-4cf2-8fb0-e5d65f1979cb",
      "cell_type": "code",
      "source": "df.head()",
      "metadata": {
        "trusted": true
      },
      "outputs": [
        {
          "execution_count": 14,
          "output_type": "execute_result",
          "data": {
            "text/plain": "       country continent  year  lifeExp       pop   gdpPercap iso_alpha\n0  Afghanistan      Asia  1952   28.801   8425333  779.445314       AFG\n1  Afghanistan      Asia  1957   30.332   9240934  820.853030       AFG\n2  Afghanistan      Asia  1962   31.997  10267083  853.100710       AFG\n3  Afghanistan      Asia  1967   34.020  11537966  836.197138       AFG\n4  Afghanistan      Asia  1972   36.088  13079460  739.981106       AFG",
            "text/html": "<div>\n<style scoped>\n    .dataframe tbody tr th:only-of-type {\n        vertical-align: middle;\n    }\n\n    .dataframe tbody tr th {\n        vertical-align: top;\n    }\n\n    .dataframe thead th {\n        text-align: right;\n    }\n</style>\n<table border=\"1\" class=\"dataframe\">\n  <thead>\n    <tr style=\"text-align: right;\">\n      <th></th>\n      <th>country</th>\n      <th>continent</th>\n      <th>year</th>\n      <th>lifeExp</th>\n      <th>pop</th>\n      <th>gdpPercap</th>\n      <th>iso_alpha</th>\n    </tr>\n  </thead>\n  <tbody>\n    <tr>\n      <th>0</th>\n      <td>Afghanistan</td>\n      <td>Asia</td>\n      <td>1952</td>\n      <td>28.801</td>\n      <td>8425333</td>\n      <td>779.445314</td>\n      <td>AFG</td>\n    </tr>\n    <tr>\n      <th>1</th>\n      <td>Afghanistan</td>\n      <td>Asia</td>\n      <td>1957</td>\n      <td>30.332</td>\n      <td>9240934</td>\n      <td>820.853030</td>\n      <td>AFG</td>\n    </tr>\n    <tr>\n      <th>2</th>\n      <td>Afghanistan</td>\n      <td>Asia</td>\n      <td>1962</td>\n      <td>31.997</td>\n      <td>10267083</td>\n      <td>853.100710</td>\n      <td>AFG</td>\n    </tr>\n    <tr>\n      <th>3</th>\n      <td>Afghanistan</td>\n      <td>Asia</td>\n      <td>1967</td>\n      <td>34.020</td>\n      <td>11537966</td>\n      <td>836.197138</td>\n      <td>AFG</td>\n    </tr>\n    <tr>\n      <th>4</th>\n      <td>Afghanistan</td>\n      <td>Asia</td>\n      <td>1972</td>\n      <td>36.088</td>\n      <td>13079460</td>\n      <td>739.981106</td>\n      <td>AFG</td>\n    </tr>\n  </tbody>\n</table>\n</div>"
          },
          "metadata": {}
        }
      ],
      "execution_count": 14
    },
    {
      "id": "13c29c86-98a0-46b6-8c7b-892987179b12",
      "cell_type": "code",
      "source": "df.drop('continent',axis=1,inplace=True)",
      "metadata": {
        "trusted": true
      },
      "outputs": [],
      "execution_count": 15
    },
    {
      "id": "395bf36e-309b-4b35-8114-557690becbea",
      "cell_type": "code",
      "source": "df.head()",
      "metadata": {
        "trusted": true
      },
      "outputs": [
        {
          "execution_count": 16,
          "output_type": "execute_result",
          "data": {
            "text/plain": "       country  year  lifeExp       pop   gdpPercap iso_alpha\n0  Afghanistan  1952   28.801   8425333  779.445314       AFG\n1  Afghanistan  1957   30.332   9240934  820.853030       AFG\n2  Afghanistan  1962   31.997  10267083  853.100710       AFG\n3  Afghanistan  1967   34.020  11537966  836.197138       AFG\n4  Afghanistan  1972   36.088  13079460  739.981106       AFG",
            "text/html": "<div>\n<style scoped>\n    .dataframe tbody tr th:only-of-type {\n        vertical-align: middle;\n    }\n\n    .dataframe tbody tr th {\n        vertical-align: top;\n    }\n\n    .dataframe thead th {\n        text-align: right;\n    }\n</style>\n<table border=\"1\" class=\"dataframe\">\n  <thead>\n    <tr style=\"text-align: right;\">\n      <th></th>\n      <th>country</th>\n      <th>year</th>\n      <th>lifeExp</th>\n      <th>pop</th>\n      <th>gdpPercap</th>\n      <th>iso_alpha</th>\n    </tr>\n  </thead>\n  <tbody>\n    <tr>\n      <th>0</th>\n      <td>Afghanistan</td>\n      <td>1952</td>\n      <td>28.801</td>\n      <td>8425333</td>\n      <td>779.445314</td>\n      <td>AFG</td>\n    </tr>\n    <tr>\n      <th>1</th>\n      <td>Afghanistan</td>\n      <td>1957</td>\n      <td>30.332</td>\n      <td>9240934</td>\n      <td>820.853030</td>\n      <td>AFG</td>\n    </tr>\n    <tr>\n      <th>2</th>\n      <td>Afghanistan</td>\n      <td>1962</td>\n      <td>31.997</td>\n      <td>10267083</td>\n      <td>853.100710</td>\n      <td>AFG</td>\n    </tr>\n    <tr>\n      <th>3</th>\n      <td>Afghanistan</td>\n      <td>1967</td>\n      <td>34.020</td>\n      <td>11537966</td>\n      <td>836.197138</td>\n      <td>AFG</td>\n    </tr>\n    <tr>\n      <th>4</th>\n      <td>Afghanistan</td>\n      <td>1972</td>\n      <td>36.088</td>\n      <td>13079460</td>\n      <td>739.981106</td>\n      <td>AFG</td>\n    </tr>\n  </tbody>\n</table>\n</div>"
          },
          "metadata": {}
        }
      ],
      "execution_count": 16
    },
    {
      "id": "9393c6cd-0701-4a5f-9f32-357229826d9b",
      "cell_type": "code",
      "source": "df = pd.read_csv('data/gapminder-unclean.csv')\ndf",
      "metadata": {
        "trusted": true
      },
      "outputs": [
        {
          "execution_count": 17,
          "output_type": "execute_result",
          "data": {
            "text/plain": "          country continent  year  lifeExp       pop   gdpPercap iso_alpha\n0     Afghanistan      Asia  1952   28.801   8425333  779.445314       AFG\n1     Afghanistan      Asia  1957   30.332   9240934  820.853030       AFG\n2     Afghanistan      Asia  1962   31.997  10267083  853.100710       AFG\n3     Afghanistan      Asia  1967   34.020  11537966  836.197138       AFG\n4     Afghanistan      Asia  1972   36.088  13079460  739.981106       AFG\n...           ...       ...   ...      ...       ...         ...       ...\n1699     Zimbabwe    Africa  1987   62.351   9216418  706.157306       ZWE\n1700     Zimbabwe    Africa  1992   60.377  10704340  693.420786       ZWE\n1701     Zimbabwe    Africa  1997   46.809  11404948  792.449960       ZWE\n1702     Zimbabwe    Africa  2002   39.989  11926563  672.038623       ZWE\n1703     Zimbabwe    Africa  2007   43.487  12311143  469.709298       ZWE\n\n[1704 rows x 7 columns]",
            "text/html": "<div>\n<style scoped>\n    .dataframe tbody tr th:only-of-type {\n        vertical-align: middle;\n    }\n\n    .dataframe tbody tr th {\n        vertical-align: top;\n    }\n\n    .dataframe thead th {\n        text-align: right;\n    }\n</style>\n<table border=\"1\" class=\"dataframe\">\n  <thead>\n    <tr style=\"text-align: right;\">\n      <th></th>\n      <th>country</th>\n      <th>continent</th>\n      <th>year</th>\n      <th>lifeExp</th>\n      <th>pop</th>\n      <th>gdpPercap</th>\n      <th>iso_alpha</th>\n    </tr>\n  </thead>\n  <tbody>\n    <tr>\n      <th>0</th>\n      <td>Afghanistan</td>\n      <td>Asia</td>\n      <td>1952</td>\n      <td>28.801</td>\n      <td>8425333</td>\n      <td>779.445314</td>\n      <td>AFG</td>\n    </tr>\n    <tr>\n      <th>1</th>\n      <td>Afghanistan</td>\n      <td>Asia</td>\n      <td>1957</td>\n      <td>30.332</td>\n      <td>9240934</td>\n      <td>820.853030</td>\n      <td>AFG</td>\n    </tr>\n    <tr>\n      <th>2</th>\n      <td>Afghanistan</td>\n      <td>Asia</td>\n      <td>1962</td>\n      <td>31.997</td>\n      <td>10267083</td>\n      <td>853.100710</td>\n      <td>AFG</td>\n    </tr>\n    <tr>\n      <th>3</th>\n      <td>Afghanistan</td>\n      <td>Asia</td>\n      <td>1967</td>\n      <td>34.020</td>\n      <td>11537966</td>\n      <td>836.197138</td>\n      <td>AFG</td>\n    </tr>\n    <tr>\n      <th>4</th>\n      <td>Afghanistan</td>\n      <td>Asia</td>\n      <td>1972</td>\n      <td>36.088</td>\n      <td>13079460</td>\n      <td>739.981106</td>\n      <td>AFG</td>\n    </tr>\n    <tr>\n      <th>...</th>\n      <td>...</td>\n      <td>...</td>\n      <td>...</td>\n      <td>...</td>\n      <td>...</td>\n      <td>...</td>\n      <td>...</td>\n    </tr>\n    <tr>\n      <th>1699</th>\n      <td>Zimbabwe</td>\n      <td>Africa</td>\n      <td>1987</td>\n      <td>62.351</td>\n      <td>9216418</td>\n      <td>706.157306</td>\n      <td>ZWE</td>\n    </tr>\n    <tr>\n      <th>1700</th>\n      <td>Zimbabwe</td>\n      <td>Africa</td>\n      <td>1992</td>\n      <td>60.377</td>\n      <td>10704340</td>\n      <td>693.420786</td>\n      <td>ZWE</td>\n    </tr>\n    <tr>\n      <th>1701</th>\n      <td>Zimbabwe</td>\n      <td>Africa</td>\n      <td>1997</td>\n      <td>46.809</td>\n      <td>11404948</td>\n      <td>792.449960</td>\n      <td>ZWE</td>\n    </tr>\n    <tr>\n      <th>1702</th>\n      <td>Zimbabwe</td>\n      <td>Africa</td>\n      <td>2002</td>\n      <td>39.989</td>\n      <td>11926563</td>\n      <td>672.038623</td>\n      <td>ZWE</td>\n    </tr>\n    <tr>\n      <th>1703</th>\n      <td>Zimbabwe</td>\n      <td>Africa</td>\n      <td>2007</td>\n      <td>43.487</td>\n      <td>12311143</td>\n      <td>469.709298</td>\n      <td>ZWE</td>\n    </tr>\n  </tbody>\n</table>\n<p>1704 rows × 7 columns</p>\n</div>"
          },
          "metadata": {}
        }
      ],
      "execution_count": 17
    },
    {
      "id": "cf4ca6a9-7a4c-48a8-98c5-b633b5526e3b",
      "cell_type": "code",
      "source": "df.loc[3]",
      "metadata": {
        "trusted": true
      },
      "outputs": [
        {
          "execution_count": 18,
          "output_type": "execute_result",
          "data": {
            "text/plain": "country      Afghanistan\ncontinent           Asia\nyear                1967\nlifeExp            34.02\npop             11537966\ngdpPercap     836.197138\niso_alpha            AFG\nName: 3, dtype: object"
          },
          "metadata": {}
        }
      ],
      "execution_count": 18
    },
    {
      "id": "4410fb3a-bd5d-466d-83ff-885151a2cdb6",
      "cell_type": "code",
      "source": "df.iloc[3]",
      "metadata": {
        "trusted": true
      },
      "outputs": [
        {
          "execution_count": 19,
          "output_type": "execute_result",
          "data": {
            "text/plain": "country      Afghanistan\ncontinent           Asia\nyear                1967\nlifeExp            34.02\npop             11537966\ngdpPercap     836.197138\niso_alpha            AFG\nName: 3, dtype: object"
          },
          "metadata": {}
        }
      ],
      "execution_count": 19
    },
    {
      "id": "da0521d6-821d-4553-8777-bcaafcb5f52e",
      "cell_type": "code",
      "source": "df.iloc[[1,10]]",
      "metadata": {
        "trusted": true
      },
      "outputs": [
        {
          "execution_count": 20,
          "output_type": "execute_result",
          "data": {
            "text/plain": "        country continent  year  lifeExp       pop   gdpPercap iso_alpha\n1   Afghanistan      Asia  1957   30.332   9240934  820.853030       AFG\n10  Afghanistan      Asia  2002   42.129  25268405  726.734055       AFG",
            "text/html": "<div>\n<style scoped>\n    .dataframe tbody tr th:only-of-type {\n        vertical-align: middle;\n    }\n\n    .dataframe tbody tr th {\n        vertical-align: top;\n    }\n\n    .dataframe thead th {\n        text-align: right;\n    }\n</style>\n<table border=\"1\" class=\"dataframe\">\n  <thead>\n    <tr style=\"text-align: right;\">\n      <th></th>\n      <th>country</th>\n      <th>continent</th>\n      <th>year</th>\n      <th>lifeExp</th>\n      <th>pop</th>\n      <th>gdpPercap</th>\n      <th>iso_alpha</th>\n    </tr>\n  </thead>\n  <tbody>\n    <tr>\n      <th>1</th>\n      <td>Afghanistan</td>\n      <td>Asia</td>\n      <td>1957</td>\n      <td>30.332</td>\n      <td>9240934</td>\n      <td>820.853030</td>\n      <td>AFG</td>\n    </tr>\n    <tr>\n      <th>10</th>\n      <td>Afghanistan</td>\n      <td>Asia</td>\n      <td>2002</td>\n      <td>42.129</td>\n      <td>25268405</td>\n      <td>726.734055</td>\n      <td>AFG</td>\n    </tr>\n  </tbody>\n</table>\n</div>"
          },
          "metadata": {}
        }
      ],
      "execution_count": 20
    },
    {
      "id": "3438f265-d88d-4c9e-af94-04c170a8e249",
      "cell_type": "code",
      "source": "df.iloc[-1]",
      "metadata": {
        "trusted": true
      },
      "outputs": [
        {
          "execution_count": 21,
          "output_type": "execute_result",
          "data": {
            "text/plain": "country        Zimbabwe\ncontinent        Africa\nyear               2007\nlifeExp          43.487\npop            12311143\ngdpPercap    469.709298\niso_alpha           ZWE\nName: 1703, dtype: object"
          },
          "metadata": {}
        }
      ],
      "execution_count": 21
    },
    {
      "id": "c83c01bb-d558-4581-bdc8-08ab8ca5cf66",
      "cell_type": "code",
      "source": "df.loc[1703]",
      "metadata": {
        "trusted": true
      },
      "outputs": [
        {
          "execution_count": 22,
          "output_type": "execute_result",
          "data": {
            "text/plain": "country        Zimbabwe\ncontinent        Africa\nyear               2007\nlifeExp          43.487\npop            12311143\ngdpPercap    469.709298\niso_alpha           ZWE\nName: 1703, dtype: object"
          },
          "metadata": {}
        }
      ],
      "execution_count": 22
    },
    {
      "id": "0afd0ef7-5c35-4c9d-b864-4bfc33051e85",
      "cell_type": "code",
      "source": "df.loc[1:10]",
      "metadata": {
        "trusted": true
      },
      "outputs": [
        {
          "execution_count": 23,
          "output_type": "execute_result",
          "data": {
            "text/plain": "        country continent  year  lifeExp       pop   gdpPercap iso_alpha\n1   Afghanistan      Asia  1957   30.332   9240934  820.853030       AFG\n2   Afghanistan      Asia  1962   31.997  10267083  853.100710       AFG\n3   Afghanistan      Asia  1967   34.020  11537966  836.197138       AFG\n4   Afghanistan      Asia  1972   36.088  13079460  739.981106       AFG\n5   Afghanistan      Asia  1977   38.438  14880372  786.113360       AFG\n6   Afghanistan      Asia  1982   39.854  12881816  978.011439       AFG\n7   Afghanistan      Asia  1987   40.822  13867957  852.395945       AFG\n8   Afghanistan      Asia  1992   41.674  16317921  649.341395       AFG\n9   Afghanistan      Asia  1997   41.763  22227415  635.341351       AFG\n10  Afghanistan      Asia  2002   42.129  25268405  726.734055       AFG",
            "text/html": "<div>\n<style scoped>\n    .dataframe tbody tr th:only-of-type {\n        vertical-align: middle;\n    }\n\n    .dataframe tbody tr th {\n        vertical-align: top;\n    }\n\n    .dataframe thead th {\n        text-align: right;\n    }\n</style>\n<table border=\"1\" class=\"dataframe\">\n  <thead>\n    <tr style=\"text-align: right;\">\n      <th></th>\n      <th>country</th>\n      <th>continent</th>\n      <th>year</th>\n      <th>lifeExp</th>\n      <th>pop</th>\n      <th>gdpPercap</th>\n      <th>iso_alpha</th>\n    </tr>\n  </thead>\n  <tbody>\n    <tr>\n      <th>1</th>\n      <td>Afghanistan</td>\n      <td>Asia</td>\n      <td>1957</td>\n      <td>30.332</td>\n      <td>9240934</td>\n      <td>820.853030</td>\n      <td>AFG</td>\n    </tr>\n    <tr>\n      <th>2</th>\n      <td>Afghanistan</td>\n      <td>Asia</td>\n      <td>1962</td>\n      <td>31.997</td>\n      <td>10267083</td>\n      <td>853.100710</td>\n      <td>AFG</td>\n    </tr>\n    <tr>\n      <th>3</th>\n      <td>Afghanistan</td>\n      <td>Asia</td>\n      <td>1967</td>\n      <td>34.020</td>\n      <td>11537966</td>\n      <td>836.197138</td>\n      <td>AFG</td>\n    </tr>\n    <tr>\n      <th>4</th>\n      <td>Afghanistan</td>\n      <td>Asia</td>\n      <td>1972</td>\n      <td>36.088</td>\n      <td>13079460</td>\n      <td>739.981106</td>\n      <td>AFG</td>\n    </tr>\n    <tr>\n      <th>5</th>\n      <td>Afghanistan</td>\n      <td>Asia</td>\n      <td>1977</td>\n      <td>38.438</td>\n      <td>14880372</td>\n      <td>786.113360</td>\n      <td>AFG</td>\n    </tr>\n    <tr>\n      <th>6</th>\n      <td>Afghanistan</td>\n      <td>Asia</td>\n      <td>1982</td>\n      <td>39.854</td>\n      <td>12881816</td>\n      <td>978.011439</td>\n      <td>AFG</td>\n    </tr>\n    <tr>\n      <th>7</th>\n      <td>Afghanistan</td>\n      <td>Asia</td>\n      <td>1987</td>\n      <td>40.822</td>\n      <td>13867957</td>\n      <td>852.395945</td>\n      <td>AFG</td>\n    </tr>\n    <tr>\n      <th>8</th>\n      <td>Afghanistan</td>\n      <td>Asia</td>\n      <td>1992</td>\n      <td>41.674</td>\n      <td>16317921</td>\n      <td>649.341395</td>\n      <td>AFG</td>\n    </tr>\n    <tr>\n      <th>9</th>\n      <td>Afghanistan</td>\n      <td>Asia</td>\n      <td>1997</td>\n      <td>41.763</td>\n      <td>22227415</td>\n      <td>635.341351</td>\n      <td>AFG</td>\n    </tr>\n    <tr>\n      <th>10</th>\n      <td>Afghanistan</td>\n      <td>Asia</td>\n      <td>2002</td>\n      <td>42.129</td>\n      <td>25268405</td>\n      <td>726.734055</td>\n      <td>AFG</td>\n    </tr>\n  </tbody>\n</table>\n</div>"
          },
          "metadata": {}
        }
      ],
      "execution_count": 23
    },
    {
      "id": "c6d4f64c-82d7-426e-97f9-fdab43d2c60d",
      "cell_type": "code",
      "source": "df.iloc[3:5]",
      "metadata": {
        "trusted": true
      },
      "outputs": [
        {
          "execution_count": 24,
          "output_type": "execute_result",
          "data": {
            "text/plain": "       country continent  year  lifeExp       pop   gdpPercap iso_alpha\n3  Afghanistan      Asia  1967   34.020  11537966  836.197138       AFG\n4  Afghanistan      Asia  1972   36.088  13079460  739.981106       AFG",
            "text/html": "<div>\n<style scoped>\n    .dataframe tbody tr th:only-of-type {\n        vertical-align: middle;\n    }\n\n    .dataframe tbody tr th {\n        vertical-align: top;\n    }\n\n    .dataframe thead th {\n        text-align: right;\n    }\n</style>\n<table border=\"1\" class=\"dataframe\">\n  <thead>\n    <tr style=\"text-align: right;\">\n      <th></th>\n      <th>country</th>\n      <th>continent</th>\n      <th>year</th>\n      <th>lifeExp</th>\n      <th>pop</th>\n      <th>gdpPercap</th>\n      <th>iso_alpha</th>\n    </tr>\n  </thead>\n  <tbody>\n    <tr>\n      <th>3</th>\n      <td>Afghanistan</td>\n      <td>Asia</td>\n      <td>1967</td>\n      <td>34.020</td>\n      <td>11537966</td>\n      <td>836.197138</td>\n      <td>AFG</td>\n    </tr>\n    <tr>\n      <th>4</th>\n      <td>Afghanistan</td>\n      <td>Asia</td>\n      <td>1972</td>\n      <td>36.088</td>\n      <td>13079460</td>\n      <td>739.981106</td>\n      <td>AFG</td>\n    </tr>\n  </tbody>\n</table>\n</div>"
          },
          "metadata": {}
        }
      ],
      "execution_count": 24
    },
    {
      "id": "a8bc1592-8517-4e5b-8c66-09005f80f833",
      "cell_type": "code",
      "source": "df.iloc[1:5,1:4]",
      "metadata": {
        "trusted": true
      },
      "outputs": [
        {
          "execution_count": 25,
          "output_type": "execute_result",
          "data": {
            "text/plain": "  continent  year  lifeExp\n1      Asia  1957   30.332\n2      Asia  1962   31.997\n3      Asia  1967   34.020\n4      Asia  1972   36.088",
            "text/html": "<div>\n<style scoped>\n    .dataframe tbody tr th:only-of-type {\n        vertical-align: middle;\n    }\n\n    .dataframe tbody tr th {\n        vertical-align: top;\n    }\n\n    .dataframe thead th {\n        text-align: right;\n    }\n</style>\n<table border=\"1\" class=\"dataframe\">\n  <thead>\n    <tr style=\"text-align: right;\">\n      <th></th>\n      <th>continent</th>\n      <th>year</th>\n      <th>lifeExp</th>\n    </tr>\n  </thead>\n  <tbody>\n    <tr>\n      <th>1</th>\n      <td>Asia</td>\n      <td>1957</td>\n      <td>30.332</td>\n    </tr>\n    <tr>\n      <th>2</th>\n      <td>Asia</td>\n      <td>1962</td>\n      <td>31.997</td>\n    </tr>\n    <tr>\n      <th>3</th>\n      <td>Asia</td>\n      <td>1967</td>\n      <td>34.020</td>\n    </tr>\n    <tr>\n      <th>4</th>\n      <td>Asia</td>\n      <td>1972</td>\n      <td>36.088</td>\n    </tr>\n  </tbody>\n</table>\n</div>"
          },
          "metadata": {}
        }
      ],
      "execution_count": 25
    },
    {
      "id": "6e9ef00c-2525-4102-be97-aaabc77f2d94",
      "cell_type": "code",
      "source": "df.loc[1:5, ['continent','country','lifeExp']]",
      "metadata": {
        "trusted": true
      },
      "outputs": [
        {
          "execution_count": 26,
          "output_type": "execute_result",
          "data": {
            "text/plain": "  continent      country  lifeExp\n1      Asia  Afghanistan   30.332\n2      Asia  Afghanistan   31.997\n3      Asia  Afghanistan   34.020\n4      Asia  Afghanistan   36.088\n5      Asia  Afghanistan   38.438",
            "text/html": "<div>\n<style scoped>\n    .dataframe tbody tr th:only-of-type {\n        vertical-align: middle;\n    }\n\n    .dataframe tbody tr th {\n        vertical-align: top;\n    }\n\n    .dataframe thead th {\n        text-align: right;\n    }\n</style>\n<table border=\"1\" class=\"dataframe\">\n  <thead>\n    <tr style=\"text-align: right;\">\n      <th></th>\n      <th>continent</th>\n      <th>country</th>\n      <th>lifeExp</th>\n    </tr>\n  </thead>\n  <tbody>\n    <tr>\n      <th>1</th>\n      <td>Asia</td>\n      <td>Afghanistan</td>\n      <td>30.332</td>\n    </tr>\n    <tr>\n      <th>2</th>\n      <td>Asia</td>\n      <td>Afghanistan</td>\n      <td>31.997</td>\n    </tr>\n    <tr>\n      <th>3</th>\n      <td>Asia</td>\n      <td>Afghanistan</td>\n      <td>34.020</td>\n    </tr>\n    <tr>\n      <th>4</th>\n      <td>Asia</td>\n      <td>Afghanistan</td>\n      <td>36.088</td>\n    </tr>\n    <tr>\n      <th>5</th>\n      <td>Asia</td>\n      <td>Afghanistan</td>\n      <td>38.438</td>\n    </tr>\n  </tbody>\n</table>\n</div>"
          },
          "metadata": {}
        }
      ],
      "execution_count": 26
    },
    {
      "id": "5680cf89-9997-462c-ba35-a7bd1ef03d0a",
      "cell_type": "code",
      "source": "df.iloc[[1,19,22],[0,2,4]]",
      "metadata": {
        "trusted": true
      },
      "outputs": [
        {
          "execution_count": 27,
          "output_type": "execute_result",
          "data": {
            "text/plain": "        country  year      pop\n1   Afghanistan  1957  9240934\n19      Albania  1987  3075321\n22      Albania  2002  3508512",
            "text/html": "<div>\n<style scoped>\n    .dataframe tbody tr th:only-of-type {\n        vertical-align: middle;\n    }\n\n    .dataframe tbody tr th {\n        vertical-align: top;\n    }\n\n    .dataframe thead th {\n        text-align: right;\n    }\n</style>\n<table border=\"1\" class=\"dataframe\">\n  <thead>\n    <tr style=\"text-align: right;\">\n      <th></th>\n      <th>country</th>\n      <th>year</th>\n      <th>pop</th>\n    </tr>\n  </thead>\n  <tbody>\n    <tr>\n      <th>1</th>\n      <td>Afghanistan</td>\n      <td>1957</td>\n      <td>9240934</td>\n    </tr>\n    <tr>\n      <th>19</th>\n      <td>Albania</td>\n      <td>1987</td>\n      <td>3075321</td>\n    </tr>\n    <tr>\n      <th>22</th>\n      <td>Albania</td>\n      <td>2002</td>\n      <td>3508512</td>\n    </tr>\n  </tbody>\n</table>\n</div>"
          },
          "metadata": {}
        }
      ],
      "execution_count": 27
    },
    {
      "id": "9aafc1f6-73d3-4e98-bb12-f3be1c791f3a",
      "cell_type": "code",
      "source": "df.iloc[1:10:2]",
      "metadata": {
        "trusted": true
      },
      "outputs": [
        {
          "execution_count": 28,
          "output_type": "execute_result",
          "data": {
            "text/plain": "       country continent  year  lifeExp       pop   gdpPercap iso_alpha\n1  Afghanistan      Asia  1957   30.332   9240934  820.853030       AFG\n3  Afghanistan      Asia  1967   34.020  11537966  836.197138       AFG\n5  Afghanistan      Asia  1977   38.438  14880372  786.113360       AFG\n7  Afghanistan      Asia  1987   40.822  13867957  852.395945       AFG\n9  Afghanistan      Asia  1997   41.763  22227415  635.341351       AFG",
            "text/html": "<div>\n<style scoped>\n    .dataframe tbody tr th:only-of-type {\n        vertical-align: middle;\n    }\n\n    .dataframe tbody tr th {\n        vertical-align: top;\n    }\n\n    .dataframe thead th {\n        text-align: right;\n    }\n</style>\n<table border=\"1\" class=\"dataframe\">\n  <thead>\n    <tr style=\"text-align: right;\">\n      <th></th>\n      <th>country</th>\n      <th>continent</th>\n      <th>year</th>\n      <th>lifeExp</th>\n      <th>pop</th>\n      <th>gdpPercap</th>\n      <th>iso_alpha</th>\n    </tr>\n  </thead>\n  <tbody>\n    <tr>\n      <th>1</th>\n      <td>Afghanistan</td>\n      <td>Asia</td>\n      <td>1957</td>\n      <td>30.332</td>\n      <td>9240934</td>\n      <td>820.853030</td>\n      <td>AFG</td>\n    </tr>\n    <tr>\n      <th>3</th>\n      <td>Afghanistan</td>\n      <td>Asia</td>\n      <td>1967</td>\n      <td>34.020</td>\n      <td>11537966</td>\n      <td>836.197138</td>\n      <td>AFG</td>\n    </tr>\n    <tr>\n      <th>5</th>\n      <td>Afghanistan</td>\n      <td>Asia</td>\n      <td>1977</td>\n      <td>38.438</td>\n      <td>14880372</td>\n      <td>786.113360</td>\n      <td>AFG</td>\n    </tr>\n    <tr>\n      <th>7</th>\n      <td>Afghanistan</td>\n      <td>Asia</td>\n      <td>1987</td>\n      <td>40.822</td>\n      <td>13867957</td>\n      <td>852.395945</td>\n      <td>AFG</td>\n    </tr>\n    <tr>\n      <th>9</th>\n      <td>Afghanistan</td>\n      <td>Asia</td>\n      <td>1997</td>\n      <td>41.763</td>\n      <td>22227415</td>\n      <td>635.341351</td>\n      <td>AFG</td>\n    </tr>\n  </tbody>\n</table>\n</div>"
          },
          "metadata": {}
        }
      ],
      "execution_count": 28
    },
    {
      "id": "2fc7329b-bd38-4d46-8af2-7ef5f0bf624f",
      "cell_type": "code",
      "source": "df.loc[1:5,'continent':'lifeExp']",
      "metadata": {
        "trusted": true
      },
      "outputs": [
        {
          "execution_count": 29,
          "output_type": "execute_result",
          "data": {
            "text/plain": "  continent  year  lifeExp\n1      Asia  1957   30.332\n2      Asia  1962   31.997\n3      Asia  1967   34.020\n4      Asia  1972   36.088\n5      Asia  1977   38.438",
            "text/html": "<div>\n<style scoped>\n    .dataframe tbody tr th:only-of-type {\n        vertical-align: middle;\n    }\n\n    .dataframe tbody tr th {\n        vertical-align: top;\n    }\n\n    .dataframe thead th {\n        text-align: right;\n    }\n</style>\n<table border=\"1\" class=\"dataframe\">\n  <thead>\n    <tr style=\"text-align: right;\">\n      <th></th>\n      <th>continent</th>\n      <th>year</th>\n      <th>lifeExp</th>\n    </tr>\n  </thead>\n  <tbody>\n    <tr>\n      <th>1</th>\n      <td>Asia</td>\n      <td>1957</td>\n      <td>30.332</td>\n    </tr>\n    <tr>\n      <th>2</th>\n      <td>Asia</td>\n      <td>1962</td>\n      <td>31.997</td>\n    </tr>\n    <tr>\n      <th>3</th>\n      <td>Asia</td>\n      <td>1967</td>\n      <td>34.020</td>\n    </tr>\n    <tr>\n      <th>4</th>\n      <td>Asia</td>\n      <td>1972</td>\n      <td>36.088</td>\n    </tr>\n    <tr>\n      <th>5</th>\n      <td>Asia</td>\n      <td>1977</td>\n      <td>38.438</td>\n    </tr>\n  </tbody>\n</table>\n</div>"
          },
          "metadata": {}
        }
      ],
      "execution_count": 29
    },
    {
      "id": "f45e3001-3c2f-4bf1-9765-a8ef5a51f1c1",
      "cell_type": "code",
      "source": "df.drop(3, axis=0,inplace = True)",
      "metadata": {
        "trusted": true
      },
      "outputs": [],
      "execution_count": 30
    },
    {
      "id": "dfc87959-5ad9-47df-ab34-3ad902b53b49",
      "cell_type": "code",
      "source": "df",
      "metadata": {
        "trusted": true
      },
      "outputs": [
        {
          "execution_count": 31,
          "output_type": "execute_result",
          "data": {
            "text/plain": "          country continent  year  lifeExp       pop   gdpPercap iso_alpha\n0     Afghanistan      Asia  1952   28.801   8425333  779.445314       AFG\n1     Afghanistan      Asia  1957   30.332   9240934  820.853030       AFG\n2     Afghanistan      Asia  1962   31.997  10267083  853.100710       AFG\n4     Afghanistan      Asia  1972   36.088  13079460  739.981106       AFG\n5     Afghanistan      Asia  1977   38.438  14880372  786.113360       AFG\n...           ...       ...   ...      ...       ...         ...       ...\n1699     Zimbabwe    Africa  1987   62.351   9216418  706.157306       ZWE\n1700     Zimbabwe    Africa  1992   60.377  10704340  693.420786       ZWE\n1701     Zimbabwe    Africa  1997   46.809  11404948  792.449960       ZWE\n1702     Zimbabwe    Africa  2002   39.989  11926563  672.038623       ZWE\n1703     Zimbabwe    Africa  2007   43.487  12311143  469.709298       ZWE\n\n[1703 rows x 7 columns]",
            "text/html": "<div>\n<style scoped>\n    .dataframe tbody tr th:only-of-type {\n        vertical-align: middle;\n    }\n\n    .dataframe tbody tr th {\n        vertical-align: top;\n    }\n\n    .dataframe thead th {\n        text-align: right;\n    }\n</style>\n<table border=\"1\" class=\"dataframe\">\n  <thead>\n    <tr style=\"text-align: right;\">\n      <th></th>\n      <th>country</th>\n      <th>continent</th>\n      <th>year</th>\n      <th>lifeExp</th>\n      <th>pop</th>\n      <th>gdpPercap</th>\n      <th>iso_alpha</th>\n    </tr>\n  </thead>\n  <tbody>\n    <tr>\n      <th>0</th>\n      <td>Afghanistan</td>\n      <td>Asia</td>\n      <td>1952</td>\n      <td>28.801</td>\n      <td>8425333</td>\n      <td>779.445314</td>\n      <td>AFG</td>\n    </tr>\n    <tr>\n      <th>1</th>\n      <td>Afghanistan</td>\n      <td>Asia</td>\n      <td>1957</td>\n      <td>30.332</td>\n      <td>9240934</td>\n      <td>820.853030</td>\n      <td>AFG</td>\n    </tr>\n    <tr>\n      <th>2</th>\n      <td>Afghanistan</td>\n      <td>Asia</td>\n      <td>1962</td>\n      <td>31.997</td>\n      <td>10267083</td>\n      <td>853.100710</td>\n      <td>AFG</td>\n    </tr>\n    <tr>\n      <th>4</th>\n      <td>Afghanistan</td>\n      <td>Asia</td>\n      <td>1972</td>\n      <td>36.088</td>\n      <td>13079460</td>\n      <td>739.981106</td>\n      <td>AFG</td>\n    </tr>\n    <tr>\n      <th>5</th>\n      <td>Afghanistan</td>\n      <td>Asia</td>\n      <td>1977</td>\n      <td>38.438</td>\n      <td>14880372</td>\n      <td>786.113360</td>\n      <td>AFG</td>\n    </tr>\n    <tr>\n      <th>...</th>\n      <td>...</td>\n      <td>...</td>\n      <td>...</td>\n      <td>...</td>\n      <td>...</td>\n      <td>...</td>\n      <td>...</td>\n    </tr>\n    <tr>\n      <th>1699</th>\n      <td>Zimbabwe</td>\n      <td>Africa</td>\n      <td>1987</td>\n      <td>62.351</td>\n      <td>9216418</td>\n      <td>706.157306</td>\n      <td>ZWE</td>\n    </tr>\n    <tr>\n      <th>1700</th>\n      <td>Zimbabwe</td>\n      <td>Africa</td>\n      <td>1992</td>\n      <td>60.377</td>\n      <td>10704340</td>\n      <td>693.420786</td>\n      <td>ZWE</td>\n    </tr>\n    <tr>\n      <th>1701</th>\n      <td>Zimbabwe</td>\n      <td>Africa</td>\n      <td>1997</td>\n      <td>46.809</td>\n      <td>11404948</td>\n      <td>792.449960</td>\n      <td>ZWE</td>\n    </tr>\n    <tr>\n      <th>1702</th>\n      <td>Zimbabwe</td>\n      <td>Africa</td>\n      <td>2002</td>\n      <td>39.989</td>\n      <td>11926563</td>\n      <td>672.038623</td>\n      <td>ZWE</td>\n    </tr>\n    <tr>\n      <th>1703</th>\n      <td>Zimbabwe</td>\n      <td>Africa</td>\n      <td>2007</td>\n      <td>43.487</td>\n      <td>12311143</td>\n      <td>469.709298</td>\n      <td>ZWE</td>\n    </tr>\n  </tbody>\n</table>\n<p>1703 rows × 7 columns</p>\n</div>"
          },
          "metadata": {}
        }
      ],
      "execution_count": 31
    },
    {
      "id": "1990adfc-a1f0-489e-bca2-3c4534136cf8",
      "cell_type": "code",
      "source": "df.loc[4]",
      "metadata": {
        "trusted": true
      },
      "outputs": [
        {
          "execution_count": 32,
          "output_type": "execute_result",
          "data": {
            "text/plain": "country      Afghanistan\ncontinent           Asia\nyear                1972\nlifeExp           36.088\npop             13079460\ngdpPercap     739.981106\niso_alpha            AFG\nName: 4, dtype: object"
          },
          "metadata": {}
        }
      ],
      "execution_count": 32
    },
    {
      "id": "d53198eb-65e8-4017-a3a9-3916ea9ab855",
      "cell_type": "code",
      "source": "df.iloc[4]",
      "metadata": {
        "trusted": true
      },
      "outputs": [
        {
          "execution_count": 33,
          "output_type": "execute_result",
          "data": {
            "text/plain": "country      Afghanistan\ncontinent           Asia\nyear                1977\nlifeExp           38.438\npop             14880372\ngdpPercap      786.11336\niso_alpha            AFG\nName: 5, dtype: object"
          },
          "metadata": {}
        }
      ],
      "execution_count": 33
    },
    {
      "id": "cfa901c7-775b-482f-9df8-f41211358286",
      "cell_type": "code",
      "source": " df.index[4]",
      "metadata": {
        "trusted": true
      },
      "outputs": [
        {
          "execution_count": 34,
          "output_type": "execute_result",
          "data": {
            "text/plain": "np.int64(5)"
          },
          "metadata": {}
        }
      ],
      "execution_count": 34
    },
    {
      "id": "ec38e518-7950-491f-9a79-80a214df3710",
      "cell_type": "code",
      "source": "df.head(5)",
      "metadata": {
        "trusted": true
      },
      "outputs": [
        {
          "execution_count": 35,
          "output_type": "execute_result",
          "data": {
            "text/plain": "       country continent  year  lifeExp       pop   gdpPercap iso_alpha\n0  Afghanistan      Asia  1952   28.801   8425333  779.445314       AFG\n1  Afghanistan      Asia  1957   30.332   9240934  820.853030       AFG\n2  Afghanistan      Asia  1962   31.997  10267083  853.100710       AFG\n4  Afghanistan      Asia  1972   36.088  13079460  739.981106       AFG\n5  Afghanistan      Asia  1977   38.438  14880372  786.113360       AFG",
            "text/html": "<div>\n<style scoped>\n    .dataframe tbody tr th:only-of-type {\n        vertical-align: middle;\n    }\n\n    .dataframe tbody tr th {\n        vertical-align: top;\n    }\n\n    .dataframe thead th {\n        text-align: right;\n    }\n</style>\n<table border=\"1\" class=\"dataframe\">\n  <thead>\n    <tr style=\"text-align: right;\">\n      <th></th>\n      <th>country</th>\n      <th>continent</th>\n      <th>year</th>\n      <th>lifeExp</th>\n      <th>pop</th>\n      <th>gdpPercap</th>\n      <th>iso_alpha</th>\n    </tr>\n  </thead>\n  <tbody>\n    <tr>\n      <th>0</th>\n      <td>Afghanistan</td>\n      <td>Asia</td>\n      <td>1952</td>\n      <td>28.801</td>\n      <td>8425333</td>\n      <td>779.445314</td>\n      <td>AFG</td>\n    </tr>\n    <tr>\n      <th>1</th>\n      <td>Afghanistan</td>\n      <td>Asia</td>\n      <td>1957</td>\n      <td>30.332</td>\n      <td>9240934</td>\n      <td>820.853030</td>\n      <td>AFG</td>\n    </tr>\n    <tr>\n      <th>2</th>\n      <td>Afghanistan</td>\n      <td>Asia</td>\n      <td>1962</td>\n      <td>31.997</td>\n      <td>10267083</td>\n      <td>853.100710</td>\n      <td>AFG</td>\n    </tr>\n    <tr>\n      <th>4</th>\n      <td>Afghanistan</td>\n      <td>Asia</td>\n      <td>1972</td>\n      <td>36.088</td>\n      <td>13079460</td>\n      <td>739.981106</td>\n      <td>AFG</td>\n    </tr>\n    <tr>\n      <th>5</th>\n      <td>Afghanistan</td>\n      <td>Asia</td>\n      <td>1977</td>\n      <td>38.438</td>\n      <td>14880372</td>\n      <td>786.113360</td>\n      <td>AFG</td>\n    </tr>\n  </tbody>\n</table>\n</div>"
          },
          "metadata": {}
        }
      ],
      "execution_count": 35
    },
    {
      "id": "cbb4e71c-b70f-4f19-b3ed-a769b105b0ac",
      "cell_type": "code",
      "source": "r = df.loc[0]\ntype(r)",
      "metadata": {
        "trusted": true
      },
      "outputs": [
        {
          "execution_count": 36,
          "output_type": "execute_result",
          "data": {
            "text/plain": "pandas.core.series.Series"
          },
          "metadata": {}
        }
      ],
      "execution_count": 36
    },
    {
      "id": "c83d33e8-d0a3-4ee3-97f1-e289c2515f27",
      "cell_type": "code",
      "source": "c = df['country']\ntype(c)",
      "metadata": {
        "trusted": true
      },
      "outputs": [
        {
          "execution_count": 37,
          "output_type": "execute_result",
          "data": {
            "text/plain": "pandas.core.series.Series"
          },
          "metadata": {}
        }
      ],
      "execution_count": 37
    },
    {
      "id": "38340ff4-ad5b-461c-8b16-03dc403e4865",
      "cell_type": "code",
      "source": "le = df['lifeExp']\nle.mean()",
      "metadata": {
        "trusted": true
      },
      "outputs": [
        {
          "execution_count": 38,
          "output_type": "execute_result",
          "data": {
            "text/plain": "np.float64(59.49188876615746)"
          },
          "metadata": {}
        }
      ],
      "execution_count": 38
    },
    {
      "id": "b2f116e4-6349-46b9-9381-1fafed25cd83",
      "cell_type": "code",
      "source": "le.sum()",
      "metadata": {
        "trusted": true
      },
      "outputs": [
        {
          "execution_count": 39,
          "output_type": "execute_result",
          "data": {
            "text/plain": "np.float64(101255.19468)"
          },
          "metadata": {}
        }
      ],
      "execution_count": 39
    },
    {
      "id": "8f850861-35b9-4150-935b-f10a14596299",
      "cell_type": "code",
      "source": "le.count()",
      "metadata": {
        "trusted": true
      },
      "outputs": [
        {
          "execution_count": 40,
          "output_type": "execute_result",
          "data": {
            "text/plain": "np.int64(1702)"
          },
          "metadata": {}
        }
      ],
      "execution_count": 40
    },
    {
      "id": "4dc3ea99-37da-4f91-846b-3d2d35a95726",
      "cell_type": "code",
      "source": "le.sum()/le.count()",
      "metadata": {
        "trusted": true
      },
      "outputs": [
        {
          "execution_count": 41,
          "output_type": "execute_result",
          "data": {
            "text/plain": "np.float64(59.49188876615746)"
          },
          "metadata": {}
        }
      ],
      "execution_count": 41
    },
    {
      "id": "709ee0b6-3c2d-4f54-a3d6-2b61903816f9",
      "cell_type": "code",
      "source": "df.loc[df.lifeExp> 40].head()",
      "metadata": {
        "trusted": true
      },
      "outputs": [
        {
          "execution_count": 42,
          "output_type": "execute_result",
          "data": {
            "text/plain": "        country continent  year  lifeExp       pop   gdpPercap iso_alpha\n7   Afghanistan      Asia  1987   40.822  13867957  852.395945       AFG\n8   Afghanistan      Asia  1992   41.674  16317921  649.341395       AFG\n9   Afghanistan      Asia  1997   41.763  22227415  635.341351       AFG\n10  Afghanistan      Asia  2002   42.129  25268405  726.734055       AFG\n11  Afghanistan      Asia  2007   43.828  31889923  974.580338       AFG",
            "text/html": "<div>\n<style scoped>\n    .dataframe tbody tr th:only-of-type {\n        vertical-align: middle;\n    }\n\n    .dataframe tbody tr th {\n        vertical-align: top;\n    }\n\n    .dataframe thead th {\n        text-align: right;\n    }\n</style>\n<table border=\"1\" class=\"dataframe\">\n  <thead>\n    <tr style=\"text-align: right;\">\n      <th></th>\n      <th>country</th>\n      <th>continent</th>\n      <th>year</th>\n      <th>lifeExp</th>\n      <th>pop</th>\n      <th>gdpPercap</th>\n      <th>iso_alpha</th>\n    </tr>\n  </thead>\n  <tbody>\n    <tr>\n      <th>7</th>\n      <td>Afghanistan</td>\n      <td>Asia</td>\n      <td>1987</td>\n      <td>40.822</td>\n      <td>13867957</td>\n      <td>852.395945</td>\n      <td>AFG</td>\n    </tr>\n    <tr>\n      <th>8</th>\n      <td>Afghanistan</td>\n      <td>Asia</td>\n      <td>1992</td>\n      <td>41.674</td>\n      <td>16317921</td>\n      <td>649.341395</td>\n      <td>AFG</td>\n    </tr>\n    <tr>\n      <th>9</th>\n      <td>Afghanistan</td>\n      <td>Asia</td>\n      <td>1997</td>\n      <td>41.763</td>\n      <td>22227415</td>\n      <td>635.341351</td>\n      <td>AFG</td>\n    </tr>\n    <tr>\n      <th>10</th>\n      <td>Afghanistan</td>\n      <td>Asia</td>\n      <td>2002</td>\n      <td>42.129</td>\n      <td>25268405</td>\n      <td>726.734055</td>\n      <td>AFG</td>\n    </tr>\n    <tr>\n      <th>11</th>\n      <td>Afghanistan</td>\n      <td>Asia</td>\n      <td>2007</td>\n      <td>43.828</td>\n      <td>31889923</td>\n      <td>974.580338</td>\n      <td>AFG</td>\n    </tr>\n  </tbody>\n</table>\n</div>"
          },
          "metadata": {}
        }
      ],
      "execution_count": 42
    },
    {
      "id": "fed7a86e-2e3f-4299-94df-9155d90d59a5",
      "cell_type": "code",
      "source": "df.loc[df.lifeExp>60, ['country','lifeExp']].head()",
      "metadata": {
        "trusted": true
      },
      "outputs": [
        {
          "execution_count": 43,
          "output_type": "execute_result",
          "data": {
            "text/plain": "    country  lifeExp\n14  Albania    64.82\n15  Albania    66.22\n16  Albania    67.69\n17  Albania    68.93\n18  Albania    70.42",
            "text/html": "<div>\n<style scoped>\n    .dataframe tbody tr th:only-of-type {\n        vertical-align: middle;\n    }\n\n    .dataframe tbody tr th {\n        vertical-align: top;\n    }\n\n    .dataframe thead th {\n        text-align: right;\n    }\n</style>\n<table border=\"1\" class=\"dataframe\">\n  <thead>\n    <tr style=\"text-align: right;\">\n      <th></th>\n      <th>country</th>\n      <th>lifeExp</th>\n    </tr>\n  </thead>\n  <tbody>\n    <tr>\n      <th>14</th>\n      <td>Albania</td>\n      <td>64.82</td>\n    </tr>\n    <tr>\n      <th>15</th>\n      <td>Albania</td>\n      <td>66.22</td>\n    </tr>\n    <tr>\n      <th>16</th>\n      <td>Albania</td>\n      <td>67.69</td>\n    </tr>\n    <tr>\n      <th>17</th>\n      <td>Albania</td>\n      <td>68.93</td>\n    </tr>\n    <tr>\n      <th>18</th>\n      <td>Albania</td>\n      <td>70.42</td>\n    </tr>\n  </tbody>\n</table>\n</div>"
          },
          "metadata": {}
        }
      ],
      "execution_count": 43
    },
    {
      "id": "961d4725-68e2-4ec3-89d5-a404055a531d",
      "cell_type": "code",
      "source": "df.loc[(df.lifeExp>=30) & (df.lifeExp<=40)].head()",
      "metadata": {
        "trusted": true
      },
      "outputs": [
        {
          "execution_count": 44,
          "output_type": "execute_result",
          "data": {
            "text/plain": "       country continent  year  lifeExp       pop   gdpPercap iso_alpha\n1  Afghanistan      Asia  1957   30.332   9240934  820.853030       AFG\n2  Afghanistan      Asia  1962   31.997  10267083  853.100710       AFG\n4  Afghanistan      Asia  1972   36.088  13079460  739.981106       AFG\n5  Afghanistan      Asia  1977   38.438  14880372  786.113360       AFG\n6  Afghanistan      Asia  1982   39.854  12881816  978.011439       AFG",
            "text/html": "<div>\n<style scoped>\n    .dataframe tbody tr th:only-of-type {\n        vertical-align: middle;\n    }\n\n    .dataframe tbody tr th {\n        vertical-align: top;\n    }\n\n    .dataframe thead th {\n        text-align: right;\n    }\n</style>\n<table border=\"1\" class=\"dataframe\">\n  <thead>\n    <tr style=\"text-align: right;\">\n      <th></th>\n      <th>country</th>\n      <th>continent</th>\n      <th>year</th>\n      <th>lifeExp</th>\n      <th>pop</th>\n      <th>gdpPercap</th>\n      <th>iso_alpha</th>\n    </tr>\n  </thead>\n  <tbody>\n    <tr>\n      <th>1</th>\n      <td>Afghanistan</td>\n      <td>Asia</td>\n      <td>1957</td>\n      <td>30.332</td>\n      <td>9240934</td>\n      <td>820.853030</td>\n      <td>AFG</td>\n    </tr>\n    <tr>\n      <th>2</th>\n      <td>Afghanistan</td>\n      <td>Asia</td>\n      <td>1962</td>\n      <td>31.997</td>\n      <td>10267083</td>\n      <td>853.100710</td>\n      <td>AFG</td>\n    </tr>\n    <tr>\n      <th>4</th>\n      <td>Afghanistan</td>\n      <td>Asia</td>\n      <td>1972</td>\n      <td>36.088</td>\n      <td>13079460</td>\n      <td>739.981106</td>\n      <td>AFG</td>\n    </tr>\n    <tr>\n      <th>5</th>\n      <td>Afghanistan</td>\n      <td>Asia</td>\n      <td>1977</td>\n      <td>38.438</td>\n      <td>14880372</td>\n      <td>786.113360</td>\n      <td>AFG</td>\n    </tr>\n    <tr>\n      <th>6</th>\n      <td>Afghanistan</td>\n      <td>Asia</td>\n      <td>1982</td>\n      <td>39.854</td>\n      <td>12881816</td>\n      <td>978.011439</td>\n      <td>AFG</td>\n    </tr>\n  </tbody>\n</table>\n</div>"
          },
          "metadata": {}
        }
      ],
      "execution_count": 44
    },
    {
      "id": "87080d6b-a6c1-44fc-8996-19ce4ca41c2a",
      "cell_type": "code",
      "source": "df.country.unique()",
      "metadata": {
        "trusted": true
      },
      "outputs": [
        {
          "execution_count": 45,
          "output_type": "execute_result",
          "data": {
            "text/plain": "array(['Afghanistan', 'Albania', 'Algeria', 'Angola', 'Argentina',\n       'Australia', 'Austria', 'Bahrain', 'Bangladesh', 'Belgium',\n       'Benin', 'Bolivia', 'Bosnia and Herzegovina', 'Botswana', 'Brazil',\n       'Bulgaria', 'Burkina Faso', 'Burundi', 'Cambodia', 'Cameroon',\n       'Canada', 'Central African Republic', 'Chad', 'Chile', 'China',\n       'Colombia', 'Comoros', 'Congo, Dem. Rep.', 'Congo, Rep.',\n       'Costa Rica', \"Cote d'Ivoire\", 'Croatia', 'Cuba', 'Czech Republic',\n       'Denmark', 'Djibouti', 'Dominican Republic', 'Ecuador', 'Egypt',\n       'El Salvador', 'Equatorial Guinea', 'Eritrea', 'Ethiopia',\n       'Finland', 'France', 'Gabon', 'Gambia', 'Germany', 'Ghana',\n       'Greece', 'Guatemala', 'Guinea', 'Guinea-Bissau', 'Haiti',\n       'Honduras', 'Hong Kong, China', 'Hungary', 'Iceland', 'India',\n       'Indonesia', 'Iran', 'Iraq', 'Ireland', 'Israel', 'Italy',\n       'Jamaica', 'Japan', 'Jordan', 'Kenya', 'Korea, Dem. Rep.',\n       'Korea, Rep.', 'Kuwait', 'Lebanon', 'Lesotho', 'Liberia', 'Libya',\n       'Madagascar', 'Malawi', 'Malaysia', 'Mali', 'Mauritania',\n       'Mauritius', 'Mexico', 'Mongolia', 'Montenegro', 'Morocco',\n       'Mozambique', 'Myanmar', 'Namibia', 'Nepal', 'Netherlands',\n       'New Zealand', 'Nicaragua', 'Niger', 'Nigeria', 'Norway', 'Oman',\n       'Pakistan', 'Panama', 'Paraguay', 'Peru', 'Philippines', 'Poland',\n       'Portugal', 'Puerto Rico', 'Reunion', 'Romania', 'Rwanda',\n       'Sao Tome and Principe', 'Saudi Arabia', 'Senegal', 'Serbia',\n       'Sierra Leone', 'Singapore', 'Slovak Republic', 'Slovenia',\n       'Somalia', 'South Africa', 'Spain', 'Sri Lanka', 'Sudan',\n       'Swaziland', 'Sweden', 'Switzerland', 'Syria', 'Taiwan',\n       'Tanzania', 'Thailand', 'Togo', 'Trinidad and Tobago', 'Tunisia',\n       'Turkey', 'Uganda', 'United Kingdom', 'United States', 'Uruguay',\n       'Venezuela', 'Vietnam', 'West Bank and Gaza', 'Yemen, Rep.',\n       'Zambia', 'Zimbabwe'], dtype=object)"
          },
          "metadata": {}
        }
      ],
      "execution_count": 45
    },
    {
      "id": "559037a5-acb3-45e3-bda4-e670e113647d",
      "cell_type": "code",
      "source": "df.loc[(df.country=='Kenya') | (df.country=='Egypt')].head()",
      "metadata": {
        "trusted": true
      },
      "outputs": [
        {
          "execution_count": 46,
          "output_type": "execute_result",
          "data": {
            "text/plain": "    country continent  year  lifeExp       pop    gdpPercap iso_alpha\n456   Egypt    Africa  1952   41.893  22223309  1418.822445       EGY\n457   Egypt    Africa  1957   44.444  25009741  1458.915272       EGY\n458   Egypt    Africa  1962   46.992  28173309  1693.335853       EGY\n459   Egypt    Africa  1967   49.293  31681188  1814.880728       EGY\n460   Egypt    Africa  1972   51.137  34807417  2024.008147       EGY",
            "text/html": "<div>\n<style scoped>\n    .dataframe tbody tr th:only-of-type {\n        vertical-align: middle;\n    }\n\n    .dataframe tbody tr th {\n        vertical-align: top;\n    }\n\n    .dataframe thead th {\n        text-align: right;\n    }\n</style>\n<table border=\"1\" class=\"dataframe\">\n  <thead>\n    <tr style=\"text-align: right;\">\n      <th></th>\n      <th>country</th>\n      <th>continent</th>\n      <th>year</th>\n      <th>lifeExp</th>\n      <th>pop</th>\n      <th>gdpPercap</th>\n      <th>iso_alpha</th>\n    </tr>\n  </thead>\n  <tbody>\n    <tr>\n      <th>456</th>\n      <td>Egypt</td>\n      <td>Africa</td>\n      <td>1952</td>\n      <td>41.893</td>\n      <td>22223309</td>\n      <td>1418.822445</td>\n      <td>EGY</td>\n    </tr>\n    <tr>\n      <th>457</th>\n      <td>Egypt</td>\n      <td>Africa</td>\n      <td>1957</td>\n      <td>44.444</td>\n      <td>25009741</td>\n      <td>1458.915272</td>\n      <td>EGY</td>\n    </tr>\n    <tr>\n      <th>458</th>\n      <td>Egypt</td>\n      <td>Africa</td>\n      <td>1962</td>\n      <td>46.992</td>\n      <td>28173309</td>\n      <td>1693.335853</td>\n      <td>EGY</td>\n    </tr>\n    <tr>\n      <th>459</th>\n      <td>Egypt</td>\n      <td>Africa</td>\n      <td>1967</td>\n      <td>49.293</td>\n      <td>31681188</td>\n      <td>1814.880728</td>\n      <td>EGY</td>\n    </tr>\n    <tr>\n      <th>460</th>\n      <td>Egypt</td>\n      <td>Africa</td>\n      <td>1972</td>\n      <td>51.137</td>\n      <td>34807417</td>\n      <td>2024.008147</td>\n      <td>EGY</td>\n    </tr>\n  </tbody>\n</table>\n</div>"
          },
          "metadata": {}
        }
      ],
      "execution_count": 46
    },
    {
      "id": "7ef5479e-684e-43ed-ae53-f167b1ea6f22",
      "cell_type": "code",
      "source": "df.loc[df.country < 'Nigeria']",
      "metadata": {
        "trusted": true
      },
      "outputs": [
        {
          "execution_count": 47,
          "output_type": "execute_result",
          "data": {
            "text/plain": "          country continent  year  lifeExp       pop   gdpPercap iso_alpha\n0     Afghanistan      Asia  1952   28.801   8425333  779.445314       AFG\n1     Afghanistan      Asia  1957   30.332   9240934  820.853030       AFG\n2     Afghanistan      Asia  1962   31.997  10267083  853.100710       AFG\n4     Afghanistan      Asia  1972   36.088  13079460  739.981106       AFG\n5     Afghanistan      Asia  1977   38.438  14880372  786.113360       AFG\n...           ...       ...   ...      ...       ...         ...       ...\n1123        Niger    Africa  1987   44.555   7332638  668.300023       NER\n1124        Niger    Africa  1992   47.391   8392818  581.182725       NER\n1125        Niger    Africa  1997   51.313   9666252  580.305209       NER\n1126        Niger    Africa  2002   54.496  11140655  601.074501       NER\n1127        Niger    Africa  2007   56.867  12894865  619.676892       NER\n\n[1127 rows x 7 columns]",
            "text/html": "<div>\n<style scoped>\n    .dataframe tbody tr th:only-of-type {\n        vertical-align: middle;\n    }\n\n    .dataframe tbody tr th {\n        vertical-align: top;\n    }\n\n    .dataframe thead th {\n        text-align: right;\n    }\n</style>\n<table border=\"1\" class=\"dataframe\">\n  <thead>\n    <tr style=\"text-align: right;\">\n      <th></th>\n      <th>country</th>\n      <th>continent</th>\n      <th>year</th>\n      <th>lifeExp</th>\n      <th>pop</th>\n      <th>gdpPercap</th>\n      <th>iso_alpha</th>\n    </tr>\n  </thead>\n  <tbody>\n    <tr>\n      <th>0</th>\n      <td>Afghanistan</td>\n      <td>Asia</td>\n      <td>1952</td>\n      <td>28.801</td>\n      <td>8425333</td>\n      <td>779.445314</td>\n      <td>AFG</td>\n    </tr>\n    <tr>\n      <th>1</th>\n      <td>Afghanistan</td>\n      <td>Asia</td>\n      <td>1957</td>\n      <td>30.332</td>\n      <td>9240934</td>\n      <td>820.853030</td>\n      <td>AFG</td>\n    </tr>\n    <tr>\n      <th>2</th>\n      <td>Afghanistan</td>\n      <td>Asia</td>\n      <td>1962</td>\n      <td>31.997</td>\n      <td>10267083</td>\n      <td>853.100710</td>\n      <td>AFG</td>\n    </tr>\n    <tr>\n      <th>4</th>\n      <td>Afghanistan</td>\n      <td>Asia</td>\n      <td>1972</td>\n      <td>36.088</td>\n      <td>13079460</td>\n      <td>739.981106</td>\n      <td>AFG</td>\n    </tr>\n    <tr>\n      <th>5</th>\n      <td>Afghanistan</td>\n      <td>Asia</td>\n      <td>1977</td>\n      <td>38.438</td>\n      <td>14880372</td>\n      <td>786.113360</td>\n      <td>AFG</td>\n    </tr>\n    <tr>\n      <th>...</th>\n      <td>...</td>\n      <td>...</td>\n      <td>...</td>\n      <td>...</td>\n      <td>...</td>\n      <td>...</td>\n      <td>...</td>\n    </tr>\n    <tr>\n      <th>1123</th>\n      <td>Niger</td>\n      <td>Africa</td>\n      <td>1987</td>\n      <td>44.555</td>\n      <td>7332638</td>\n      <td>668.300023</td>\n      <td>NER</td>\n    </tr>\n    <tr>\n      <th>1124</th>\n      <td>Niger</td>\n      <td>Africa</td>\n      <td>1992</td>\n      <td>47.391</td>\n      <td>8392818</td>\n      <td>581.182725</td>\n      <td>NER</td>\n    </tr>\n    <tr>\n      <th>1125</th>\n      <td>Niger</td>\n      <td>Africa</td>\n      <td>1997</td>\n      <td>51.313</td>\n      <td>9666252</td>\n      <td>580.305209</td>\n      <td>NER</td>\n    </tr>\n    <tr>\n      <th>1126</th>\n      <td>Niger</td>\n      <td>Africa</td>\n      <td>2002</td>\n      <td>54.496</td>\n      <td>11140655</td>\n      <td>601.074501</td>\n      <td>NER</td>\n    </tr>\n    <tr>\n      <th>1127</th>\n      <td>Niger</td>\n      <td>Africa</td>\n      <td>2007</td>\n      <td>56.867</td>\n      <td>12894865</td>\n      <td>619.676892</td>\n      <td>NER</td>\n    </tr>\n  </tbody>\n</table>\n<p>1127 rows × 7 columns</p>\n</div>"
          },
          "metadata": {}
        }
      ],
      "execution_count": 47
    },
    {
      "id": "8c7128a6-8f4b-49e1-9d46-55b0f0995e0a",
      "cell_type": "code",
      "source": "df.groupby('year')[['lifeExp','gdpPercap']].mean()",
      "metadata": {
        "trusted": true
      },
      "outputs": [
        {
          "execution_count": 48,
          "output_type": "execute_result",
          "data": {
            "text/plain": "        lifeExp     gdpPercap\nyear                         \n1952  49.013844   3725.276046\n1957  51.507401   4299.408345\n1962  53.609249   4725.812342\n1967  55.831894   5452.260078\n1972  57.647386   6770.082815\n1977  59.570157   7313.166421\n1982  61.533197   7518.901673\n1987  63.212613   7900.920218\n1992  64.160338   8158.608521\n1997  65.014676   9090.175363\n2002  65.694923   9917.848365\n2007  67.007423  11680.071820",
            "text/html": "<div>\n<style scoped>\n    .dataframe tbody tr th:only-of-type {\n        vertical-align: middle;\n    }\n\n    .dataframe tbody tr th {\n        vertical-align: top;\n    }\n\n    .dataframe thead th {\n        text-align: right;\n    }\n</style>\n<table border=\"1\" class=\"dataframe\">\n  <thead>\n    <tr style=\"text-align: right;\">\n      <th></th>\n      <th>lifeExp</th>\n      <th>gdpPercap</th>\n    </tr>\n    <tr>\n      <th>year</th>\n      <th></th>\n      <th></th>\n    </tr>\n  </thead>\n  <tbody>\n    <tr>\n      <th>1952</th>\n      <td>49.013844</td>\n      <td>3725.276046</td>\n    </tr>\n    <tr>\n      <th>1957</th>\n      <td>51.507401</td>\n      <td>4299.408345</td>\n    </tr>\n    <tr>\n      <th>1962</th>\n      <td>53.609249</td>\n      <td>4725.812342</td>\n    </tr>\n    <tr>\n      <th>1967</th>\n      <td>55.831894</td>\n      <td>5452.260078</td>\n    </tr>\n    <tr>\n      <th>1972</th>\n      <td>57.647386</td>\n      <td>6770.082815</td>\n    </tr>\n    <tr>\n      <th>1977</th>\n      <td>59.570157</td>\n      <td>7313.166421</td>\n    </tr>\n    <tr>\n      <th>1982</th>\n      <td>61.533197</td>\n      <td>7518.901673</td>\n    </tr>\n    <tr>\n      <th>1987</th>\n      <td>63.212613</td>\n      <td>7900.920218</td>\n    </tr>\n    <tr>\n      <th>1992</th>\n      <td>64.160338</td>\n      <td>8158.608521</td>\n    </tr>\n    <tr>\n      <th>1997</th>\n      <td>65.014676</td>\n      <td>9090.175363</td>\n    </tr>\n    <tr>\n      <th>2002</th>\n      <td>65.694923</td>\n      <td>9917.848365</td>\n    </tr>\n    <tr>\n      <th>2007</th>\n      <td>67.007423</td>\n      <td>11680.071820</td>\n    </tr>\n  </tbody>\n</table>\n</div>"
          },
          "metadata": {}
        }
      ],
      "execution_count": 48
    },
    {
      "id": "1700fa61-6076-4aa2-9c87-97dfef7d6732",
      "cell_type": "code",
      "source": "df.groupby(['continent','year'])[['lifeExp','gdpPercap']].mean()",
      "metadata": {
        "trusted": true
      },
      "outputs": [
        {
          "execution_count": 49,
          "output_type": "execute_result",
          "data": {
            "text/plain": "                  lifeExp     gdpPercap\ncontinent year                         \nAfrica    1952  39.135500   1252.572466\n          1957  41.266346   1385.236062\n          1962  43.319442   1598.078825\n          1967  45.334538   2050.363801\n          1972  47.450942   2339.615674\n          1977  49.580423   2585.938508\n          1982  51.592865   2481.592960\n          1987  53.344788   2282.668991\n          1992  53.629577   2281.810333\n          1997  53.598269   2378.759555\n          2002  53.325231   2599.385159\n          2007  54.806038   3089.032605\nAmericas  1952  53.378292   4161.150810\n          1957  55.960280   4616.043733\n          1962  58.398760   4901.541870\n          1967  60.410920   5668.253496\n          1972  62.394920   6491.334139\n          1977  64.391560   7352.007126\n          1982  66.228840   7506.737088\n          1987  68.090720   7793.400261\n          1992  69.568360   8044.934406\n          1997  71.150480   8889.300863\n          2002  72.422040   9287.677107\n          2007  73.608120  11003.031625\nAsia      1952  46.314394   5195.484004\n          1957  49.318544   5787.732940\n          1962  51.563223   5729.369625\n          1967  55.308754   6131.641381\n          1972  57.319269   8187.468699\n          1977  59.610556   7791.314020\n          1982  62.617939   7434.135157\n          1987  64.851182   7608.226508\n          1992  66.537212   8639.690248\n          1997  68.020515   9834.093295\n          2002  69.233879  10174.090397\n          2007  70.728485  12473.026870\nEurope    1952  64.725000   5661.057435\n          1957  66.615586   6868.118064\n          1962  68.480241   8274.944747\n          1967  69.696138  10040.195569\n          1972  70.752103  12335.003925\n          1977  71.908034  14117.289614\n          1982  72.767655  15433.001746\n          1987  73.583276  17031.164094\n          1992  74.370448  16767.981787\n          1997  75.435345  18784.215773\n          2002  76.644759  21409.175480\n          2007  77.586793  24756.615310\nOceania   1952  69.255000  10298.085650\n          1957  70.295000  11598.522455\n          1962  71.085000  12696.452430\n          1967  71.310000  14463.918930\n          1972  71.910000  16417.333380\n          1977  72.855000  17283.957605\n          1982  74.290000  18554.709840\n          1987  75.320000  20448.040160\n          1992  76.945000  20894.045885\n          1997  78.190000  24024.175170\n          2002  79.740000  26938.778040\n          2007  80.719500  29810.188275",
            "text/html": "<div>\n<style scoped>\n    .dataframe tbody tr th:only-of-type {\n        vertical-align: middle;\n    }\n\n    .dataframe tbody tr th {\n        vertical-align: top;\n    }\n\n    .dataframe thead th {\n        text-align: right;\n    }\n</style>\n<table border=\"1\" class=\"dataframe\">\n  <thead>\n    <tr style=\"text-align: right;\">\n      <th></th>\n      <th></th>\n      <th>lifeExp</th>\n      <th>gdpPercap</th>\n    </tr>\n    <tr>\n      <th>continent</th>\n      <th>year</th>\n      <th></th>\n      <th></th>\n    </tr>\n  </thead>\n  <tbody>\n    <tr>\n      <th rowspan=\"12\" valign=\"top\">Africa</th>\n      <th>1952</th>\n      <td>39.135500</td>\n      <td>1252.572466</td>\n    </tr>\n    <tr>\n      <th>1957</th>\n      <td>41.266346</td>\n      <td>1385.236062</td>\n    </tr>\n    <tr>\n      <th>1962</th>\n      <td>43.319442</td>\n      <td>1598.078825</td>\n    </tr>\n    <tr>\n      <th>1967</th>\n      <td>45.334538</td>\n      <td>2050.363801</td>\n    </tr>\n    <tr>\n      <th>1972</th>\n      <td>47.450942</td>\n      <td>2339.615674</td>\n    </tr>\n    <tr>\n      <th>1977</th>\n      <td>49.580423</td>\n      <td>2585.938508</td>\n    </tr>\n    <tr>\n      <th>1982</th>\n      <td>51.592865</td>\n      <td>2481.592960</td>\n    </tr>\n    <tr>\n      <th>1987</th>\n      <td>53.344788</td>\n      <td>2282.668991</td>\n    </tr>\n    <tr>\n      <th>1992</th>\n      <td>53.629577</td>\n      <td>2281.810333</td>\n    </tr>\n    <tr>\n      <th>1997</th>\n      <td>53.598269</td>\n      <td>2378.759555</td>\n    </tr>\n    <tr>\n      <th>2002</th>\n      <td>53.325231</td>\n      <td>2599.385159</td>\n    </tr>\n    <tr>\n      <th>2007</th>\n      <td>54.806038</td>\n      <td>3089.032605</td>\n    </tr>\n    <tr>\n      <th rowspan=\"12\" valign=\"top\">Americas</th>\n      <th>1952</th>\n      <td>53.378292</td>\n      <td>4161.150810</td>\n    </tr>\n    <tr>\n      <th>1957</th>\n      <td>55.960280</td>\n      <td>4616.043733</td>\n    </tr>\n    <tr>\n      <th>1962</th>\n      <td>58.398760</td>\n      <td>4901.541870</td>\n    </tr>\n    <tr>\n      <th>1967</th>\n      <td>60.410920</td>\n      <td>5668.253496</td>\n    </tr>\n    <tr>\n      <th>1972</th>\n      <td>62.394920</td>\n      <td>6491.334139</td>\n    </tr>\n    <tr>\n      <th>1977</th>\n      <td>64.391560</td>\n      <td>7352.007126</td>\n    </tr>\n    <tr>\n      <th>1982</th>\n      <td>66.228840</td>\n      <td>7506.737088</td>\n    </tr>\n    <tr>\n      <th>1987</th>\n      <td>68.090720</td>\n      <td>7793.400261</td>\n    </tr>\n    <tr>\n      <th>1992</th>\n      <td>69.568360</td>\n      <td>8044.934406</td>\n    </tr>\n    <tr>\n      <th>1997</th>\n      <td>71.150480</td>\n      <td>8889.300863</td>\n    </tr>\n    <tr>\n      <th>2002</th>\n      <td>72.422040</td>\n      <td>9287.677107</td>\n    </tr>\n    <tr>\n      <th>2007</th>\n      <td>73.608120</td>\n      <td>11003.031625</td>\n    </tr>\n    <tr>\n      <th rowspan=\"12\" valign=\"top\">Asia</th>\n      <th>1952</th>\n      <td>46.314394</td>\n      <td>5195.484004</td>\n    </tr>\n    <tr>\n      <th>1957</th>\n      <td>49.318544</td>\n      <td>5787.732940</td>\n    </tr>\n    <tr>\n      <th>1962</th>\n      <td>51.563223</td>\n      <td>5729.369625</td>\n    </tr>\n    <tr>\n      <th>1967</th>\n      <td>55.308754</td>\n      <td>6131.641381</td>\n    </tr>\n    <tr>\n      <th>1972</th>\n      <td>57.319269</td>\n      <td>8187.468699</td>\n    </tr>\n    <tr>\n      <th>1977</th>\n      <td>59.610556</td>\n      <td>7791.314020</td>\n    </tr>\n    <tr>\n      <th>1982</th>\n      <td>62.617939</td>\n      <td>7434.135157</td>\n    </tr>\n    <tr>\n      <th>1987</th>\n      <td>64.851182</td>\n      <td>7608.226508</td>\n    </tr>\n    <tr>\n      <th>1992</th>\n      <td>66.537212</td>\n      <td>8639.690248</td>\n    </tr>\n    <tr>\n      <th>1997</th>\n      <td>68.020515</td>\n      <td>9834.093295</td>\n    </tr>\n    <tr>\n      <th>2002</th>\n      <td>69.233879</td>\n      <td>10174.090397</td>\n    </tr>\n    <tr>\n      <th>2007</th>\n      <td>70.728485</td>\n      <td>12473.026870</td>\n    </tr>\n    <tr>\n      <th rowspan=\"12\" valign=\"top\">Europe</th>\n      <th>1952</th>\n      <td>64.725000</td>\n      <td>5661.057435</td>\n    </tr>\n    <tr>\n      <th>1957</th>\n      <td>66.615586</td>\n      <td>6868.118064</td>\n    </tr>\n    <tr>\n      <th>1962</th>\n      <td>68.480241</td>\n      <td>8274.944747</td>\n    </tr>\n    <tr>\n      <th>1967</th>\n      <td>69.696138</td>\n      <td>10040.195569</td>\n    </tr>\n    <tr>\n      <th>1972</th>\n      <td>70.752103</td>\n      <td>12335.003925</td>\n    </tr>\n    <tr>\n      <th>1977</th>\n      <td>71.908034</td>\n      <td>14117.289614</td>\n    </tr>\n    <tr>\n      <th>1982</th>\n      <td>72.767655</td>\n      <td>15433.001746</td>\n    </tr>\n    <tr>\n      <th>1987</th>\n      <td>73.583276</td>\n      <td>17031.164094</td>\n    </tr>\n    <tr>\n      <th>1992</th>\n      <td>74.370448</td>\n      <td>16767.981787</td>\n    </tr>\n    <tr>\n      <th>1997</th>\n      <td>75.435345</td>\n      <td>18784.215773</td>\n    </tr>\n    <tr>\n      <th>2002</th>\n      <td>76.644759</td>\n      <td>21409.175480</td>\n    </tr>\n    <tr>\n      <th>2007</th>\n      <td>77.586793</td>\n      <td>24756.615310</td>\n    </tr>\n    <tr>\n      <th rowspan=\"12\" valign=\"top\">Oceania</th>\n      <th>1952</th>\n      <td>69.255000</td>\n      <td>10298.085650</td>\n    </tr>\n    <tr>\n      <th>1957</th>\n      <td>70.295000</td>\n      <td>11598.522455</td>\n    </tr>\n    <tr>\n      <th>1962</th>\n      <td>71.085000</td>\n      <td>12696.452430</td>\n    </tr>\n    <tr>\n      <th>1967</th>\n      <td>71.310000</td>\n      <td>14463.918930</td>\n    </tr>\n    <tr>\n      <th>1972</th>\n      <td>71.910000</td>\n      <td>16417.333380</td>\n    </tr>\n    <tr>\n      <th>1977</th>\n      <td>72.855000</td>\n      <td>17283.957605</td>\n    </tr>\n    <tr>\n      <th>1982</th>\n      <td>74.290000</td>\n      <td>18554.709840</td>\n    </tr>\n    <tr>\n      <th>1987</th>\n      <td>75.320000</td>\n      <td>20448.040160</td>\n    </tr>\n    <tr>\n      <th>1992</th>\n      <td>76.945000</td>\n      <td>20894.045885</td>\n    </tr>\n    <tr>\n      <th>1997</th>\n      <td>78.190000</td>\n      <td>24024.175170</td>\n    </tr>\n    <tr>\n      <th>2002</th>\n      <td>79.740000</td>\n      <td>26938.778040</td>\n    </tr>\n    <tr>\n      <th>2007</th>\n      <td>80.719500</td>\n      <td>29810.188275</td>\n    </tr>\n  </tbody>\n</table>\n</div>"
          },
          "metadata": {}
        }
      ],
      "execution_count": 49
    },
    {
      "id": "941cb139-65b4-4c60-bbee-9c27a9bbfa74",
      "cell_type": "code",
      "source": "df.groupby(['year','continent'])[['lifeExp','gdpPercap']].mean()",
      "metadata": {
        "trusted": true
      },
      "outputs": [
        {
          "execution_count": 50,
          "output_type": "execute_result",
          "data": {
            "text/plain": "                  lifeExp     gdpPercap\nyear continent                         \n1952 Africa     39.135500   1252.572466\n     Americas   53.378292   4161.150810\n     Asia       46.314394   5195.484004\n     Europe     64.725000   5661.057435\n     Oceania    69.255000  10298.085650\n1957 Africa     41.266346   1385.236062\n     Americas   55.960280   4616.043733\n     Asia       49.318544   5787.732940\n     Europe     66.615586   6868.118064\n     Oceania    70.295000  11598.522455\n1962 Africa     43.319442   1598.078825\n     Americas   58.398760   4901.541870\n     Asia       51.563223   5729.369625\n     Europe     68.480241   8274.944747\n     Oceania    71.085000  12696.452430\n1967 Africa     45.334538   2050.363801\n     Americas   60.410920   5668.253496\n     Asia       55.308754   6131.641381\n     Europe     69.696138  10040.195569\n     Oceania    71.310000  14463.918930\n1972 Africa     47.450942   2339.615674\n     Americas   62.394920   6491.334139\n     Asia       57.319269   8187.468699\n     Europe     70.752103  12335.003925\n     Oceania    71.910000  16417.333380\n1977 Africa     49.580423   2585.938508\n     Americas   64.391560   7352.007126\n     Asia       59.610556   7791.314020\n     Europe     71.908034  14117.289614\n     Oceania    72.855000  17283.957605\n1982 Africa     51.592865   2481.592960\n     Americas   66.228840   7506.737088\n     Asia       62.617939   7434.135157\n     Europe     72.767655  15433.001746\n     Oceania    74.290000  18554.709840\n1987 Africa     53.344788   2282.668991\n     Americas   68.090720   7793.400261\n     Asia       64.851182   7608.226508\n     Europe     73.583276  17031.164094\n     Oceania    75.320000  20448.040160\n1992 Africa     53.629577   2281.810333\n     Americas   69.568360   8044.934406\n     Asia       66.537212   8639.690248\n     Europe     74.370448  16767.981787\n     Oceania    76.945000  20894.045885\n1997 Africa     53.598269   2378.759555\n     Americas   71.150480   8889.300863\n     Asia       68.020515   9834.093295\n     Europe     75.435345  18784.215773\n     Oceania    78.190000  24024.175170\n2002 Africa     53.325231   2599.385159\n     Americas   72.422040   9287.677107\n     Asia       69.233879  10174.090397\n     Europe     76.644759  21409.175480\n     Oceania    79.740000  26938.778040\n2007 Africa     54.806038   3089.032605\n     Americas   73.608120  11003.031625\n     Asia       70.728485  12473.026870\n     Europe     77.586793  24756.615310\n     Oceania    80.719500  29810.188275",
            "text/html": "<div>\n<style scoped>\n    .dataframe tbody tr th:only-of-type {\n        vertical-align: middle;\n    }\n\n    .dataframe tbody tr th {\n        vertical-align: top;\n    }\n\n    .dataframe thead th {\n        text-align: right;\n    }\n</style>\n<table border=\"1\" class=\"dataframe\">\n  <thead>\n    <tr style=\"text-align: right;\">\n      <th></th>\n      <th></th>\n      <th>lifeExp</th>\n      <th>gdpPercap</th>\n    </tr>\n    <tr>\n      <th>year</th>\n      <th>continent</th>\n      <th></th>\n      <th></th>\n    </tr>\n  </thead>\n  <tbody>\n    <tr>\n      <th rowspan=\"5\" valign=\"top\">1952</th>\n      <th>Africa</th>\n      <td>39.135500</td>\n      <td>1252.572466</td>\n    </tr>\n    <tr>\n      <th>Americas</th>\n      <td>53.378292</td>\n      <td>4161.150810</td>\n    </tr>\n    <tr>\n      <th>Asia</th>\n      <td>46.314394</td>\n      <td>5195.484004</td>\n    </tr>\n    <tr>\n      <th>Europe</th>\n      <td>64.725000</td>\n      <td>5661.057435</td>\n    </tr>\n    <tr>\n      <th>Oceania</th>\n      <td>69.255000</td>\n      <td>10298.085650</td>\n    </tr>\n    <tr>\n      <th rowspan=\"5\" valign=\"top\">1957</th>\n      <th>Africa</th>\n      <td>41.266346</td>\n      <td>1385.236062</td>\n    </tr>\n    <tr>\n      <th>Americas</th>\n      <td>55.960280</td>\n      <td>4616.043733</td>\n    </tr>\n    <tr>\n      <th>Asia</th>\n      <td>49.318544</td>\n      <td>5787.732940</td>\n    </tr>\n    <tr>\n      <th>Europe</th>\n      <td>66.615586</td>\n      <td>6868.118064</td>\n    </tr>\n    <tr>\n      <th>Oceania</th>\n      <td>70.295000</td>\n      <td>11598.522455</td>\n    </tr>\n    <tr>\n      <th rowspan=\"5\" valign=\"top\">1962</th>\n      <th>Africa</th>\n      <td>43.319442</td>\n      <td>1598.078825</td>\n    </tr>\n    <tr>\n      <th>Americas</th>\n      <td>58.398760</td>\n      <td>4901.541870</td>\n    </tr>\n    <tr>\n      <th>Asia</th>\n      <td>51.563223</td>\n      <td>5729.369625</td>\n    </tr>\n    <tr>\n      <th>Europe</th>\n      <td>68.480241</td>\n      <td>8274.944747</td>\n    </tr>\n    <tr>\n      <th>Oceania</th>\n      <td>71.085000</td>\n      <td>12696.452430</td>\n    </tr>\n    <tr>\n      <th rowspan=\"5\" valign=\"top\">1967</th>\n      <th>Africa</th>\n      <td>45.334538</td>\n      <td>2050.363801</td>\n    </tr>\n    <tr>\n      <th>Americas</th>\n      <td>60.410920</td>\n      <td>5668.253496</td>\n    </tr>\n    <tr>\n      <th>Asia</th>\n      <td>55.308754</td>\n      <td>6131.641381</td>\n    </tr>\n    <tr>\n      <th>Europe</th>\n      <td>69.696138</td>\n      <td>10040.195569</td>\n    </tr>\n    <tr>\n      <th>Oceania</th>\n      <td>71.310000</td>\n      <td>14463.918930</td>\n    </tr>\n    <tr>\n      <th rowspan=\"5\" valign=\"top\">1972</th>\n      <th>Africa</th>\n      <td>47.450942</td>\n      <td>2339.615674</td>\n    </tr>\n    <tr>\n      <th>Americas</th>\n      <td>62.394920</td>\n      <td>6491.334139</td>\n    </tr>\n    <tr>\n      <th>Asia</th>\n      <td>57.319269</td>\n      <td>8187.468699</td>\n    </tr>\n    <tr>\n      <th>Europe</th>\n      <td>70.752103</td>\n      <td>12335.003925</td>\n    </tr>\n    <tr>\n      <th>Oceania</th>\n      <td>71.910000</td>\n      <td>16417.333380</td>\n    </tr>\n    <tr>\n      <th rowspan=\"5\" valign=\"top\">1977</th>\n      <th>Africa</th>\n      <td>49.580423</td>\n      <td>2585.938508</td>\n    </tr>\n    <tr>\n      <th>Americas</th>\n      <td>64.391560</td>\n      <td>7352.007126</td>\n    </tr>\n    <tr>\n      <th>Asia</th>\n      <td>59.610556</td>\n      <td>7791.314020</td>\n    </tr>\n    <tr>\n      <th>Europe</th>\n      <td>71.908034</td>\n      <td>14117.289614</td>\n    </tr>\n    <tr>\n      <th>Oceania</th>\n      <td>72.855000</td>\n      <td>17283.957605</td>\n    </tr>\n    <tr>\n      <th rowspan=\"5\" valign=\"top\">1982</th>\n      <th>Africa</th>\n      <td>51.592865</td>\n      <td>2481.592960</td>\n    </tr>\n    <tr>\n      <th>Americas</th>\n      <td>66.228840</td>\n      <td>7506.737088</td>\n    </tr>\n    <tr>\n      <th>Asia</th>\n      <td>62.617939</td>\n      <td>7434.135157</td>\n    </tr>\n    <tr>\n      <th>Europe</th>\n      <td>72.767655</td>\n      <td>15433.001746</td>\n    </tr>\n    <tr>\n      <th>Oceania</th>\n      <td>74.290000</td>\n      <td>18554.709840</td>\n    </tr>\n    <tr>\n      <th rowspan=\"5\" valign=\"top\">1987</th>\n      <th>Africa</th>\n      <td>53.344788</td>\n      <td>2282.668991</td>\n    </tr>\n    <tr>\n      <th>Americas</th>\n      <td>68.090720</td>\n      <td>7793.400261</td>\n    </tr>\n    <tr>\n      <th>Asia</th>\n      <td>64.851182</td>\n      <td>7608.226508</td>\n    </tr>\n    <tr>\n      <th>Europe</th>\n      <td>73.583276</td>\n      <td>17031.164094</td>\n    </tr>\n    <tr>\n      <th>Oceania</th>\n      <td>75.320000</td>\n      <td>20448.040160</td>\n    </tr>\n    <tr>\n      <th rowspan=\"5\" valign=\"top\">1992</th>\n      <th>Africa</th>\n      <td>53.629577</td>\n      <td>2281.810333</td>\n    </tr>\n    <tr>\n      <th>Americas</th>\n      <td>69.568360</td>\n      <td>8044.934406</td>\n    </tr>\n    <tr>\n      <th>Asia</th>\n      <td>66.537212</td>\n      <td>8639.690248</td>\n    </tr>\n    <tr>\n      <th>Europe</th>\n      <td>74.370448</td>\n      <td>16767.981787</td>\n    </tr>\n    <tr>\n      <th>Oceania</th>\n      <td>76.945000</td>\n      <td>20894.045885</td>\n    </tr>\n    <tr>\n      <th rowspan=\"5\" valign=\"top\">1997</th>\n      <th>Africa</th>\n      <td>53.598269</td>\n      <td>2378.759555</td>\n    </tr>\n    <tr>\n      <th>Americas</th>\n      <td>71.150480</td>\n      <td>8889.300863</td>\n    </tr>\n    <tr>\n      <th>Asia</th>\n      <td>68.020515</td>\n      <td>9834.093295</td>\n    </tr>\n    <tr>\n      <th>Europe</th>\n      <td>75.435345</td>\n      <td>18784.215773</td>\n    </tr>\n    <tr>\n      <th>Oceania</th>\n      <td>78.190000</td>\n      <td>24024.175170</td>\n    </tr>\n    <tr>\n      <th rowspan=\"5\" valign=\"top\">2002</th>\n      <th>Africa</th>\n      <td>53.325231</td>\n      <td>2599.385159</td>\n    </tr>\n    <tr>\n      <th>Americas</th>\n      <td>72.422040</td>\n      <td>9287.677107</td>\n    </tr>\n    <tr>\n      <th>Asia</th>\n      <td>69.233879</td>\n      <td>10174.090397</td>\n    </tr>\n    <tr>\n      <th>Europe</th>\n      <td>76.644759</td>\n      <td>21409.175480</td>\n    </tr>\n    <tr>\n      <th>Oceania</th>\n      <td>79.740000</td>\n      <td>26938.778040</td>\n    </tr>\n    <tr>\n      <th rowspan=\"5\" valign=\"top\">2007</th>\n      <th>Africa</th>\n      <td>54.806038</td>\n      <td>3089.032605</td>\n    </tr>\n    <tr>\n      <th>Americas</th>\n      <td>73.608120</td>\n      <td>11003.031625</td>\n    </tr>\n    <tr>\n      <th>Asia</th>\n      <td>70.728485</td>\n      <td>12473.026870</td>\n    </tr>\n    <tr>\n      <th>Europe</th>\n      <td>77.586793</td>\n      <td>24756.615310</td>\n    </tr>\n    <tr>\n      <th>Oceania</th>\n      <td>80.719500</td>\n      <td>29810.188275</td>\n    </tr>\n  </tbody>\n</table>\n</div>"
          },
          "metadata": {}
        }
      ],
      "execution_count": 50
    },
    {
      "id": "1334d4f8-0126-4b65-98e0-eccde22a4573",
      "cell_type": "code",
      "source": "dfgb = df.groupby(['continent','year'])[['lifeExp','gdpPercap']].mean()\ndfgb.reset_index()",
      "metadata": {
        "trusted": true
      },
      "outputs": [
        {
          "execution_count": 51,
          "output_type": "execute_result",
          "data": {
            "text/plain": "   continent  year    lifeExp     gdpPercap\n0     Africa  1952  39.135500   1252.572466\n1     Africa  1957  41.266346   1385.236062\n2     Africa  1962  43.319442   1598.078825\n3     Africa  1967  45.334538   2050.363801\n4     Africa  1972  47.450942   2339.615674\n5     Africa  1977  49.580423   2585.938508\n6     Africa  1982  51.592865   2481.592960\n7     Africa  1987  53.344788   2282.668991\n8     Africa  1992  53.629577   2281.810333\n9     Africa  1997  53.598269   2378.759555\n10    Africa  2002  53.325231   2599.385159\n11    Africa  2007  54.806038   3089.032605\n12  Americas  1952  53.378292   4161.150810\n13  Americas  1957  55.960280   4616.043733\n14  Americas  1962  58.398760   4901.541870\n15  Americas  1967  60.410920   5668.253496\n16  Americas  1972  62.394920   6491.334139\n17  Americas  1977  64.391560   7352.007126\n18  Americas  1982  66.228840   7506.737088\n19  Americas  1987  68.090720   7793.400261\n20  Americas  1992  69.568360   8044.934406\n21  Americas  1997  71.150480   8889.300863\n22  Americas  2002  72.422040   9287.677107\n23  Americas  2007  73.608120  11003.031625\n24      Asia  1952  46.314394   5195.484004\n25      Asia  1957  49.318544   5787.732940\n26      Asia  1962  51.563223   5729.369625\n27      Asia  1967  55.308754   6131.641381\n28      Asia  1972  57.319269   8187.468699\n29      Asia  1977  59.610556   7791.314020\n30      Asia  1982  62.617939   7434.135157\n31      Asia  1987  64.851182   7608.226508\n32      Asia  1992  66.537212   8639.690248\n33      Asia  1997  68.020515   9834.093295\n34      Asia  2002  69.233879  10174.090397\n35      Asia  2007  70.728485  12473.026870\n36    Europe  1952  64.725000   5661.057435\n37    Europe  1957  66.615586   6868.118064\n38    Europe  1962  68.480241   8274.944747\n39    Europe  1967  69.696138  10040.195569\n40    Europe  1972  70.752103  12335.003925\n41    Europe  1977  71.908034  14117.289614\n42    Europe  1982  72.767655  15433.001746\n43    Europe  1987  73.583276  17031.164094\n44    Europe  1992  74.370448  16767.981787\n45    Europe  1997  75.435345  18784.215773\n46    Europe  2002  76.644759  21409.175480\n47    Europe  2007  77.586793  24756.615310\n48   Oceania  1952  69.255000  10298.085650\n49   Oceania  1957  70.295000  11598.522455\n50   Oceania  1962  71.085000  12696.452430\n51   Oceania  1967  71.310000  14463.918930\n52   Oceania  1972  71.910000  16417.333380\n53   Oceania  1977  72.855000  17283.957605\n54   Oceania  1982  74.290000  18554.709840\n55   Oceania  1987  75.320000  20448.040160\n56   Oceania  1992  76.945000  20894.045885\n57   Oceania  1997  78.190000  24024.175170\n58   Oceania  2002  79.740000  26938.778040\n59   Oceania  2007  80.719500  29810.188275",
            "text/html": "<div>\n<style scoped>\n    .dataframe tbody tr th:only-of-type {\n        vertical-align: middle;\n    }\n\n    .dataframe tbody tr th {\n        vertical-align: top;\n    }\n\n    .dataframe thead th {\n        text-align: right;\n    }\n</style>\n<table border=\"1\" class=\"dataframe\">\n  <thead>\n    <tr style=\"text-align: right;\">\n      <th></th>\n      <th>continent</th>\n      <th>year</th>\n      <th>lifeExp</th>\n      <th>gdpPercap</th>\n    </tr>\n  </thead>\n  <tbody>\n    <tr>\n      <th>0</th>\n      <td>Africa</td>\n      <td>1952</td>\n      <td>39.135500</td>\n      <td>1252.572466</td>\n    </tr>\n    <tr>\n      <th>1</th>\n      <td>Africa</td>\n      <td>1957</td>\n      <td>41.266346</td>\n      <td>1385.236062</td>\n    </tr>\n    <tr>\n      <th>2</th>\n      <td>Africa</td>\n      <td>1962</td>\n      <td>43.319442</td>\n      <td>1598.078825</td>\n    </tr>\n    <tr>\n      <th>3</th>\n      <td>Africa</td>\n      <td>1967</td>\n      <td>45.334538</td>\n      <td>2050.363801</td>\n    </tr>\n    <tr>\n      <th>4</th>\n      <td>Africa</td>\n      <td>1972</td>\n      <td>47.450942</td>\n      <td>2339.615674</td>\n    </tr>\n    <tr>\n      <th>5</th>\n      <td>Africa</td>\n      <td>1977</td>\n      <td>49.580423</td>\n      <td>2585.938508</td>\n    </tr>\n    <tr>\n      <th>6</th>\n      <td>Africa</td>\n      <td>1982</td>\n      <td>51.592865</td>\n      <td>2481.592960</td>\n    </tr>\n    <tr>\n      <th>7</th>\n      <td>Africa</td>\n      <td>1987</td>\n      <td>53.344788</td>\n      <td>2282.668991</td>\n    </tr>\n    <tr>\n      <th>8</th>\n      <td>Africa</td>\n      <td>1992</td>\n      <td>53.629577</td>\n      <td>2281.810333</td>\n    </tr>\n    <tr>\n      <th>9</th>\n      <td>Africa</td>\n      <td>1997</td>\n      <td>53.598269</td>\n      <td>2378.759555</td>\n    </tr>\n    <tr>\n      <th>10</th>\n      <td>Africa</td>\n      <td>2002</td>\n      <td>53.325231</td>\n      <td>2599.385159</td>\n    </tr>\n    <tr>\n      <th>11</th>\n      <td>Africa</td>\n      <td>2007</td>\n      <td>54.806038</td>\n      <td>3089.032605</td>\n    </tr>\n    <tr>\n      <th>12</th>\n      <td>Americas</td>\n      <td>1952</td>\n      <td>53.378292</td>\n      <td>4161.150810</td>\n    </tr>\n    <tr>\n      <th>13</th>\n      <td>Americas</td>\n      <td>1957</td>\n      <td>55.960280</td>\n      <td>4616.043733</td>\n    </tr>\n    <tr>\n      <th>14</th>\n      <td>Americas</td>\n      <td>1962</td>\n      <td>58.398760</td>\n      <td>4901.541870</td>\n    </tr>\n    <tr>\n      <th>15</th>\n      <td>Americas</td>\n      <td>1967</td>\n      <td>60.410920</td>\n      <td>5668.253496</td>\n    </tr>\n    <tr>\n      <th>16</th>\n      <td>Americas</td>\n      <td>1972</td>\n      <td>62.394920</td>\n      <td>6491.334139</td>\n    </tr>\n    <tr>\n      <th>17</th>\n      <td>Americas</td>\n      <td>1977</td>\n      <td>64.391560</td>\n      <td>7352.007126</td>\n    </tr>\n    <tr>\n      <th>18</th>\n      <td>Americas</td>\n      <td>1982</td>\n      <td>66.228840</td>\n      <td>7506.737088</td>\n    </tr>\n    <tr>\n      <th>19</th>\n      <td>Americas</td>\n      <td>1987</td>\n      <td>68.090720</td>\n      <td>7793.400261</td>\n    </tr>\n    <tr>\n      <th>20</th>\n      <td>Americas</td>\n      <td>1992</td>\n      <td>69.568360</td>\n      <td>8044.934406</td>\n    </tr>\n    <tr>\n      <th>21</th>\n      <td>Americas</td>\n      <td>1997</td>\n      <td>71.150480</td>\n      <td>8889.300863</td>\n    </tr>\n    <tr>\n      <th>22</th>\n      <td>Americas</td>\n      <td>2002</td>\n      <td>72.422040</td>\n      <td>9287.677107</td>\n    </tr>\n    <tr>\n      <th>23</th>\n      <td>Americas</td>\n      <td>2007</td>\n      <td>73.608120</td>\n      <td>11003.031625</td>\n    </tr>\n    <tr>\n      <th>24</th>\n      <td>Asia</td>\n      <td>1952</td>\n      <td>46.314394</td>\n      <td>5195.484004</td>\n    </tr>\n    <tr>\n      <th>25</th>\n      <td>Asia</td>\n      <td>1957</td>\n      <td>49.318544</td>\n      <td>5787.732940</td>\n    </tr>\n    <tr>\n      <th>26</th>\n      <td>Asia</td>\n      <td>1962</td>\n      <td>51.563223</td>\n      <td>5729.369625</td>\n    </tr>\n    <tr>\n      <th>27</th>\n      <td>Asia</td>\n      <td>1967</td>\n      <td>55.308754</td>\n      <td>6131.641381</td>\n    </tr>\n    <tr>\n      <th>28</th>\n      <td>Asia</td>\n      <td>1972</td>\n      <td>57.319269</td>\n      <td>8187.468699</td>\n    </tr>\n    <tr>\n      <th>29</th>\n      <td>Asia</td>\n      <td>1977</td>\n      <td>59.610556</td>\n      <td>7791.314020</td>\n    </tr>\n    <tr>\n      <th>30</th>\n      <td>Asia</td>\n      <td>1982</td>\n      <td>62.617939</td>\n      <td>7434.135157</td>\n    </tr>\n    <tr>\n      <th>31</th>\n      <td>Asia</td>\n      <td>1987</td>\n      <td>64.851182</td>\n      <td>7608.226508</td>\n    </tr>\n    <tr>\n      <th>32</th>\n      <td>Asia</td>\n      <td>1992</td>\n      <td>66.537212</td>\n      <td>8639.690248</td>\n    </tr>\n    <tr>\n      <th>33</th>\n      <td>Asia</td>\n      <td>1997</td>\n      <td>68.020515</td>\n      <td>9834.093295</td>\n    </tr>\n    <tr>\n      <th>34</th>\n      <td>Asia</td>\n      <td>2002</td>\n      <td>69.233879</td>\n      <td>10174.090397</td>\n    </tr>\n    <tr>\n      <th>35</th>\n      <td>Asia</td>\n      <td>2007</td>\n      <td>70.728485</td>\n      <td>12473.026870</td>\n    </tr>\n    <tr>\n      <th>36</th>\n      <td>Europe</td>\n      <td>1952</td>\n      <td>64.725000</td>\n      <td>5661.057435</td>\n    </tr>\n    <tr>\n      <th>37</th>\n      <td>Europe</td>\n      <td>1957</td>\n      <td>66.615586</td>\n      <td>6868.118064</td>\n    </tr>\n    <tr>\n      <th>38</th>\n      <td>Europe</td>\n      <td>1962</td>\n      <td>68.480241</td>\n      <td>8274.944747</td>\n    </tr>\n    <tr>\n      <th>39</th>\n      <td>Europe</td>\n      <td>1967</td>\n      <td>69.696138</td>\n      <td>10040.195569</td>\n    </tr>\n    <tr>\n      <th>40</th>\n      <td>Europe</td>\n      <td>1972</td>\n      <td>70.752103</td>\n      <td>12335.003925</td>\n    </tr>\n    <tr>\n      <th>41</th>\n      <td>Europe</td>\n      <td>1977</td>\n      <td>71.908034</td>\n      <td>14117.289614</td>\n    </tr>\n    <tr>\n      <th>42</th>\n      <td>Europe</td>\n      <td>1982</td>\n      <td>72.767655</td>\n      <td>15433.001746</td>\n    </tr>\n    <tr>\n      <th>43</th>\n      <td>Europe</td>\n      <td>1987</td>\n      <td>73.583276</td>\n      <td>17031.164094</td>\n    </tr>\n    <tr>\n      <th>44</th>\n      <td>Europe</td>\n      <td>1992</td>\n      <td>74.370448</td>\n      <td>16767.981787</td>\n    </tr>\n    <tr>\n      <th>45</th>\n      <td>Europe</td>\n      <td>1997</td>\n      <td>75.435345</td>\n      <td>18784.215773</td>\n    </tr>\n    <tr>\n      <th>46</th>\n      <td>Europe</td>\n      <td>2002</td>\n      <td>76.644759</td>\n      <td>21409.175480</td>\n    </tr>\n    <tr>\n      <th>47</th>\n      <td>Europe</td>\n      <td>2007</td>\n      <td>77.586793</td>\n      <td>24756.615310</td>\n    </tr>\n    <tr>\n      <th>48</th>\n      <td>Oceania</td>\n      <td>1952</td>\n      <td>69.255000</td>\n      <td>10298.085650</td>\n    </tr>\n    <tr>\n      <th>49</th>\n      <td>Oceania</td>\n      <td>1957</td>\n      <td>70.295000</td>\n      <td>11598.522455</td>\n    </tr>\n    <tr>\n      <th>50</th>\n      <td>Oceania</td>\n      <td>1962</td>\n      <td>71.085000</td>\n      <td>12696.452430</td>\n    </tr>\n    <tr>\n      <th>51</th>\n      <td>Oceania</td>\n      <td>1967</td>\n      <td>71.310000</td>\n      <td>14463.918930</td>\n    </tr>\n    <tr>\n      <th>52</th>\n      <td>Oceania</td>\n      <td>1972</td>\n      <td>71.910000</td>\n      <td>16417.333380</td>\n    </tr>\n    <tr>\n      <th>53</th>\n      <td>Oceania</td>\n      <td>1977</td>\n      <td>72.855000</td>\n      <td>17283.957605</td>\n    </tr>\n    <tr>\n      <th>54</th>\n      <td>Oceania</td>\n      <td>1982</td>\n      <td>74.290000</td>\n      <td>18554.709840</td>\n    </tr>\n    <tr>\n      <th>55</th>\n      <td>Oceania</td>\n      <td>1987</td>\n      <td>75.320000</td>\n      <td>20448.040160</td>\n    </tr>\n    <tr>\n      <th>56</th>\n      <td>Oceania</td>\n      <td>1992</td>\n      <td>76.945000</td>\n      <td>20894.045885</td>\n    </tr>\n    <tr>\n      <th>57</th>\n      <td>Oceania</td>\n      <td>1997</td>\n      <td>78.190000</td>\n      <td>24024.175170</td>\n    </tr>\n    <tr>\n      <th>58</th>\n      <td>Oceania</td>\n      <td>2002</td>\n      <td>79.740000</td>\n      <td>26938.778040</td>\n    </tr>\n    <tr>\n      <th>59</th>\n      <td>Oceania</td>\n      <td>2007</td>\n      <td>80.719500</td>\n      <td>29810.188275</td>\n    </tr>\n  </tbody>\n</table>\n</div>"
          },
          "metadata": {}
        }
      ],
      "execution_count": 51
    },
    {
      "id": "4f048637-0160-4ab3-9b7c-e10d1dc1a971",
      "cell_type": "code",
      "source": "df.groupby('continent')['country'].nunique()",
      "metadata": {
        "trusted": true
      },
      "outputs": [
        {
          "execution_count": 52,
          "output_type": "execute_result",
          "data": {
            "text/plain": "continent\nAfrica      52\nAmericas    25\nAsia        33\nEurope      30\nOceania      2\nName: country, dtype: int64"
          },
          "metadata": {}
        }
      ],
      "execution_count": 52
    },
    {
      "id": "d9f1358a-d451-471e-8661-a4cb3429fcfa",
      "cell_type": "code",
      "source": "df.sort_values(['lifeExp','year'],ascending=[False,True])",
      "metadata": {
        "trusted": true
      },
      "outputs": [
        {
          "execution_count": 54,
          "output_type": "execute_result",
          "data": {
            "text/plain": "               country continent  year  lifeExp        pop     gdpPercap  \\\n803              Japan      Asia  2007   82.603  127467972  31656.068060   \n671   Hong Kong, China      Asia  2007   82.208    6980412  39724.978670   \n802              Japan      Asia  2002   82.000  127065841  28604.591900   \n695            Iceland    Europe  2007   81.757     301931  36180.789190   \n1487       Switzerland    Europe  2007   81.701    7554661  37506.419070   \n...                ...       ...   ...      ...        ...           ...   \n36              Angola    Africa  1952   30.015    4232095   3520.610273   \n552             Gambia    Africa  1952   30.000     284320    485.230659   \n0          Afghanistan      Asia  1952   28.801    8425333    779.445314   \n1292            Rwanda    Africa  1992   23.599    7290203    737.068595   \n12             Albania    Europe  1952      NaN    1282697   1601.056136   \n\n     iso_alpha  \n803        JPN  \n671        HKG  \n802        JPN  \n695        ISL  \n1487       CHE  \n...        ...  \n36         AGO  \n552        GMB  \n0          AFG  \n1292       RWA  \n12         ALB  \n\n[1703 rows x 7 columns]",
            "text/html": "<div>\n<style scoped>\n    .dataframe tbody tr th:only-of-type {\n        vertical-align: middle;\n    }\n\n    .dataframe tbody tr th {\n        vertical-align: top;\n    }\n\n    .dataframe thead th {\n        text-align: right;\n    }\n</style>\n<table border=\"1\" class=\"dataframe\">\n  <thead>\n    <tr style=\"text-align: right;\">\n      <th></th>\n      <th>country</th>\n      <th>continent</th>\n      <th>year</th>\n      <th>lifeExp</th>\n      <th>pop</th>\n      <th>gdpPercap</th>\n      <th>iso_alpha</th>\n    </tr>\n  </thead>\n  <tbody>\n    <tr>\n      <th>803</th>\n      <td>Japan</td>\n      <td>Asia</td>\n      <td>2007</td>\n      <td>82.603</td>\n      <td>127467972</td>\n      <td>31656.068060</td>\n      <td>JPN</td>\n    </tr>\n    <tr>\n      <th>671</th>\n      <td>Hong Kong, China</td>\n      <td>Asia</td>\n      <td>2007</td>\n      <td>82.208</td>\n      <td>6980412</td>\n      <td>39724.978670</td>\n      <td>HKG</td>\n    </tr>\n    <tr>\n      <th>802</th>\n      <td>Japan</td>\n      <td>Asia</td>\n      <td>2002</td>\n      <td>82.000</td>\n      <td>127065841</td>\n      <td>28604.591900</td>\n      <td>JPN</td>\n    </tr>\n    <tr>\n      <th>695</th>\n      <td>Iceland</td>\n      <td>Europe</td>\n      <td>2007</td>\n      <td>81.757</td>\n      <td>301931</td>\n      <td>36180.789190</td>\n      <td>ISL</td>\n    </tr>\n    <tr>\n      <th>1487</th>\n      <td>Switzerland</td>\n      <td>Europe</td>\n      <td>2007</td>\n      <td>81.701</td>\n      <td>7554661</td>\n      <td>37506.419070</td>\n      <td>CHE</td>\n    </tr>\n    <tr>\n      <th>...</th>\n      <td>...</td>\n      <td>...</td>\n      <td>...</td>\n      <td>...</td>\n      <td>...</td>\n      <td>...</td>\n      <td>...</td>\n    </tr>\n    <tr>\n      <th>36</th>\n      <td>Angola</td>\n      <td>Africa</td>\n      <td>1952</td>\n      <td>30.015</td>\n      <td>4232095</td>\n      <td>3520.610273</td>\n      <td>AGO</td>\n    </tr>\n    <tr>\n      <th>552</th>\n      <td>Gambia</td>\n      <td>Africa</td>\n      <td>1952</td>\n      <td>30.000</td>\n      <td>284320</td>\n      <td>485.230659</td>\n      <td>GMB</td>\n    </tr>\n    <tr>\n      <th>0</th>\n      <td>Afghanistan</td>\n      <td>Asia</td>\n      <td>1952</td>\n      <td>28.801</td>\n      <td>8425333</td>\n      <td>779.445314</td>\n      <td>AFG</td>\n    </tr>\n    <tr>\n      <th>1292</th>\n      <td>Rwanda</td>\n      <td>Africa</td>\n      <td>1992</td>\n      <td>23.599</td>\n      <td>7290203</td>\n      <td>737.068595</td>\n      <td>RWA</td>\n    </tr>\n    <tr>\n      <th>12</th>\n      <td>Albania</td>\n      <td>Europe</td>\n      <td>1952</td>\n      <td>NaN</td>\n      <td>1282697</td>\n      <td>1601.056136</td>\n      <td>ALB</td>\n    </tr>\n  </tbody>\n</table>\n<p>1703 rows × 7 columns</p>\n</div>"
          },
          "metadata": {}
        }
      ],
      "execution_count": 54
    },
    {
      "id": "05084e23-cd72-47ed-a97d-31abb2475df1",
      "cell_type": "code",
      "source": "pd.Series([10,20,30])",
      "metadata": {
        "trusted": true
      },
      "outputs": [
        {
          "execution_count": 55,
          "output_type": "execute_result",
          "data": {
            "text/plain": "0    10\n1    20\n2    30\ndtype: int64"
          },
          "metadata": {}
        }
      ],
      "execution_count": 55
    },
    {
      "id": "6d288bbc-054c-4dbd-9209-f66d30051c32",
      "cell_type": "code",
      "source": "pd.DataFrame([[10,20],[30,40]],columns=['A','B'])",
      "metadata": {
        "trusted": true
      },
      "outputs": [
        {
          "execution_count": 59,
          "output_type": "execute_result",
          "data": {
            "text/plain": "    A   B\n0  10  20\n1  30  40",
            "text/html": "<div>\n<style scoped>\n    .dataframe tbody tr th:only-of-type {\n        vertical-align: middle;\n    }\n\n    .dataframe tbody tr th {\n        vertical-align: top;\n    }\n\n    .dataframe thead th {\n        text-align: right;\n    }\n</style>\n<table border=\"1\" class=\"dataframe\">\n  <thead>\n    <tr style=\"text-align: right;\">\n      <th></th>\n      <th>A</th>\n      <th>B</th>\n    </tr>\n  </thead>\n  <tbody>\n    <tr>\n      <th>0</th>\n      <td>10</td>\n      <td>20</td>\n    </tr>\n    <tr>\n      <th>1</th>\n      <td>30</td>\n      <td>40</td>\n    </tr>\n  </tbody>\n</table>\n</div>"
          },
          "metadata": {}
        }
      ],
      "execution_count": 59
    },
    {
      "id": "2b62ad2d-1b13-4d2f-90c9-f5ffee1dced0",
      "cell_type": "code",
      "source": "a = pd.DataFrame({'A':[10,30],'B':[10,30]})\nb= pd.DataFrame({'A':[10,30],'C':[10,30]})",
      "metadata": {
        "trusted": true
      },
      "outputs": [],
      "execution_count": 64
    },
    {
      "id": "666edcc9-956b-4bf4-8507-ebe8b0102dab",
      "cell_type": "code",
      "source": " a",
      "metadata": {
        "trusted": true
      },
      "outputs": [
        {
          "execution_count": 65,
          "output_type": "execute_result",
          "data": {
            "text/plain": "    A   B\n0  10  10\n1  30  30",
            "text/html": "<div>\n<style scoped>\n    .dataframe tbody tr th:only-of-type {\n        vertical-align: middle;\n    }\n\n    .dataframe tbody tr th {\n        vertical-align: top;\n    }\n\n    .dataframe thead th {\n        text-align: right;\n    }\n</style>\n<table border=\"1\" class=\"dataframe\">\n  <thead>\n    <tr style=\"text-align: right;\">\n      <th></th>\n      <th>A</th>\n      <th>B</th>\n    </tr>\n  </thead>\n  <tbody>\n    <tr>\n      <th>0</th>\n      <td>10</td>\n      <td>10</td>\n    </tr>\n    <tr>\n      <th>1</th>\n      <td>30</td>\n      <td>30</td>\n    </tr>\n  </tbody>\n</table>\n</div>"
          },
          "metadata": {}
        }
      ],
      "execution_count": 65
    },
    {
      "id": "45cb6839-dd9e-4384-a14b-5f8ade1cedb8",
      "cell_type": "code",
      "source": "b",
      "metadata": {
        "trusted": true
      },
      "outputs": [
        {
          "execution_count": 66,
          "output_type": "execute_result",
          "data": {
            "text/plain": "    A   C\n0  10  10\n1  30  30",
            "text/html": "<div>\n<style scoped>\n    .dataframe tbody tr th:only-of-type {\n        vertical-align: middle;\n    }\n\n    .dataframe tbody tr th {\n        vertical-align: top;\n    }\n\n    .dataframe thead th {\n        text-align: right;\n    }\n</style>\n<table border=\"1\" class=\"dataframe\">\n  <thead>\n    <tr style=\"text-align: right;\">\n      <th></th>\n      <th>A</th>\n      <th>C</th>\n    </tr>\n  </thead>\n  <tbody>\n    <tr>\n      <th>0</th>\n      <td>10</td>\n      <td>10</td>\n    </tr>\n    <tr>\n      <th>1</th>\n      <td>30</td>\n      <td>30</td>\n    </tr>\n  </tbody>\n</table>\n</div>"
          },
          "metadata": {}
        }
      ],
      "execution_count": 66
    },
    {
      "id": "c4796cc1-7532-4082-81d1-295157499a0e",
      "cell_type": "code",
      "source": "pd.concat([a,b],axis=1)",
      "metadata": {
        "trusted": true
      },
      "outputs": [
        {
          "execution_count": 69,
          "output_type": "execute_result",
          "data": {
            "text/plain": "    A   B   A   C\n0  10  10  10  10\n1  30  30  30  30",
            "text/html": "<div>\n<style scoped>\n    .dataframe tbody tr th:only-of-type {\n        vertical-align: middle;\n    }\n\n    .dataframe tbody tr th {\n        vertical-align: top;\n    }\n\n    .dataframe thead th {\n        text-align: right;\n    }\n</style>\n<table border=\"1\" class=\"dataframe\">\n  <thead>\n    <tr style=\"text-align: right;\">\n      <th></th>\n      <th>A</th>\n      <th>B</th>\n      <th>A</th>\n      <th>C</th>\n    </tr>\n  </thead>\n  <tbody>\n    <tr>\n      <th>0</th>\n      <td>10</td>\n      <td>10</td>\n      <td>10</td>\n      <td>10</td>\n    </tr>\n    <tr>\n      <th>1</th>\n      <td>30</td>\n      <td>30</td>\n      <td>30</td>\n      <td>30</td>\n    </tr>\n  </tbody>\n</table>\n</div>"
          },
          "metadata": {}
        }
      ],
      "execution_count": 69
    },
    {
      "id": "71227580-dfd2-4ff4-a87c-0753f97dd3bc",
      "cell_type": "code",
      "source": "dis = pd.read_csv('data/ebola_large_sample.csv')\ndis",
      "metadata": {
        "trusted": true
      },
      "outputs": [
        {
          "execution_count": 73,
          "output_type": "execute_result",
          "data": {
            "text/plain": "          Date  Cases_Guinea  Cases_Liberia  Cases_Nigeria  Cases_Senegal  \\\n0   2014-03-01         860.0          804.0           70.0          157.0   \n1   2014-03-02        3772.0         2731.0           51.0           45.0   \n2   2014-03-03        3092.0         2773.0           32.0          116.0   \n3   2014-03-04         466.0         1570.0           39.0            5.0   \n4   2014-03-05        4426.0         2690.0           38.0           98.0   \n..         ...           ...            ...            ...            ...   \n95  2014-06-04        4875.0         1369.0           63.0          108.0   \n96  2014-06-05        3104.0            NaN           48.0            NaN   \n97  2014-06-06        4598.0          146.0           16.0           93.0   \n98  2014-06-07           NaN         3219.0           43.0           46.0   \n99  2014-06-08        3645.0            NaN           91.0           98.0   \n\n    Cases_UnitedKingdom  Cases_Mali  Deaths  \n0                  39.0       129.0  2681.0  \n1                  15.0        34.0  1217.0  \n2                  12.0        80.0  1540.0  \n3                  49.0        89.0  2076.0  \n4                  41.0         7.0  1445.0  \n..                  ...         ...     ...  \n95                 28.0         NaN   928.0  \n96                 12.0       169.0     NaN  \n97                 11.0       136.0     NaN  \n98                 30.0       177.0  2779.0  \n99                 45.0        26.0  2799.0  \n\n[100 rows x 8 columns]",
            "text/html": "<div>\n<style scoped>\n    .dataframe tbody tr th:only-of-type {\n        vertical-align: middle;\n    }\n\n    .dataframe tbody tr th {\n        vertical-align: top;\n    }\n\n    .dataframe thead th {\n        text-align: right;\n    }\n</style>\n<table border=\"1\" class=\"dataframe\">\n  <thead>\n    <tr style=\"text-align: right;\">\n      <th></th>\n      <th>Date</th>\n      <th>Cases_Guinea</th>\n      <th>Cases_Liberia</th>\n      <th>Cases_Nigeria</th>\n      <th>Cases_Senegal</th>\n      <th>Cases_UnitedKingdom</th>\n      <th>Cases_Mali</th>\n      <th>Deaths</th>\n    </tr>\n  </thead>\n  <tbody>\n    <tr>\n      <th>0</th>\n      <td>2014-03-01</td>\n      <td>860.0</td>\n      <td>804.0</td>\n      <td>70.0</td>\n      <td>157.0</td>\n      <td>39.0</td>\n      <td>129.0</td>\n      <td>2681.0</td>\n    </tr>\n    <tr>\n      <th>1</th>\n      <td>2014-03-02</td>\n      <td>3772.0</td>\n      <td>2731.0</td>\n      <td>51.0</td>\n      <td>45.0</td>\n      <td>15.0</td>\n      <td>34.0</td>\n      <td>1217.0</td>\n    </tr>\n    <tr>\n      <th>2</th>\n      <td>2014-03-03</td>\n      <td>3092.0</td>\n      <td>2773.0</td>\n      <td>32.0</td>\n      <td>116.0</td>\n      <td>12.0</td>\n      <td>80.0</td>\n      <td>1540.0</td>\n    </tr>\n    <tr>\n      <th>3</th>\n      <td>2014-03-04</td>\n      <td>466.0</td>\n      <td>1570.0</td>\n      <td>39.0</td>\n      <td>5.0</td>\n      <td>49.0</td>\n      <td>89.0</td>\n      <td>2076.0</td>\n    </tr>\n    <tr>\n      <th>4</th>\n      <td>2014-03-05</td>\n      <td>4426.0</td>\n      <td>2690.0</td>\n      <td>38.0</td>\n      <td>98.0</td>\n      <td>41.0</td>\n      <td>7.0</td>\n      <td>1445.0</td>\n    </tr>\n    <tr>\n      <th>...</th>\n      <td>...</td>\n      <td>...</td>\n      <td>...</td>\n      <td>...</td>\n      <td>...</td>\n      <td>...</td>\n      <td>...</td>\n      <td>...</td>\n    </tr>\n    <tr>\n      <th>95</th>\n      <td>2014-06-04</td>\n      <td>4875.0</td>\n      <td>1369.0</td>\n      <td>63.0</td>\n      <td>108.0</td>\n      <td>28.0</td>\n      <td>NaN</td>\n      <td>928.0</td>\n    </tr>\n    <tr>\n      <th>96</th>\n      <td>2014-06-05</td>\n      <td>3104.0</td>\n      <td>NaN</td>\n      <td>48.0</td>\n      <td>NaN</td>\n      <td>12.0</td>\n      <td>169.0</td>\n      <td>NaN</td>\n    </tr>\n    <tr>\n      <th>97</th>\n      <td>2014-06-06</td>\n      <td>4598.0</td>\n      <td>146.0</td>\n      <td>16.0</td>\n      <td>93.0</td>\n      <td>11.0</td>\n      <td>136.0</td>\n      <td>NaN</td>\n    </tr>\n    <tr>\n      <th>98</th>\n      <td>2014-06-07</td>\n      <td>NaN</td>\n      <td>3219.0</td>\n      <td>43.0</td>\n      <td>46.0</td>\n      <td>30.0</td>\n      <td>177.0</td>\n      <td>2779.0</td>\n    </tr>\n    <tr>\n      <th>99</th>\n      <td>2014-06-08</td>\n      <td>3645.0</td>\n      <td>NaN</td>\n      <td>91.0</td>\n      <td>98.0</td>\n      <td>45.0</td>\n      <td>26.0</td>\n      <td>2799.0</td>\n    </tr>\n  </tbody>\n</table>\n<p>100 rows × 8 columns</p>\n</div>"
          },
          "metadata": {}
        }
      ],
      "execution_count": 73
    },
    {
      "id": "55fdc07e-5e80-4092-9f74-e8ccba9e3e19",
      "cell_type": "code",
      "source": "dis.Cases_Guinea.mean()",
      "metadata": {
        "trusted": true
      },
      "outputs": [
        {
          "execution_count": 78,
          "output_type": "execute_result",
          "data": {
            "text/plain": "np.float64(2464.391304347826)"
          },
          "metadata": {}
        }
      ],
      "execution_count": 78
    },
    {
      "id": "b32b3a40-23ec-4d7e-8d6a-334fda8a2303",
      "cell_type": "code",
      "source": "import numpy as np",
      "metadata": {
        "trusted": true
      },
      "outputs": [],
      "execution_count": 81
    },
    {
      "id": "a59ebcd5-d3d7-4dfc-a8a5-2b484d144965",
      "cell_type": "code",
      "source": "np.nan == np.nan",
      "metadata": {
        "trusted": true
      },
      "outputs": [
        {
          "execution_count": 82,
          "output_type": "execute_result",
          "data": {
            "text/plain": "False"
          },
          "metadata": {}
        }
      ],
      "execution_count": 82
    },
    {
      "id": "74caf8f9-1ff0-4a5e-896c-b984487bdc06",
      "cell_type": "code",
      "source": "np.nan is np.nan",
      "metadata": {
        "trusted": true
      },
      "outputs": [
        {
          "execution_count": 84,
          "output_type": "execute_result",
          "data": {
            "text/plain": "True"
          },
          "metadata": {}
        }
      ],
      "execution_count": 84
    },
    {
      "id": "8c30c9cd-4929-4a93-9c02-70d0906a0712",
      "cell_type": "code",
      "source": "pd.isnull(np.nan)",
      "metadata": {
        "trusted": true
      },
      "outputs": [
        {
          "execution_count": 87,
          "output_type": "execute_result",
          "data": {
            "text/plain": "True"
          },
          "metadata": {}
        }
      ],
      "execution_count": 87
    },
    {
      "id": "0f55b04c-6be7-4bc2-bae3-04b1f950e786",
      "cell_type": "code",
      "source": "dis.info()",
      "metadata": {
        "trusted": true
      },
      "outputs": [
        {
          "name": "stdout",
          "output_type": "stream",
          "text": "<class 'pandas.core.frame.DataFrame'>\nRangeIndex: 100 entries, 0 to 99\nData columns (total 8 columns):\n #   Column               Non-Null Count  Dtype  \n---  ------               --------------  -----  \n 0   Date                 100 non-null    object \n 1   Cases_Guinea         92 non-null     float64\n 2   Cases_Liberia        91 non-null     float64\n 3   Cases_Nigeria        97 non-null     float64\n 4   Cases_Senegal        86 non-null     float64\n 5   Cases_UnitedKingdom  91 non-null     float64\n 6   Cases_Mali           89 non-null     float64\n 7   Deaths               89 non-null     float64\ndtypes: float64(7), object(1)\nmemory usage: 5.9+ KB\n"
        }
      ],
      "execution_count": 88
    },
    {
      "id": "1e71e201-cf09-426b-a5e5-76d93a26f798",
      "cell_type": "code",
      "source": "dis.describe()",
      "metadata": {
        "trusted": true
      },
      "outputs": [
        {
          "execution_count": 89,
          "output_type": "execute_result",
          "data": {
            "text/plain": "       Cases_Guinea  Cases_Liberia  Cases_Nigeria  Cases_Senegal  \\\ncount     92.000000      91.000000      97.000000      86.000000   \nmean    2464.391304    2481.978022      46.711340      97.581395   \nstd     1460.849993    1310.048964      29.336751      54.634069   \nmin       34.000000     146.000000       0.000000       4.000000   \n25%     1158.500000    1426.500000      23.000000      53.000000   \n50%     2557.000000    2675.000000      41.000000      98.000000   \n75%     3676.750000    3465.500000      70.000000     142.750000   \nmax     4911.000000    4931.000000      99.000000     193.000000   \n\n       Cases_UnitedKingdom  Cases_Mali       Deaths  \ncount            91.000000   89.000000    89.000000  \nmean             24.890110  107.640449  1431.314607  \nstd              14.240358   55.873690   844.688372  \nmin               0.000000    6.000000    38.000000  \n25%              12.500000   68.000000   814.000000  \n50%              25.000000  112.000000  1353.000000  \n75%              36.000000  150.000000  2076.000000  \nmax              49.000000  198.000000  2933.000000  ",
            "text/html": "<div>\n<style scoped>\n    .dataframe tbody tr th:only-of-type {\n        vertical-align: middle;\n    }\n\n    .dataframe tbody tr th {\n        vertical-align: top;\n    }\n\n    .dataframe thead th {\n        text-align: right;\n    }\n</style>\n<table border=\"1\" class=\"dataframe\">\n  <thead>\n    <tr style=\"text-align: right;\">\n      <th></th>\n      <th>Cases_Guinea</th>\n      <th>Cases_Liberia</th>\n      <th>Cases_Nigeria</th>\n      <th>Cases_Senegal</th>\n      <th>Cases_UnitedKingdom</th>\n      <th>Cases_Mali</th>\n      <th>Deaths</th>\n    </tr>\n  </thead>\n  <tbody>\n    <tr>\n      <th>count</th>\n      <td>92.000000</td>\n      <td>91.000000</td>\n      <td>97.000000</td>\n      <td>86.000000</td>\n      <td>91.000000</td>\n      <td>89.000000</td>\n      <td>89.000000</td>\n    </tr>\n    <tr>\n      <th>mean</th>\n      <td>2464.391304</td>\n      <td>2481.978022</td>\n      <td>46.711340</td>\n      <td>97.581395</td>\n      <td>24.890110</td>\n      <td>107.640449</td>\n      <td>1431.314607</td>\n    </tr>\n    <tr>\n      <th>std</th>\n      <td>1460.849993</td>\n      <td>1310.048964</td>\n      <td>29.336751</td>\n      <td>54.634069</td>\n      <td>14.240358</td>\n      <td>55.873690</td>\n      <td>844.688372</td>\n    </tr>\n    <tr>\n      <th>min</th>\n      <td>34.000000</td>\n      <td>146.000000</td>\n      <td>0.000000</td>\n      <td>4.000000</td>\n      <td>0.000000</td>\n      <td>6.000000</td>\n      <td>38.000000</td>\n    </tr>\n    <tr>\n      <th>25%</th>\n      <td>1158.500000</td>\n      <td>1426.500000</td>\n      <td>23.000000</td>\n      <td>53.000000</td>\n      <td>12.500000</td>\n      <td>68.000000</td>\n      <td>814.000000</td>\n    </tr>\n    <tr>\n      <th>50%</th>\n      <td>2557.000000</td>\n      <td>2675.000000</td>\n      <td>41.000000</td>\n      <td>98.000000</td>\n      <td>25.000000</td>\n      <td>112.000000</td>\n      <td>1353.000000</td>\n    </tr>\n    <tr>\n      <th>75%</th>\n      <td>3676.750000</td>\n      <td>3465.500000</td>\n      <td>70.000000</td>\n      <td>142.750000</td>\n      <td>36.000000</td>\n      <td>150.000000</td>\n      <td>2076.000000</td>\n    </tr>\n    <tr>\n      <th>max</th>\n      <td>4911.000000</td>\n      <td>4931.000000</td>\n      <td>99.000000</td>\n      <td>193.000000</td>\n      <td>49.000000</td>\n      <td>198.000000</td>\n      <td>2933.000000</td>\n    </tr>\n  </tbody>\n</table>\n</div>"
          },
          "metadata": {}
        }
      ],
      "execution_count": 89
    },
    {
      "id": "a015dee7-1a0f-402b-b135-32b7684a57a0",
      "cell_type": "code",
      "source": "dis.head()",
      "metadata": {
        "trusted": true
      },
      "outputs": [
        {
          "execution_count": 91,
          "output_type": "execute_result",
          "data": {
            "text/plain": "         Date  Cases_Guinea  Cases_Liberia  Cases_Nigeria  Cases_Senegal  \\\n0  2014-03-01         860.0          804.0           70.0          157.0   \n1  2014-03-02        3772.0         2731.0           51.0           45.0   \n2  2014-03-03        3092.0         2773.0           32.0          116.0   \n3  2014-03-04         466.0         1570.0           39.0            5.0   \n4  2014-03-05        4426.0         2690.0           38.0           98.0   \n\n   Cases_UnitedKingdom  Cases_Mali  Deaths  \n0                 39.0       129.0  2681.0  \n1                 15.0        34.0  1217.0  \n2                 12.0        80.0  1540.0  \n3                 49.0        89.0  2076.0  \n4                 41.0         7.0  1445.0  ",
            "text/html": "<div>\n<style scoped>\n    .dataframe tbody tr th:only-of-type {\n        vertical-align: middle;\n    }\n\n    .dataframe tbody tr th {\n        vertical-align: top;\n    }\n\n    .dataframe thead th {\n        text-align: right;\n    }\n</style>\n<table border=\"1\" class=\"dataframe\">\n  <thead>\n    <tr style=\"text-align: right;\">\n      <th></th>\n      <th>Date</th>\n      <th>Cases_Guinea</th>\n      <th>Cases_Liberia</th>\n      <th>Cases_Nigeria</th>\n      <th>Cases_Senegal</th>\n      <th>Cases_UnitedKingdom</th>\n      <th>Cases_Mali</th>\n      <th>Deaths</th>\n    </tr>\n  </thead>\n  <tbody>\n    <tr>\n      <th>0</th>\n      <td>2014-03-01</td>\n      <td>860.0</td>\n      <td>804.0</td>\n      <td>70.0</td>\n      <td>157.0</td>\n      <td>39.0</td>\n      <td>129.0</td>\n      <td>2681.0</td>\n    </tr>\n    <tr>\n      <th>1</th>\n      <td>2014-03-02</td>\n      <td>3772.0</td>\n      <td>2731.0</td>\n      <td>51.0</td>\n      <td>45.0</td>\n      <td>15.0</td>\n      <td>34.0</td>\n      <td>1217.0</td>\n    </tr>\n    <tr>\n      <th>2</th>\n      <td>2014-03-03</td>\n      <td>3092.0</td>\n      <td>2773.0</td>\n      <td>32.0</td>\n      <td>116.0</td>\n      <td>12.0</td>\n      <td>80.0</td>\n      <td>1540.0</td>\n    </tr>\n    <tr>\n      <th>3</th>\n      <td>2014-03-04</td>\n      <td>466.0</td>\n      <td>1570.0</td>\n      <td>39.0</td>\n      <td>5.0</td>\n      <td>49.0</td>\n      <td>89.0</td>\n      <td>2076.0</td>\n    </tr>\n    <tr>\n      <th>4</th>\n      <td>2014-03-05</td>\n      <td>4426.0</td>\n      <td>2690.0</td>\n      <td>38.0</td>\n      <td>98.0</td>\n      <td>41.0</td>\n      <td>7.0</td>\n      <td>1445.0</td>\n    </tr>\n  </tbody>\n</table>\n</div>"
          },
          "metadata": {}
        }
      ],
      "execution_count": 91
    },
    {
      "id": "a4259524-1722-466d-91d3-2100c39eb414",
      "cell_type": "code",
      "source": "disease['Cases_Guinea'].value_counts()",
      "metadata": {
        "trusted": true
      },
      "outputs": [
        {
          "execution_count": 92,
          "output_type": "execute_result",
          "data": {
            "text/plain": "Cases_Guinea\n860.0     1\n161.0     1\n1016.0    1\n1275.0    1\n3798.0    1\n         ..\n1267.0    1\n1899.0    1\n4658.0    1\n3005.0    1\n3645.0    1\nName: count, Length: 92, dtype: int64"
          },
          "metadata": {}
        }
      ],
      "execution_count": 92
    },
    {
      "id": "7ba043c8-2a6f-4739-8d1d-e2c067b67313",
      "cell_type": "code",
      "source": "disease['Cases_Guinea'].unique()",
      "metadata": {
        "trusted": true
      },
      "outputs": [
        {
          "execution_count": 93,
          "output_type": "execute_result",
          "data": {
            "text/plain": "array([ 860., 3772., 3092.,  466., 4426., 3444., 3171., 2919.,  130.,\n         nan, 2391., 2433., 1184., 4555., 3385., 4117., 4843., 2904.,\n        474., 1082., 2558., 2047.,  975., 1806.,  189., 2734., 3005.,\n       4658., 1899., 1267., 1528., 3202., 3556., 3890.,  646., 2888.,\n       2435.,  600., 2363., 2061.,  241., 2041., 2824., 2612., 1363.,\n       1478., 2556.,  775., 4014.,   34., 1955., 1585., 3943., 3073.,\n       1021., 2613., 3843., 1500., 4798.,  161., 4297., 1981.,  995.,\n       4911., 3342., 4551., 3798., 1275., 1016.,  337.,  878., 1076.,\n       4887., 3993., 4859.,  379.,  492., 3884.,   64., 2568., 2027.,\n       2695., 1495.,  391., 4514., 4474., 3561., 2278., 3099., 4875.,\n       3104., 4598., 3645.])"
          },
          "metadata": {}
        }
      ],
      "execution_count": 93
    },
    {
      "id": "d69bfd6e-5dbf-4639-b7dd-708e7694a7cb",
      "cell_type": "code",
      "source": "disease['Cases_Guinea'].nunique(dropna=False)",
      "metadata": {
        "trusted": true
      },
      "outputs": [
        {
          "execution_count": 95,
          "output_type": "execute_result",
          "data": {
            "text/plain": "93"
          },
          "metadata": {}
        }
      ],
      "execution_count": 95
    },
    {
      "id": "cc81e8eb-d384-4d1f-b68a-f052590d7991",
      "cell_type": "code",
      "source": "dis",
      "metadata": {
        "trusted": true
      },
      "outputs": [
        {
          "execution_count": 97,
          "output_type": "execute_result",
          "data": {
            "text/plain": "          Date  Cases_Guinea  Cases_Liberia  Cases_Nigeria  Cases_Senegal  \\\n0   2014-03-01         860.0          804.0           70.0          157.0   \n1   2014-03-02        3772.0         2731.0           51.0           45.0   \n2   2014-03-03        3092.0         2773.0           32.0          116.0   \n3   2014-03-04         466.0         1570.0           39.0            5.0   \n4   2014-03-05        4426.0         2690.0           38.0           98.0   \n..         ...           ...            ...            ...            ...   \n95  2014-06-04        4875.0         1369.0           63.0          108.0   \n96  2014-06-05        3104.0            NaN           48.0            NaN   \n97  2014-06-06        4598.0          146.0           16.0           93.0   \n98  2014-06-07           NaN         3219.0           43.0           46.0   \n99  2014-06-08        3645.0            NaN           91.0           98.0   \n\n    Cases_UnitedKingdom  Cases_Mali  Deaths  \n0                  39.0       129.0  2681.0  \n1                  15.0        34.0  1217.0  \n2                  12.0        80.0  1540.0  \n3                  49.0        89.0  2076.0  \n4                  41.0         7.0  1445.0  \n..                  ...         ...     ...  \n95                 28.0         NaN   928.0  \n96                 12.0       169.0     NaN  \n97                 11.0       136.0     NaN  \n98                 30.0       177.0  2779.0  \n99                 45.0        26.0  2799.0  \n\n[100 rows x 8 columns]",
            "text/html": "<div>\n<style scoped>\n    .dataframe tbody tr th:only-of-type {\n        vertical-align: middle;\n    }\n\n    .dataframe tbody tr th {\n        vertical-align: top;\n    }\n\n    .dataframe thead th {\n        text-align: right;\n    }\n</style>\n<table border=\"1\" class=\"dataframe\">\n  <thead>\n    <tr style=\"text-align: right;\">\n      <th></th>\n      <th>Date</th>\n      <th>Cases_Guinea</th>\n      <th>Cases_Liberia</th>\n      <th>Cases_Nigeria</th>\n      <th>Cases_Senegal</th>\n      <th>Cases_UnitedKingdom</th>\n      <th>Cases_Mali</th>\n      <th>Deaths</th>\n    </tr>\n  </thead>\n  <tbody>\n    <tr>\n      <th>0</th>\n      <td>2014-03-01</td>\n      <td>860.0</td>\n      <td>804.0</td>\n      <td>70.0</td>\n      <td>157.0</td>\n      <td>39.0</td>\n      <td>129.0</td>\n      <td>2681.0</td>\n    </tr>\n    <tr>\n      <th>1</th>\n      <td>2014-03-02</td>\n      <td>3772.0</td>\n      <td>2731.0</td>\n      <td>51.0</td>\n      <td>45.0</td>\n      <td>15.0</td>\n      <td>34.0</td>\n      <td>1217.0</td>\n    </tr>\n    <tr>\n      <th>2</th>\n      <td>2014-03-03</td>\n      <td>3092.0</td>\n      <td>2773.0</td>\n      <td>32.0</td>\n      <td>116.0</td>\n      <td>12.0</td>\n      <td>80.0</td>\n      <td>1540.0</td>\n    </tr>\n    <tr>\n      <th>3</th>\n      <td>2014-03-04</td>\n      <td>466.0</td>\n      <td>1570.0</td>\n      <td>39.0</td>\n      <td>5.0</td>\n      <td>49.0</td>\n      <td>89.0</td>\n      <td>2076.0</td>\n    </tr>\n    <tr>\n      <th>4</th>\n      <td>2014-03-05</td>\n      <td>4426.0</td>\n      <td>2690.0</td>\n      <td>38.0</td>\n      <td>98.0</td>\n      <td>41.0</td>\n      <td>7.0</td>\n      <td>1445.0</td>\n    </tr>\n    <tr>\n      <th>...</th>\n      <td>...</td>\n      <td>...</td>\n      <td>...</td>\n      <td>...</td>\n      <td>...</td>\n      <td>...</td>\n      <td>...</td>\n      <td>...</td>\n    </tr>\n    <tr>\n      <th>95</th>\n      <td>2014-06-04</td>\n      <td>4875.0</td>\n      <td>1369.0</td>\n      <td>63.0</td>\n      <td>108.0</td>\n      <td>28.0</td>\n      <td>NaN</td>\n      <td>928.0</td>\n    </tr>\n    <tr>\n      <th>96</th>\n      <td>2014-06-05</td>\n      <td>3104.0</td>\n      <td>NaN</td>\n      <td>48.0</td>\n      <td>NaN</td>\n      <td>12.0</td>\n      <td>169.0</td>\n      <td>NaN</td>\n    </tr>\n    <tr>\n      <th>97</th>\n      <td>2014-06-06</td>\n      <td>4598.0</td>\n      <td>146.0</td>\n      <td>16.0</td>\n      <td>93.0</td>\n      <td>11.0</td>\n      <td>136.0</td>\n      <td>NaN</td>\n    </tr>\n    <tr>\n      <th>98</th>\n      <td>2014-06-07</td>\n      <td>NaN</td>\n      <td>3219.0</td>\n      <td>43.0</td>\n      <td>46.0</td>\n      <td>30.0</td>\n      <td>177.0</td>\n      <td>2779.0</td>\n    </tr>\n    <tr>\n      <th>99</th>\n      <td>2014-06-08</td>\n      <td>3645.0</td>\n      <td>NaN</td>\n      <td>91.0</td>\n      <td>98.0</td>\n      <td>45.0</td>\n      <td>26.0</td>\n      <td>2799.0</td>\n    </tr>\n  </tbody>\n</table>\n<p>100 rows × 8 columns</p>\n</div>"
          },
          "metadata": {}
        }
      ],
      "execution_count": 97
    },
    {
      "id": "da2bb832-6689-4f6a-93f8-804660c9e01e",
      "cell_type": "code",
      "source": "m = dis['Cases_Guinea'].mean()",
      "metadata": {
        "trusted": true
      },
      "outputs": [],
      "execution_count": 102
    },
    {
      "id": "a927bc22-a62f-4f8d-915e-06f79f0975ba",
      "cell_type": "code",
      "source": "disease['Cases_Guinea'].replace(to_replace=np.nan, value= 999999999,inplace=True)",
      "metadata": {
        "trusted": true
      },
      "outputs": [
        {
          "name": "stderr",
          "output_type": "stream",
          "text": "<ipython-input-109-23e4360cb8e8>:1: FutureWarning: A value is trying to be set on a copy of a DataFrame or Series through chained assignment using an inplace method.\nThe behavior will change in pandas 3.0. This inplace method will never work because the intermediate object on which we are setting values always behaves as a copy.\n\nFor example, when doing 'df[col].method(value, inplace=True)', try using 'df.method({col: value}, inplace=True)' or df[col] = df[col].method(value) instead, to perform the operation inplace on the original object.\n\n\n  disease['Cases_Guinea'].replace(to_replace=np.nan, value= 999999999,inplace=True)\n"
        }
      ],
      "execution_count": 109
    },
    {
      "id": "b6234b45-75e1-4db3-9b15-be4f515d6ae2",
      "cell_type": "code",
      "source": "disease",
      "metadata": {
        "trusted": true
      },
      "outputs": [
        {
          "execution_count": 110,
          "output_type": "execute_result",
          "data": {
            "text/plain": "          Date  Cases_Guinea  Cases_Liberia  Cases_Nigeria  Cases_Senegal  \\\n0   2014-03-01         860.0          804.0           70.0          157.0   \n1   2014-03-02        3772.0         2731.0           51.0           45.0   \n2   2014-03-03        3092.0         2773.0           32.0          116.0   \n3   2014-03-04         466.0         1570.0           39.0            5.0   \n4   2014-03-05        4426.0         2690.0           38.0           98.0   \n..         ...           ...            ...            ...            ...   \n95  2014-06-04        4875.0         1369.0           63.0          108.0   \n96  2014-06-05        3104.0            NaN           48.0            NaN   \n97  2014-06-06        4598.0          146.0           16.0           93.0   \n98  2014-06-07   999999999.0         3219.0           43.0           46.0   \n99  2014-06-08        3645.0            NaN           91.0           98.0   \n\n    Cases_UnitedKingdom  Cases_Mali  Deaths  \n0                  39.0       129.0  2681.0  \n1                  15.0        34.0  1217.0  \n2                  12.0        80.0  1540.0  \n3                  49.0        89.0  2076.0  \n4                  41.0         7.0  1445.0  \n..                  ...         ...     ...  \n95                 28.0         NaN   928.0  \n96                 12.0       169.0     NaN  \n97                 11.0       136.0     NaN  \n98                 30.0       177.0  2779.0  \n99                 45.0        26.0  2799.0  \n\n[100 rows x 8 columns]",
            "text/html": "<div>\n<style scoped>\n    .dataframe tbody tr th:only-of-type {\n        vertical-align: middle;\n    }\n\n    .dataframe tbody tr th {\n        vertical-align: top;\n    }\n\n    .dataframe thead th {\n        text-align: right;\n    }\n</style>\n<table border=\"1\" class=\"dataframe\">\n  <thead>\n    <tr style=\"text-align: right;\">\n      <th></th>\n      <th>Date</th>\n      <th>Cases_Guinea</th>\n      <th>Cases_Liberia</th>\n      <th>Cases_Nigeria</th>\n      <th>Cases_Senegal</th>\n      <th>Cases_UnitedKingdom</th>\n      <th>Cases_Mali</th>\n      <th>Deaths</th>\n    </tr>\n  </thead>\n  <tbody>\n    <tr>\n      <th>0</th>\n      <td>2014-03-01</td>\n      <td>860.0</td>\n      <td>804.0</td>\n      <td>70.0</td>\n      <td>157.0</td>\n      <td>39.0</td>\n      <td>129.0</td>\n      <td>2681.0</td>\n    </tr>\n    <tr>\n      <th>1</th>\n      <td>2014-03-02</td>\n      <td>3772.0</td>\n      <td>2731.0</td>\n      <td>51.0</td>\n      <td>45.0</td>\n      <td>15.0</td>\n      <td>34.0</td>\n      <td>1217.0</td>\n    </tr>\n    <tr>\n      <th>2</th>\n      <td>2014-03-03</td>\n      <td>3092.0</td>\n      <td>2773.0</td>\n      <td>32.0</td>\n      <td>116.0</td>\n      <td>12.0</td>\n      <td>80.0</td>\n      <td>1540.0</td>\n    </tr>\n    <tr>\n      <th>3</th>\n      <td>2014-03-04</td>\n      <td>466.0</td>\n      <td>1570.0</td>\n      <td>39.0</td>\n      <td>5.0</td>\n      <td>49.0</td>\n      <td>89.0</td>\n      <td>2076.0</td>\n    </tr>\n    <tr>\n      <th>4</th>\n      <td>2014-03-05</td>\n      <td>4426.0</td>\n      <td>2690.0</td>\n      <td>38.0</td>\n      <td>98.0</td>\n      <td>41.0</td>\n      <td>7.0</td>\n      <td>1445.0</td>\n    </tr>\n    <tr>\n      <th>...</th>\n      <td>...</td>\n      <td>...</td>\n      <td>...</td>\n      <td>...</td>\n      <td>...</td>\n      <td>...</td>\n      <td>...</td>\n      <td>...</td>\n    </tr>\n    <tr>\n      <th>95</th>\n      <td>2014-06-04</td>\n      <td>4875.0</td>\n      <td>1369.0</td>\n      <td>63.0</td>\n      <td>108.0</td>\n      <td>28.0</td>\n      <td>NaN</td>\n      <td>928.0</td>\n    </tr>\n    <tr>\n      <th>96</th>\n      <td>2014-06-05</td>\n      <td>3104.0</td>\n      <td>NaN</td>\n      <td>48.0</td>\n      <td>NaN</td>\n      <td>12.0</td>\n      <td>169.0</td>\n      <td>NaN</td>\n    </tr>\n    <tr>\n      <th>97</th>\n      <td>2014-06-06</td>\n      <td>4598.0</td>\n      <td>146.0</td>\n      <td>16.0</td>\n      <td>93.0</td>\n      <td>11.0</td>\n      <td>136.0</td>\n      <td>NaN</td>\n    </tr>\n    <tr>\n      <th>98</th>\n      <td>2014-06-07</td>\n      <td>999999999.0</td>\n      <td>3219.0</td>\n      <td>43.0</td>\n      <td>46.0</td>\n      <td>30.0</td>\n      <td>177.0</td>\n      <td>2779.0</td>\n    </tr>\n    <tr>\n      <th>99</th>\n      <td>2014-06-08</td>\n      <td>3645.0</td>\n      <td>NaN</td>\n      <td>91.0</td>\n      <td>98.0</td>\n      <td>45.0</td>\n      <td>26.0</td>\n      <td>2799.0</td>\n    </tr>\n  </tbody>\n</table>\n<p>100 rows × 8 columns</p>\n</div>"
          },
          "metadata": {}
        }
      ],
      "execution_count": 110
    },
    {
      "id": "67d10453-d9ba-441b-b51a-91879023705c",
      "cell_type": "code",
      "source": "",
      "metadata": {
        "trusted": true
      },
      "outputs": [],
      "execution_count": null
    }
  ]
}