{
  "metadata": {
    "kernelspec": {
      "name": "python",
      "display_name": "Python (Pyodide)",
      "language": "python"
    },
    "language_info": {
      "codemirror_mode": {
        "name": "python",
        "version": 3
      },
      "file_extension": ".py",
      "mimetype": "text/x-python",
      "name": "python",
      "nbconvert_exporter": "python",
      "pygments_lexer": "ipython3",
      "version": "3.8"
    }
  },
  "nbformat_minor": 5,
  "nbformat": 4,
  "cells": [
    {
      "id": "76806b37-3d60-48ea-a033-8e0fd8f7c987",
      "cell_type": "code",
      "source": "import pandas as pd",
      "metadata": {
        "trusted": true
      },
      "outputs": [],
      "execution_count": 32
    },
    {
      "id": "fd1b7f3c-0b55-4d65-9beb-b355c4ff6d83",
      "cell_type": "code",
      "source": "weather=pd.read_csv('data/synthetic_weather.csv')",
      "metadata": {
        "trusted": true
      },
      "outputs": [],
      "execution_count": 33
    },
    {
      "id": "5ee04378-6099-44f0-bd90-c952514c3903",
      "cell_type": "code",
      "source": "weather.shape\nweather.head()",
      "metadata": {
        "trusted": true
      },
      "outputs": [
        {
          "execution_count": 34,
          "output_type": "execute_result",
          "data": {
            "text/plain": "   year  month element   day1   day2   day3   day4   day5   day6   day7  ...  \\\n0  2018      1     max  21.19  10.61  29.26   8.34  16.68   9.84   2.46  ...   \n1  2018      1     min  12.90   9.67  18.57   3.52   2.03   4.59   1.28  ...   \n2  2018      2     max  18.91  -3.02  10.52  22.99   6.25   9.08  18.01  ...   \n3  2018      2     min  10.90  -3.07   5.87  18.45   3.40  -2.89   6.31  ...   \n4  2018      3     max  24.57  22.34  18.74  11.32  26.04  16.92  26.79  ...   \n\n   day22  day23  day24  day25  day26  day27  day28  day29  day30  day31  \n0   9.24   3.95  28.35  22.86  33.34  14.70  16.75  21.99   6.85  31.50  \n1  -4.25   1.37  18.40  12.90  18.66  12.74   6.71  16.67  -2.90  17.46  \n2   3.82  27.34  16.63  15.57   4.78   3.51  -0.14    NaN    NaN    NaN  \n3  -0.77  13.69  12.24   5.35   2.99  -0.90  -0.89    NaN    NaN    NaN  \n4  18.85  17.82   6.46  27.88  29.86  21.72  12.79  18.73  18.22   9.97  \n\n[5 rows x 34 columns]",
            "text/html": "<div>\n<style scoped>\n    .dataframe tbody tr th:only-of-type {\n        vertical-align: middle;\n    }\n\n    .dataframe tbody tr th {\n        vertical-align: top;\n    }\n\n    .dataframe thead th {\n        text-align: right;\n    }\n</style>\n<table border=\"1\" class=\"dataframe\">\n  <thead>\n    <tr style=\"text-align: right;\">\n      <th></th>\n      <th>year</th>\n      <th>month</th>\n      <th>element</th>\n      <th>day1</th>\n      <th>day2</th>\n      <th>day3</th>\n      <th>day4</th>\n      <th>day5</th>\n      <th>day6</th>\n      <th>day7</th>\n      <th>...</th>\n      <th>day22</th>\n      <th>day23</th>\n      <th>day24</th>\n      <th>day25</th>\n      <th>day26</th>\n      <th>day27</th>\n      <th>day28</th>\n      <th>day29</th>\n      <th>day30</th>\n      <th>day31</th>\n    </tr>\n  </thead>\n  <tbody>\n    <tr>\n      <th>0</th>\n      <td>2018</td>\n      <td>1</td>\n      <td>max</td>\n      <td>21.19</td>\n      <td>10.61</td>\n      <td>29.26</td>\n      <td>8.34</td>\n      <td>16.68</td>\n      <td>9.84</td>\n      <td>2.46</td>\n      <td>...</td>\n      <td>9.24</td>\n      <td>3.95</td>\n      <td>28.35</td>\n      <td>22.86</td>\n      <td>33.34</td>\n      <td>14.70</td>\n      <td>16.75</td>\n      <td>21.99</td>\n      <td>6.85</td>\n      <td>31.50</td>\n    </tr>\n    <tr>\n      <th>1</th>\n      <td>2018</td>\n      <td>1</td>\n      <td>min</td>\n      <td>12.90</td>\n      <td>9.67</td>\n      <td>18.57</td>\n      <td>3.52</td>\n      <td>2.03</td>\n      <td>4.59</td>\n      <td>1.28</td>\n      <td>...</td>\n      <td>-4.25</td>\n      <td>1.37</td>\n      <td>18.40</td>\n      <td>12.90</td>\n      <td>18.66</td>\n      <td>12.74</td>\n      <td>6.71</td>\n      <td>16.67</td>\n      <td>-2.90</td>\n      <td>17.46</td>\n    </tr>\n    <tr>\n      <th>2</th>\n      <td>2018</td>\n      <td>2</td>\n      <td>max</td>\n      <td>18.91</td>\n      <td>-3.02</td>\n      <td>10.52</td>\n      <td>22.99</td>\n      <td>6.25</td>\n      <td>9.08</td>\n      <td>18.01</td>\n      <td>...</td>\n      <td>3.82</td>\n      <td>27.34</td>\n      <td>16.63</td>\n      <td>15.57</td>\n      <td>4.78</td>\n      <td>3.51</td>\n      <td>-0.14</td>\n      <td>NaN</td>\n      <td>NaN</td>\n      <td>NaN</td>\n    </tr>\n    <tr>\n      <th>3</th>\n      <td>2018</td>\n      <td>2</td>\n      <td>min</td>\n      <td>10.90</td>\n      <td>-3.07</td>\n      <td>5.87</td>\n      <td>18.45</td>\n      <td>3.40</td>\n      <td>-2.89</td>\n      <td>6.31</td>\n      <td>...</td>\n      <td>-0.77</td>\n      <td>13.69</td>\n      <td>12.24</td>\n      <td>5.35</td>\n      <td>2.99</td>\n      <td>-0.90</td>\n      <td>-0.89</td>\n      <td>NaN</td>\n      <td>NaN</td>\n      <td>NaN</td>\n    </tr>\n    <tr>\n      <th>4</th>\n      <td>2018</td>\n      <td>3</td>\n      <td>max</td>\n      <td>24.57</td>\n      <td>22.34</td>\n      <td>18.74</td>\n      <td>11.32</td>\n      <td>26.04</td>\n      <td>16.92</td>\n      <td>26.79</td>\n      <td>...</td>\n      <td>18.85</td>\n      <td>17.82</td>\n      <td>6.46</td>\n      <td>27.88</td>\n      <td>29.86</td>\n      <td>21.72</td>\n      <td>12.79</td>\n      <td>18.73</td>\n      <td>18.22</td>\n      <td>9.97</td>\n    </tr>\n  </tbody>\n</table>\n<p>5 rows × 34 columns</p>\n</div>"
          },
          "metadata": {}
        }
      ],
      "execution_count": 34
    },
    {
      "id": "ec052be4-3c84-431b-a7c8-bf48c2a01452",
      "cell_type": "code",
      "source": "weather_melt = pd.melt(weather, id_vars = ['year','month','element'],\n        var_name='day',\n        value_name='temp')",
      "metadata": {
        "trusted": true
      },
      "outputs": [],
      "execution_count": 35
    },
    {
      "id": "5d914990-468e-4818-b293-07752db0fcb2",
      "cell_type": "code",
      "source": "weather_melt.head()",
      "metadata": {
        "trusted": true
      },
      "outputs": [
        {
          "execution_count": 36,
          "output_type": "execute_result",
          "data": {
            "text/plain": "   year  month element   day   temp\n0  2018      1     max  day1  21.19\n1  2018      1     min  day1  12.90\n2  2018      2     max  day1  18.91\n3  2018      2     min  day1  10.90\n4  2018      3     max  day1  24.57",
            "text/html": "<div>\n<style scoped>\n    .dataframe tbody tr th:only-of-type {\n        vertical-align: middle;\n    }\n\n    .dataframe tbody tr th {\n        vertical-align: top;\n    }\n\n    .dataframe thead th {\n        text-align: right;\n    }\n</style>\n<table border=\"1\" class=\"dataframe\">\n  <thead>\n    <tr style=\"text-align: right;\">\n      <th></th>\n      <th>year</th>\n      <th>month</th>\n      <th>element</th>\n      <th>day</th>\n      <th>temp</th>\n    </tr>\n  </thead>\n  <tbody>\n    <tr>\n      <th>0</th>\n      <td>2018</td>\n      <td>1</td>\n      <td>max</td>\n      <td>day1</td>\n      <td>21.19</td>\n    </tr>\n    <tr>\n      <th>1</th>\n      <td>2018</td>\n      <td>1</td>\n      <td>min</td>\n      <td>day1</td>\n      <td>12.90</td>\n    </tr>\n    <tr>\n      <th>2</th>\n      <td>2018</td>\n      <td>2</td>\n      <td>max</td>\n      <td>day1</td>\n      <td>18.91</td>\n    </tr>\n    <tr>\n      <th>3</th>\n      <td>2018</td>\n      <td>2</td>\n      <td>min</td>\n      <td>day1</td>\n      <td>10.90</td>\n    </tr>\n    <tr>\n      <th>4</th>\n      <td>2018</td>\n      <td>3</td>\n      <td>max</td>\n      <td>day1</td>\n      <td>24.57</td>\n    </tr>\n  </tbody>\n</table>\n</div>"
          },
          "metadata": {}
        }
      ],
      "execution_count": 36
    },
    {
      "id": "5577a186-eae8-49f3-a54c-aba34dc77e18",
      "cell_type": "code",
      "source": "weather_tidy = weather_melt.pivot_table(index=['year','month','day'],\n                         columns='element',\n                         values='temp',\n                         dropna= False\n                        ).reset_index()\nweather_tidy.head()",
      "metadata": {
        "trusted": true
      },
      "outputs": [
        {
          "execution_count": 37,
          "output_type": "execute_result",
          "data": {
            "text/plain": "element  year  month    day    max    min\n0        2018      1   day1  21.19  12.90\n1        2018      1  day10  16.01   2.67\n2        2018      1  day11   9.82   7.25\n3        2018      1  day12  15.14  11.13\n4        2018      1  day13   2.63  -1.65",
            "text/html": "<div>\n<style scoped>\n    .dataframe tbody tr th:only-of-type {\n        vertical-align: middle;\n    }\n\n    .dataframe tbody tr th {\n        vertical-align: top;\n    }\n\n    .dataframe thead th {\n        text-align: right;\n    }\n</style>\n<table border=\"1\" class=\"dataframe\">\n  <thead>\n    <tr style=\"text-align: right;\">\n      <th>element</th>\n      <th>year</th>\n      <th>month</th>\n      <th>day</th>\n      <th>max</th>\n      <th>min</th>\n    </tr>\n  </thead>\n  <tbody>\n    <tr>\n      <th>0</th>\n      <td>2018</td>\n      <td>1</td>\n      <td>day1</td>\n      <td>21.19</td>\n      <td>12.90</td>\n    </tr>\n    <tr>\n      <th>1</th>\n      <td>2018</td>\n      <td>1</td>\n      <td>day10</td>\n      <td>16.01</td>\n      <td>2.67</td>\n    </tr>\n    <tr>\n      <th>2</th>\n      <td>2018</td>\n      <td>1</td>\n      <td>day11</td>\n      <td>9.82</td>\n      <td>7.25</td>\n    </tr>\n    <tr>\n      <th>3</th>\n      <td>2018</td>\n      <td>1</td>\n      <td>day12</td>\n      <td>15.14</td>\n      <td>11.13</td>\n    </tr>\n    <tr>\n      <th>4</th>\n      <td>2018</td>\n      <td>1</td>\n      <td>day13</td>\n      <td>2.63</td>\n      <td>-1.65</td>\n    </tr>\n  </tbody>\n</table>\n</div>"
          },
          "metadata": {}
        }
      ],
      "execution_count": 37
    },
    {
      "id": "3b68f80c-8f1a-4851-8d01-fbad1ee0077c",
      "cell_type": "code",
      "source": "",
      "metadata": {
        "trusted": true
      },
      "outputs": [],
      "execution_count": null
    },
    {
      "id": "4828c973-568b-4e5b-8bdd-d4e6dbe0f8f0",
      "cell_type": "code",
      "source": " weather_tidy.to_csv('output/weather_tidy.csv')",
      "metadata": {
        "trusted": true
      },
      "outputs": [],
      "execution_count": 39
    },
    {
      "id": "d52deb61-e65e-48e0-aad0-e5b2e25b341a",
      "cell_type": "code",
      "source": "weather_tidy.loc[(weather_tidy.month==3) & (weather_tidy.day=='day1' )]",
      "metadata": {
        "trusted": true
      },
      "outputs": [
        {
          "execution_count": 40,
          "output_type": "execute_result",
          "data": {
            "text/plain": "element  year  month   day    max    min\n62       2018      3  day1  24.57  13.41\n434      2019      3  day1  21.91  14.66\n806      2020      3  day1  22.05  13.71",
            "text/html": "<div>\n<style scoped>\n    .dataframe tbody tr th:only-of-type {\n        vertical-align: middle;\n    }\n\n    .dataframe tbody tr th {\n        vertical-align: top;\n    }\n\n    .dataframe thead th {\n        text-align: right;\n    }\n</style>\n<table border=\"1\" class=\"dataframe\">\n  <thead>\n    <tr style=\"text-align: right;\">\n      <th>element</th>\n      <th>year</th>\n      <th>month</th>\n      <th>day</th>\n      <th>max</th>\n      <th>min</th>\n    </tr>\n  </thead>\n  <tbody>\n    <tr>\n      <th>62</th>\n      <td>2018</td>\n      <td>3</td>\n      <td>day1</td>\n      <td>24.57</td>\n      <td>13.41</td>\n    </tr>\n    <tr>\n      <th>434</th>\n      <td>2019</td>\n      <td>3</td>\n      <td>day1</td>\n      <td>21.91</td>\n      <td>14.66</td>\n    </tr>\n    <tr>\n      <th>806</th>\n      <td>2020</td>\n      <td>3</td>\n      <td>day1</td>\n      <td>22.05</td>\n      <td>13.71</td>\n    </tr>\n  </tbody>\n</table>\n</div>"
          },
          "metadata": {}
        }
      ],
      "execution_count": 40
    },
    {
      "id": "0200d633-c9eb-466c-98fc-f7f2860fd411",
      "cell_type": "code",
      "source": "def mean_func(x):\n    print(x)\n    return x.dropna().sum()/len(x.dropna())    \nweather_tidy[['min','max']].apply(mean_func,axis=1)",
      "metadata": {
        "trusted": true
      },
      "outputs": [
        {
          "name": "stdout",
          "output_type": "stream",
          "text": "element\nmin    12.90\nmax    21.19\nName: 0, dtype: float64\nelement\nmin     2.67\nmax    16.01\nName: 1, dtype: float64\nelement\nmin    7.25\nmax    9.82\nName: 2, dtype: float64\nelement\nmin    11.13\nmax    15.14\nName: 3, dtype: float64\nelement\nmin   -1.65\nmax    2.63\nName: 4, dtype: float64\nelement\nmin    10.14\nmax    20.68\nName: 5, dtype: float64\nelement\nmin     8.49\nmax    16.97\nName: 6, dtype: float64\nelement\nmin     8.61\nmax    14.74\nName: 7, dtype: float64\nelement\nmin   -4.46\nmax   -4.14\nName: 8, dtype: float64\nelement\nmin   -2.69\nmax    3.37\nName: 9, dtype: float64\nelement\nmin     7.84\nmax    18.87\nName: 10, dtype: float64\nelement\nmin     9.67\nmax    10.61\nName: 11, dtype: float64\nelement\nmin    18.35\nmax    32.03\nName: 12, dtype: float64\nelement\nmin    11.03\nmax    24.85\nName: 13, dtype: float64\nelement\nmin   -4.25\nmax    9.24\nName: 14, dtype: float64\nelement\nmin    1.37\nmax    3.95\nName: 15, dtype: float64\nelement\nmin    18.40\nmax    28.35\nName: 16, dtype: float64\nelement\nmin    12.90\nmax    22.86\nName: 17, dtype: float64\nelement\nmin    18.66\nmax    33.34\nName: 18, dtype: float64\nelement\nmin    12.74\nmax    14.70\nName: 19, dtype: float64\nelement\nmin     6.71\nmax    16.75\nName: 20, dtype: float64\nelement\nmin    16.67\nmax    21.99\nName: 21, dtype: float64\nelement\nmin    18.57\nmax    29.26\nName: 22, dtype: float64\nelement\nmin   -2.90\nmax    6.85\nName: 23, dtype: float64\nelement\nmin    17.46\nmax    31.50\nName: 24, dtype: float64\nelement\nmin    3.52\nmax    8.34\nName: 25, dtype: float64\nelement\nmin     2.03\nmax    16.68\nName: 26, dtype: float64\nelement\nmin    4.59\nmax    9.84\nName: 27, dtype: float64\nelement\nmin    1.28\nmax    2.46\nName: 28, dtype: float64\nelement\nmin   -4.01\nmax    0.48\nName: 29, dtype: float64\nelement\nmin    10.79\nmax    24.11\nName: 30, dtype: float64\nelement\nmin    10.90\nmax    18.91\nName: 31, dtype: float64\nelement\nmin    -2.01\nmax    12.49\nName: 32, dtype: float64\nelement\nmin    19.49\nmax    25.67\nName: 33, dtype: float64\nelement\nmin   -4.11\nmax    1.98\nName: 34, dtype: float64\nelement\nmin    0.70\nmax    7.12\nName: 35, dtype: float64\nelement\nmin   -3.79\nmax    2.69\nName: 36, dtype: float64\nelement\nmin     7.56\nmax    14.61\nName: 37, dtype: float64\nelement\nmin    17.24\nmax    28.16\nName: 38, dtype: float64\nelement\nmin    18.80\nmax    28.93\nName: 39, dtype: float64\nelement\nmin    12.50\nmax    17.88\nName: 40, dtype: float64\nelement\nmin    11.69\nmax    20.52\nName: 41, dtype: float64\nelement\nmin   -3.07\nmax   -3.02\nName: 42, dtype: float64\nelement\nmin    1.34\nmax    7.73\nName: 43, dtype: float64\nelement\nmin     9.91\nmax    12.37\nName: 44, dtype: float64\nelement\nmin   -0.77\nmax    3.82\nName: 45, dtype: float64\nelement\nmin    13.69\nmax    27.34\nName: 46, dtype: float64\nelement\nmin    12.24\nmax    16.63\nName: 47, dtype: float64\nelement\nmin     5.35\nmax    15.57\nName: 48, dtype: float64\nelement\nmin    2.99\nmax    4.78\nName: 49, dtype: float64\nelement\nmin   -0.90\nmax    3.51\nName: 50, dtype: float64\nelement\nmin   -0.89\nmax   -0.14\nName: 51, dtype: float64\nelement\nmin   NaN\nmax   NaN\nName: 52, dtype: float64\nelement\nmin     5.87\nmax    10.52\nName: 53, dtype: float64\nelement\nmin   NaN\nmax   NaN\nName: 54, dtype: float64\nelement\nmin   NaN\nmax   NaN\nName: 55, dtype: float64\nelement\nmin    18.45\nmax    22.99\nName: 56, dtype: float64\nelement\nmin    3.40\nmax    6.25\nName: 57, dtype: float64\nelement\nmin   -2.89\nmax    9.08\nName: 58, dtype: float64\nelement\nmin     6.31\nmax    18.01\nName: 59, dtype: float64\nelement\nmin    16.81\nmax    24.90\nName: 60, dtype: float64\nelement\nmin     1.57\nmax    10.76\nName: 61, dtype: float64\nelement\nmin    13.41\nmax    24.57\nName: 62, dtype: float64\nelement\nmin    11.63\nmax    13.79\nName: 63, dtype: float64\nelement\nmin     9.87\nmax    11.52\nName: 64, dtype: float64\nelement\nmin    6.83\nmax    8.32\nName: 65, dtype: float64\nelement\nmin    13.02\nmax    23.90\nName: 66, dtype: float64\nelement\nmin   -0.58\nmax    7.17\nName: 67, dtype: float64\nelement\nmin    14.13\nmax    22.18\nName: 68, dtype: float64\nelement\nmin     8.4\nmax    17.2\nName: 69, dtype: float64\nelement\nmin     1.72\nmax    14.13\nName: 70, dtype: float64\nelement\nmin    2.68\nmax    8.89\nName: 71, dtype: float64\nelement\nmin    16.14\nmax    22.72\nName: 72, dtype: float64\nelement\nmin    19.40\nmax    22.34\nName: 73, dtype: float64\nelement\nmin    13.29\nmax    16.70\nName: 74, dtype: float64\nelement\nmin     9.05\nmax    18.93\nName: 75, dtype: float64\nelement\nmin    16.92\nmax    18.85\nName: 76, dtype: float64\nelement\nmin     5.58\nmax    17.82\nName: 77, dtype: float64\nelement\nmin   -3.85\nmax    6.46\nName: 78, dtype: float64\nelement\nmin    15.33\nmax    27.88\nName: 79, dtype: float64\nelement\nmin    15.92\nmax    29.86\nName: 80, dtype: float64\nelement\nmin    15.65\nmax    21.72\nName: 81, dtype: float64\nelement\nmin     2.32\nmax    12.79\nName: 82, dtype: float64\nelement\nmin    12.41\nmax    18.73\nName: 83, dtype: float64\nelement\nmin    10.90\nmax    18.74\nName: 84, dtype: float64\nelement\nmin     7.01\nmax    18.22\nName: 85, dtype: float64\nelement\nmin    9.62\nmax    9.97\nName: 86, dtype: float64\nelement\nmin     6.59\nmax    11.32\nName: 87, dtype: float64\nelement\nmin    19.12\nmax    26.04\nName: 88, dtype: float64\nelement\nmin     8.34\nmax    16.92\nName: 89, dtype: float64\nelement\nmin    17.55\nmax    26.79\nName: 90, dtype: float64\nelement\nmin    1.02\nmax    9.78\nName: 91, dtype: float64\nelement\nmin     7.28\nmax    18.67\nName: 92, dtype: float64\nelement\nmin     2.94\nmax    13.46\nName: 93, dtype: float64\nelement\nmin     9.18\nmax    17.19\nName: 94, dtype: float64\nelement\nmin     7.10\nmax    19.67\nName: 95, dtype: float64\nelement\nmin    10.26\nmax    19.18\nName: 96, dtype: float64\nelement\nmin   -4.3\nmax    7.5\nName: 97, dtype: float64\nelement\nmin    14.81\nmax    18.18\nName: 98, dtype: float64\nelement\nmin    11.25\nmax    15.23\nName: 99, dtype: float64\nelement\nmin     6.4\nmax    13.2\nName: 100, dtype: float64\nelement\nmin    14.00\nmax    14.51\nName: 101, dtype: float64\nelement\nmin   -4.04\nmax    0.17\nName: 102, dtype: float64\nelement\nmin     8.07\nmax    18.66\nName: 103, dtype: float64\nelement\nmin    16.03\nmax    16.97\nName: 104, dtype: float64\nelement\nmin    0.45\nmax    8.44\nName: 105, dtype: float64\nelement\nmin    11.37\nmax    17.72\nName: 106, dtype: float64\nelement\nmin    12.78\nmax    13.52\nName: 107, dtype: float64\nelement\nmin     1.79\nmax    15.01\nName: 108, dtype: float64\nelement\nmin    18.07\nmax    31.79\nName: 109, dtype: float64\nelement\nmin    19.92\nmax    20.16\nName: 110, dtype: float64\nelement\nmin    0.07\nmax    3.36\nName: 111, dtype: float64\nelement\nmin     3.66\nmax    11.74\nName: 112, dtype: float64\nelement\nmin    18.04\nmax    28.93\nName: 113, dtype: float64\nelement\nmin    13.79\nmax    27.11\nName: 114, dtype: float64\nelement\nmin    16.95\nmax    18.13\nName: 115, dtype: float64\nelement\nmin     8.86\nmax    20.01\nName: 116, dtype: float64\nelement\nmin   NaN\nmax   NaN\nName: 117, dtype: float64\nelement\nmin     6.61\nmax    13.88\nName: 118, dtype: float64\nelement\nmin    9.60\nmax    9.81\nName: 119, dtype: float64\nelement\nmin    0.42\nmax    5.18\nName: 120, dtype: float64\nelement\nmin    18.24\nmax    30.04\nName: 121, dtype: float64\nelement\nmin    12.75\nmax    15.60\nName: 122, dtype: float64\nelement\nmin    15.16\nmax    25.60\nName: 123, dtype: float64\nelement\nmin   -0.61\nmax    9.66\nName: 124, dtype: float64\nelement\nmin     8.91\nmax    11.90\nName: 125, dtype: float64\nelement\nmin    10.49\nmax    24.55\nName: 126, dtype: float64\nelement\nmin   -1.06\nmax    6.51\nName: 127, dtype: float64\nelement\nmin    -1.86\nmax    11.67\nName: 128, dtype: float64\nelement\nmin    1.14\nmax    3.84\nName: 129, dtype: float64\nelement\nmin    17.22\nmax    21.38\nName: 130, dtype: float64\nelement\nmin    12.64\nmax    26.42\nName: 131, dtype: float64\nelement\nmin    19.74\nmax    31.63\nName: 132, dtype: float64\nelement\nmin   -4.67\nmax    0.33\nName: 133, dtype: float64\nelement\nmin    4.72\nmax    7.35\nName: 134, dtype: float64\nelement\nmin     4.39\nmax    18.09\nName: 135, dtype: float64\nelement\nmin     5.40\nmax    17.53\nName: 136, dtype: float64\nelement\nmin    10.16\nmax    14.85\nName: 137, dtype: float64\nelement\nmin    15.51\nmax    17.40\nName: 138, dtype: float64\nelement\nmin    10.32\nmax    25.12\nName: 139, dtype: float64\nelement\nmin     7.85\nmax    10.38\nName: 140, dtype: float64\nelement\nmin     3.07\nmax    13.52\nName: 141, dtype: float64\nelement\nmin    4.73\nmax    8.64\nName: 142, dtype: float64\nelement\nmin    16.46\nmax    27.40\nName: 143, dtype: float64\nelement\nmin    10.74\nmax    22.82\nName: 144, dtype: float64\nelement\nmin   -3.79\nmax    1.14\nName: 145, dtype: float64\nelement\nmin    10.78\nmax    14.77\nName: 146, dtype: float64\nelement\nmin   -4.56\nmax    3.73\nName: 147, dtype: float64\nelement\nmin   -4.48\nmax    0.28\nName: 148, dtype: float64\nelement\nmin    19.35\nmax    20.45\nName: 149, dtype: float64\nelement\nmin     5.16\nmax    16.39\nName: 150, dtype: float64\nelement\nmin    14.68\nmax    25.45\nName: 151, dtype: float64\nelement\nmin    -0.38\nmax    10.52\nName: 152, dtype: float64\nelement\nmin    8.56\nmax    9.21\nName: 153, dtype: float64\nelement\nmin    2.28\nmax    6.77\nName: 154, dtype: float64\nelement\nmin     7.97\nmax    21.00\nName: 155, dtype: float64\nelement\nmin     9.85\nmax    20.54\nName: 156, dtype: float64\nelement\nmin   -4.38\nmax    2.69\nName: 157, dtype: float64\nelement\nmin    3.34\nmax    6.20\nName: 158, dtype: float64\nelement\nmin    13.30\nmax    25.97\nName: 159, dtype: float64\nelement\nmin    17.60\nmax    22.51\nName: 160, dtype: float64\nelement\nmin    8.12\nmax    8.23\nName: 161, dtype: float64\nelement\nmin     1.48\nmax    12.85\nName: 162, dtype: float64\nelement\nmin    0.13\nmax    5.22\nName: 163, dtype: float64\nelement\nmin    18.25\nmax    25.07\nName: 164, dtype: float64\nelement\nmin    16.79\nmax    22.81\nName: 165, dtype: float64\nelement\nmin    19.65\nmax    30.69\nName: 166, dtype: float64\nelement\nmin   -0.12\nmax    5.73\nName: 167, dtype: float64\nelement\nmin     0.84\nmax    14.86\nName: 168, dtype: float64\nelement\nmin    18.85\nmax    31.07\nName: 169, dtype: float64\nelement\nmin     6.87\nmax    16.31\nName: 170, dtype: float64\nelement\nmin   -4.37\nmax   -0.92\nName: 171, dtype: float64\nelement\nmin    11.84\nmax    14.66\nName: 172, dtype: float64\nelement\nmin   -2.06\nmax    2.10\nName: 173, dtype: float64\nelement\nmin     9.23\nmax    18.84\nName: 174, dtype: float64\nelement\nmin    10.84\nmax    23.55\nName: 175, dtype: float64\nelement\nmin    17.68\nmax    24.43\nName: 176, dtype: float64\nelement\nmin    6.13\nmax    9.19\nName: 177, dtype: float64\nelement\nmin   -2.57\nmax    0.16\nName: 178, dtype: float64\nelement\nmin   NaN\nmax   NaN\nName: 179, dtype: float64\nelement\nmin   -3.42\nmax    2.67\nName: 180, dtype: float64\nelement\nmin    2.48\nmax    8.09\nName: 181, dtype: float64\nelement\nmin    -3.22\nmax    11.76\nName: 182, dtype: float64\nelement\nmin    19.73\nmax    28.55\nName: 183, dtype: float64\nelement\nmin    1.18\nmax    1.30\nName: 184, dtype: float64\nelement\nmin     5.26\nmax    16.95\nName: 185, dtype: float64\nelement\nmin     2.75\nmax    14.57\nName: 186, dtype: float64\nelement\nmin    12.79\nmax    20.90\nName: 187, dtype: float64\nelement\nmin    18.68\nmax    23.23\nName: 188, dtype: float64\nelement\nmin   -1.24\nmax   -0.69\nName: 189, dtype: float64\nelement\nmin    17.50\nmax    28.25\nName: 190, dtype: float64\nelement\nmin     6.4\nmax    11.8\nName: 191, dtype: float64\nelement\nmin    15.31\nmax    15.35\nName: 192, dtype: float64\nelement\nmin   -2.60\nmax    8.91\nName: 193, dtype: float64\nelement\nmin    16.55\nmax    25.49\nName: 194, dtype: float64\nelement\nmin     7.25\nmax    10.52\nName: 195, dtype: float64\nelement\nmin    12.70\nmax    20.35\nName: 196, dtype: float64\nelement\nmin    14.69\nmax    16.51\nName: 197, dtype: float64\nelement\nmin    4.33\nmax    5.88\nName: 198, dtype: float64\nelement\nmin     4.53\nmax    11.10\nName: 199, dtype: float64\nelement\nmin    15.68\nmax    22.22\nName: 200, dtype: float64\nelement\nmin    11.57\nmax    22.13\nName: 201, dtype: float64\nelement\nmin   -0.15\nmax    0.84\nName: 202, dtype: float64\nelement\nmin   -2.16\nmax   -2.13\nName: 203, dtype: float64\nelement\nmin     2.08\nmax    14.74\nName: 204, dtype: float64\nelement\nmin     6.91\nmax    13.53\nName: 205, dtype: float64\nelement\nmin    12.70\nmax    24.14\nName: 206, dtype: float64\nelement\nmin     8.27\nmax    16.31\nName: 207, dtype: float64\nelement\nmin    18.29\nmax    26.28\nName: 208, dtype: float64\nelement\nmin    16.22\nmax    27.84\nName: 209, dtype: float64\nelement\nmin    1.51\nmax    7.24\nName: 210, dtype: float64\nelement\nmin    12.36\nmax    19.57\nName: 211, dtype: float64\nelement\nmin     1.38\nmax    15.42\nName: 212, dtype: float64\nelement\nmin    3.98\nmax    5.18\nName: 213, dtype: float64\nelement\nmin    13.17\nmax    19.39\nName: 214, dtype: float64\nelement\nmin    1.14\nmax    6.27\nName: 215, dtype: float64\nelement\nmin    2.39\nmax    8.28\nName: 216, dtype: float64\nelement\nmin    17.86\nmax    28.11\nName: 217, dtype: float64\nelement\nmin     7.18\nmax    13.49\nName: 218, dtype: float64\nelement\nmin    15.34\nmax    19.20\nName: 219, dtype: float64\nelement\nmin     8.94\nmax    13.68\nName: 220, dtype: float64\nelement\nmin    11.59\nmax    15.54\nName: 221, dtype: float64\nelement\nmin     8.60\nmax    23.59\nName: 222, dtype: float64\nelement\nmin    17.61\nmax    18.71\nName: 223, dtype: float64\nelement\nmin    19.02\nmax    26.41\nName: 224, dtype: float64\nelement\nmin    5.05\nmax    9.93\nName: 225, dtype: float64\nelement\nmin     2.75\nmax    12.75\nName: 226, dtype: float64\nelement\nmin    13.29\nmax    17.49\nName: 227, dtype: float64\nelement\nmin    19.57\nmax    28.31\nName: 228, dtype: float64\nelement\nmin    1.03\nmax    7.62\nName: 229, dtype: float64\nelement\nmin    3.23\nmax    4.83\nName: 230, dtype: float64\nelement\nmin    14.34\nmax    20.33\nName: 231, dtype: float64\nelement\nmin   -3.58\nmax    1.12\nName: 232, dtype: float64\nelement\nmin   -0.39\nmax    3.44\nName: 233, dtype: float64\nelement\nmin    12.26\nmax    14.54\nName: 234, dtype: float64\nelement\nmin   -1.72\nmax    9.05\nName: 235, dtype: float64\nelement\nmin    -1.34\nmax    10.19\nName: 236, dtype: float64\nelement\nmin     1.94\nmax    11.04\nName: 237, dtype: float64\nelement\nmin     6.64\nmax    15.34\nName: 238, dtype: float64\nelement\nmin    16.16\nmax    28.64\nName: 239, dtype: float64\nelement\nmin   -4.58\nmax   -1.23\nName: 240, dtype: float64\nelement\nmin   -3.44\nmax    6.88\nName: 241, dtype: float64\nelement\nmin   -3.88\nmax   -0.96\nName: 242, dtype: float64\nelement\nmin    0.31\nmax    1.58\nName: 243, dtype: float64\nelement\nmin    1.81\nmax    7.55\nName: 244, dtype: float64\nelement\nmin   -2.68\nmax    0.06\nName: 245, dtype: float64\nelement\nmin   -0.42\nmax    1.38\nName: 246, dtype: float64\nelement\nmin    11.12\nmax    16.35\nName: 247, dtype: float64\nelement\nmin     3.84\nmax    18.73\nName: 248, dtype: float64\nelement\nmin     5.19\nmax    15.34\nName: 249, dtype: float64\nelement\nmin    13.22\nmax    26.07\nName: 250, dtype: float64\nelement\nmin   -0.91\nmax    7.92\nName: 251, dtype: float64\nelement\nmin    0.04\nmax    5.30\nName: 252, dtype: float64\nelement\nmin     4.17\nmax    10.10\nName: 253, dtype: float64\nelement\nmin    14.87\nmax    17.84\nName: 254, dtype: float64\nelement\nmin     4.22\nmax    11.64\nName: 255, dtype: float64\nelement\nmin    2.41\nmax    3.00\nName: 256, dtype: float64\nelement\nmin     7.74\nmax    13.34\nName: 257, dtype: float64\nelement\nmin     2.40\nmax    14.66\nName: 258, dtype: float64\nelement\nmin    14.21\nmax    19.59\nName: 259, dtype: float64\nelement\nmin   -2.72\nmax   -0.39\nName: 260, dtype: float64\nelement\nmin    0.70\nmax    4.71\nName: 261, dtype: float64\nelement\nmin     8.89\nmax    11.53\nName: 262, dtype: float64\nelement\nmin   -4.81\nmax    5.16\nName: 263, dtype: float64\nelement\nmin     5.24\nmax    16.60\nName: 264, dtype: float64\nelement\nmin     0.90\nmax    14.92\nName: 265, dtype: float64\nelement\nmin    16.56\nmax    16.77\nName: 266, dtype: float64\nelement\nmin    18.82\nmax    33.33\nName: 267, dtype: float64\nelement\nmin    15.93\nmax    28.89\nName: 268, dtype: float64\nelement\nmin   -3.84\nmax    6.13\nName: 269, dtype: float64\nelement\nmin   -4.59\nmax   -2.28\nName: 270, dtype: float64\nelement\nmin     4.16\nmax    14.67\nName: 271, dtype: float64\nelement\nmin   NaN\nmax   NaN\nName: 272, dtype: float64\nelement\nmin    -2.71\nmax    11.46\nName: 273, dtype: float64\nelement\nmin    18.00\nmax    20.03\nName: 274, dtype: float64\nelement\nmin     5.81\nmax    15.76\nName: 275, dtype: float64\nelement\nmin    16.87\nmax    17.55\nName: 276, dtype: float64\nelement\nmin   -3.76\nmax    0.08\nName: 277, dtype: float64\nelement\nmin     7.86\nmax    17.68\nName: 278, dtype: float64\nelement\nmin     6.99\nmax    17.16\nName: 279, dtype: float64\nelement\nmin    19.88\nmax    33.02\nName: 280, dtype: float64\nelement\nmin   -3.73\nmax    3.08\nName: 281, dtype: float64\nelement\nmin     4.91\nmax    15.67\nName: 282, dtype: float64\nelement\nmin     8.38\nmax    13.54\nName: 283, dtype: float64\nelement\nmin    18.19\nmax    29.53\nName: 284, dtype: float64\nelement\nmin     0.20\nmax    15.03\nName: 285, dtype: float64\nelement\nmin    10.83\nmax    14.37\nName: 286, dtype: float64\nelement\nmin   -2.72\nmax    5.85\nName: 287, dtype: float64\nelement\nmin    -2.70\nmax    12.29\nName: 288, dtype: float64\nelement\nmin     3.77\nmax    17.22\nName: 289, dtype: float64\nelement\nmin   -3.61\nmax   -2.56\nName: 290, dtype: float64\nelement\nmin    12.47\nmax    24.59\nName: 291, dtype: float64\nelement\nmin    12.77\nmax    23.95\nName: 292, dtype: float64\nelement\nmin    19.05\nmax    26.89\nName: 293, dtype: float64\nelement\nmin   -4.73\nmax    3.02\nName: 294, dtype: float64\nelement\nmin     8.24\nmax    18.36\nName: 295, dtype: float64\nelement\nmin    2.37\nmax    8.59\nName: 296, dtype: float64\nelement\nmin     2.99\nmax    17.58\nName: 297, dtype: float64\nelement\nmin    11.90\nmax    19.95\nName: 298, dtype: float64\nelement\nmin    1.82\nmax    1.93\nName: 299, dtype: float64\nelement\nmin     8.61\nmax    20.15\nName: 300, dtype: float64\nelement\nmin     7.59\nmax    11.31\nName: 301, dtype: float64\nelement\nmin    12.97\nmax    27.33\nName: 302, dtype: float64\nelement\nmin   -2.42\nmax    0.27\nName: 303, dtype: float64\nelement\nmin     0.89\nmax    11.88\nName: 304, dtype: float64\nelement\nmin     8.75\nmax    19.94\nName: 305, dtype: float64\nelement\nmin    12.72\nmax    17.04\nName: 306, dtype: float64\nelement\nmin    11.53\nmax    21.27\nName: 307, dtype: float64\nelement\nmin    12.66\nmax    23.44\nName: 308, dtype: float64\nelement\nmin    -3.98\nmax    10.40\nName: 309, dtype: float64\nelement\nmin   -4.42\nmax   -1.11\nName: 310, dtype: float64\nelement\nmin     6.62\nmax    15.65\nName: 311, dtype: float64\nelement\nmin    0.11\nmax    8.82\nName: 312, dtype: float64\nelement\nmin    4.20\nmax    7.64\nName: 313, dtype: float64\nelement\nmin    10.76\nmax    19.37\nName: 314, dtype: float64\nelement\nmin    14.49\nmax    22.24\nName: 315, dtype: float64\nelement\nmin    15.47\nmax    22.38\nName: 316, dtype: float64\nelement\nmin    10.66\nmax    21.68\nName: 317, dtype: float64\nelement\nmin   -4.05\nmax   -1.46\nName: 318, dtype: float64\nelement\nmin    -1.90\nmax    10.74\nName: 319, dtype: float64\nelement\nmin     6.61\nmax    15.53\nName: 320, dtype: float64\nelement\nmin    19.97\nmax    21.98\nName: 321, dtype: float64\nelement\nmin     8.12\nmax    20.17\nName: 322, dtype: float64\nelement\nmin    2.25\nmax    9.92\nName: 323, dtype: float64\nelement\nmin    16.61\nmax    16.97\nName: 324, dtype: float64\nelement\nmin    4.20\nmax    5.58\nName: 325, dtype: float64\nelement\nmin    15.28\nmax    15.89\nName: 326, dtype: float64\nelement\nmin    11.51\nmax    20.52\nName: 327, dtype: float64\nelement\nmin    11.88\nmax    23.89\nName: 328, dtype: float64\nelement\nmin     7.81\nmax    13.99\nName: 329, dtype: float64\nelement\nmin    0.46\nmax    8.73\nName: 330, dtype: float64\nelement\nmin     1.54\nmax    13.95\nName: 331, dtype: float64\nelement\nmin    4.57\nmax    9.11\nName: 332, dtype: float64\nelement\nmin    15.88\nmax    25.69\nName: 333, dtype: float64\nelement\nmin   NaN\nmax   NaN\nName: 334, dtype: float64\nelement\nmin    1.42\nmax    3.27\nName: 335, dtype: float64\nelement\nmin     7.58\nmax    13.18\nName: 336, dtype: float64\nelement\nmin    19.75\nmax    32.09\nName: 337, dtype: float64\nelement\nmin    14.41\nmax    29.13\nName: 338, dtype: float64\nelement\nmin    15.01\nmax    23.61\nName: 339, dtype: float64\nelement\nmin     5.79\nmax    15.17\nName: 340, dtype: float64\nelement\nmin     6.58\nmax    18.07\nName: 341, dtype: float64\nelement\nmin    11.90\nmax    13.71\nName: 342, dtype: float64\nelement\nmin    1.03\nmax    6.27\nName: 343, dtype: float64\nelement\nmin    2.63\nmax    7.47\nName: 344, dtype: float64\nelement\nmin    3.78\nmax    9.08\nName: 345, dtype: float64\nelement\nmin    -2.92\nmax    11.61\nName: 346, dtype: float64\nelement\nmin     7.07\nmax    17.20\nName: 347, dtype: float64\nelement\nmin    19.90\nmax    25.39\nName: 348, dtype: float64\nelement\nmin   -0.93\nmax   -0.47\nName: 349, dtype: float64\nelement\nmin     7.02\nmax    20.53\nName: 350, dtype: float64\nelement\nmin    19.36\nmax    20.37\nName: 351, dtype: float64\nelement\nmin     5.97\nmax    14.01\nName: 352, dtype: float64\nelement\nmin    10.25\nmax    12.09\nName: 353, dtype: float64\nelement\nmin   -1.69\nmax    9.10\nName: 354, dtype: float64\nelement\nmin    12.69\nmax    20.11\nName: 355, dtype: float64\nelement\nmin    15.93\nmax    30.84\nName: 356, dtype: float64\nelement\nmin   -2.13\nmax   -1.97\nName: 357, dtype: float64\nelement\nmin    11.64\nmax    12.55\nName: 358, dtype: float64\nelement\nmin   -1.43\nmax    1.34\nName: 359, dtype: float64\nelement\nmin    1.07\nmax    9.63\nName: 360, dtype: float64\nelement\nmin     8.84\nmax    15.68\nName: 361, dtype: float64\nelement\nmin    17.96\nmax    28.11\nName: 362, dtype: float64\nelement\nmin     9.53\nmax    17.09\nName: 363, dtype: float64\nelement\nmin     8.23\nmax    18.96\nName: 364, dtype: float64\nelement\nmin     7.77\nmax    14.23\nName: 365, dtype: float64\nelement\nmin     7.86\nmax    17.95\nName: 366, dtype: float64\nelement\nmin    12.78\nmax    26.78\nName: 367, dtype: float64\nelement\nmin    14.27\nmax    25.92\nName: 368, dtype: float64\nelement\nmin     9.72\nmax    21.30\nName: 369, dtype: float64\nelement\nmin    14.85\nmax    21.33\nName: 370, dtype: float64\nelement\nmin    -3.71\nmax    10.51\nName: 371, dtype: float64\nelement\nmin    3.45\nmax    5.43\nName: 372, dtype: float64\nelement\nmin    5.36\nmax    7.14\nName: 373, dtype: float64\nelement\nmin    14.87\nmax    29.30\nName: 374, dtype: float64\nelement\nmin    2.72\nmax    7.31\nName: 375, dtype: float64\nelement\nmin     9.03\nmax    12.11\nName: 376, dtype: float64\nelement\nmin     2.44\nmax    15.91\nName: 377, dtype: float64\nelement\nmin   -2.46\nmax    0.53\nName: 378, dtype: float64\nelement\nmin    15.24\nmax    15.51\nName: 379, dtype: float64\nelement\nmin    14.14\nmax    26.95\nName: 380, dtype: float64\nelement\nmin    3.58\nmax    9.58\nName: 381, dtype: float64\nelement\nmin    19.90\nmax    29.69\nName: 382, dtype: float64\nelement\nmin   -0.22\nmax    1.72\nName: 383, dtype: float64\nelement\nmin    12.99\nmax    19.44\nName: 384, dtype: float64\nelement\nmin     7.28\nmax    13.87\nName: 385, dtype: float64\nelement\nmin    12.83\nmax    24.33\nName: 386, dtype: float64\nelement\nmin    19.34\nmax    22.97\nName: 387, dtype: float64\nelement\nmin    17.59\nmax    30.80\nName: 388, dtype: float64\nelement\nmin    12.77\nmax    21.79\nName: 389, dtype: float64\nelement\nmin   -3.87\nmax    8.48\nName: 390, dtype: float64\nelement\nmin    10.67\nmax    20.24\nName: 391, dtype: float64\nelement\nmin    11.98\nmax    25.04\nName: 392, dtype: float64\nelement\nmin    19.88\nmax    29.10\nName: 393, dtype: float64\nelement\nmin    9.62\nmax    9.93\nName: 394, dtype: float64\nelement\nmin    7.09\nmax    7.55\nName: 395, dtype: float64\nelement\nmin     4.11\nmax    12.28\nName: 396, dtype: float64\nelement\nmin    10.71\nmax    24.10\nName: 397, dtype: float64\nelement\nmin    15.61\nmax    19.85\nName: 398, dtype: float64\nelement\nmin    13.34\nmax    14.68\nName: 399, dtype: float64\nelement\nmin   -3.71\nmax    8.29\nName: 400, dtype: float64\nelement\nmin    18.98\nmax    20.76\nName: 401, dtype: float64\nelement\nmin    4.38\nmax    6.45\nName: 402, dtype: float64\nelement\nmin     8.74\nmax    17.91\nName: 403, dtype: float64\nelement\nmin    13.27\nmax    15.45\nName: 404, dtype: float64\nelement\nmin    11.96\nmax    18.85\nName: 405, dtype: float64\nelement\nmin    4.86\nmax    8.22\nName: 406, dtype: float64\nelement\nmin    19.51\nmax    29.48\nName: 407, dtype: float64\nelement\nmin    12.21\nmax    13.73\nName: 408, dtype: float64\nelement\nmin     9.31\nmax    20.04\nName: 409, dtype: float64\nelement\nmin    2.20\nmax    5.62\nName: 410, dtype: float64\nelement\nmin   -1.11\nmax    7.82\nName: 411, dtype: float64\nelement\nmin     8.09\nmax    13.04\nName: 412, dtype: float64\nelement\nmin    17.94\nmax    32.47\nName: 413, dtype: float64\nelement\nmin     3.66\nmax    17.64\nName: 414, dtype: float64\nelement\nmin    11.13\nmax    16.91\nName: 415, dtype: float64\nelement\nmin     9.10\nmax    21.84\nName: 416, dtype: float64\nelement\nmin   -2.88\nmax   -0.87\nName: 417, dtype: float64\nelement\nmin   -3.36\nmax    7.57\nName: 418, dtype: float64\nelement\nmin    10.42\nmax    18.60\nName: 419, dtype: float64\nelement\nmin     9.10\nmax    16.28\nName: 420, dtype: float64\nelement\nmin     5.34\nmax    20.03\nName: 421, dtype: float64\nelement\nmin    -1.36\nmax    11.36\nName: 422, dtype: float64\nelement\nmin    14.86\nmax    22.34\nName: 423, dtype: float64\nelement\nmin   NaN\nmax   NaN\nName: 424, dtype: float64\nelement\nmin    17.45\nmax    17.93\nName: 425, dtype: float64\nelement\nmin   NaN\nmax   NaN\nName: 426, dtype: float64\nelement\nmin   NaN\nmax   NaN\nName: 427, dtype: float64\nelement\nmin    10.45\nmax    20.05\nName: 428, dtype: float64\nelement\nmin    9.72\nmax    9.85\nName: 429, dtype: float64\nelement\nmin   -4.91\nmax    5.82\nName: 430, dtype: float64\nelement\nmin   -1.81\nmax    8.70\nName: 431, dtype: float64\nelement\nmin   -1.25\nmax    1.97\nName: 432, dtype: float64\nelement\nmin   -0.75\nmax    1.14\nName: 433, dtype: float64\nelement\nmin    14.66\nmax    21.91\nName: 434, dtype: float64\nelement\nmin   -0.07\nmax    4.07\nName: 435, dtype: float64\nelement\nmin    16.64\nmax    18.97\nName: 436, dtype: float64\nelement\nmin     6.19\nmax    10.17\nName: 437, dtype: float64\nelement\nmin     7.75\nmax    22.43\nName: 438, dtype: float64\nelement\nmin    18.92\nmax    30.36\nName: 439, dtype: float64\nelement\nmin    3.07\nmax    9.01\nName: 440, dtype: float64\nelement\nmin     7.73\nmax    15.68\nName: 441, dtype: float64\nelement\nmin     9.90\nmax    17.14\nName: 442, dtype: float64\nelement\nmin    17.95\nmax    29.51\nName: 443, dtype: float64\nelement\nmin   -1.98\nmax    2.04\nName: 444, dtype: float64\nelement\nmin   -0.79\nmax    9.30\nName: 445, dtype: float64\nelement\nmin     7.35\nmax    19.30\nName: 446, dtype: float64\nelement\nmin    15.75\nmax    28.60\nName: 447, dtype: float64\nelement\nmin    10.77\nmax    17.00\nName: 448, dtype: float64\nelement\nmin    17.58\nmax    24.47\nName: 449, dtype: float64\nelement\nmin   -3.38\nmax    8.15\nName: 450, dtype: float64\nelement\nmin    16.90\nmax    30.34\nName: 451, dtype: float64\nelement\nmin     7.90\nmax    10.74\nName: 452, dtype: float64\nelement\nmin    10.13\nmax    17.01\nName: 453, dtype: float64\nelement\nmin    10.23\nmax    10.24\nName: 454, dtype: float64\nelement\nmin    1.75\nmax    4.94\nName: 455, dtype: float64\nelement\nmin    1.40\nmax    7.43\nName: 456, dtype: float64\nelement\nmin    16.68\nmax    22.24\nName: 457, dtype: float64\nelement\nmin    -2.40\nmax    11.85\nName: 458, dtype: float64\nelement\nmin   -3.41\nmax    7.88\nName: 459, dtype: float64\nelement\nmin    13.37\nmax    22.46\nName: 460, dtype: float64\nelement\nmin     5.14\nmax    11.87\nName: 461, dtype: float64\nelement\nmin    11.12\nmax    16.65\nName: 462, dtype: float64\nelement\nmin    3.30\nmax    8.12\nName: 463, dtype: float64\nelement\nmin     1.06\nmax    11.38\nName: 464, dtype: float64\nelement\nmin    18.66\nmax    19.97\nName: 465, dtype: float64\nelement\nmin    11.34\nmax    13.93\nName: 466, dtype: float64\nelement\nmin   -3.76\nmax   -2.57\nName: 467, dtype: float64\nelement\nmin     7.48\nmax    19.01\nName: 468, dtype: float64\nelement\nmin    16.47\nmax    22.49\nName: 469, dtype: float64\nelement\nmin    16.02\nmax    18.09\nName: 470, dtype: float64\nelement\nmin    16.78\nmax    24.17\nName: 471, dtype: float64\nelement\nmin    17.91\nmax    26.94\nName: 472, dtype: float64\nelement\nmin     9.99\nmax    19.56\nName: 473, dtype: float64\nelement\nmin    19.32\nmax    32.33\nName: 474, dtype: float64\nelement\nmin   -3.30\nmax    9.82\nName: 475, dtype: float64\nelement\nmin    17.21\nmax    20.38\nName: 476, dtype: float64\nelement\nmin    2.95\nmax    6.53\nName: 477, dtype: float64\nelement\nmin    10.52\nmax    19.87\nName: 478, dtype: float64\nelement\nmin    5.76\nmax    6.30\nName: 479, dtype: float64\nelement\nmin   -0.70\nmax    6.98\nName: 480, dtype: float64\nelement\nmin    0.18\nmax    2.47\nName: 481, dtype: float64\nelement\nmin     2.01\nmax    12.41\nName: 482, dtype: float64\nelement\nmin   -2.65\nmax    9.28\nName: 483, dtype: float64\nelement\nmin    11.58\nmax    20.44\nName: 484, dtype: float64\nelement\nmin   -4.76\nmax   -0.89\nName: 485, dtype: float64\nelement\nmin     3.37\nmax    11.73\nName: 486, dtype: float64\nelement\nmin     8.10\nmax    12.87\nName: 487, dtype: float64\nelement\nmin    15.07\nmax    20.54\nName: 488, dtype: float64\nelement\nmin   NaN\nmax   NaN\nName: 489, dtype: float64\nelement\nmin    -1.60\nmax    10.37\nName: 490, dtype: float64\nelement\nmin    12.49\nmax    18.77\nName: 491, dtype: float64\nelement\nmin    18.25\nmax    32.78\nName: 492, dtype: float64\nelement\nmin     8.55\nmax    17.23\nName: 493, dtype: float64\nelement\nmin    14.90\nmax    21.54\nName: 494, dtype: float64\nelement\nmin     9.98\nmax    22.45\nName: 495, dtype: float64\nelement\nmin    18.12\nmax    22.84\nName: 496, dtype: float64\nelement\nmin     4.20\nmax    11.76\nName: 497, dtype: float64\nelement\nmin     7.60\nmax    12.24\nName: 498, dtype: float64\nelement\nmin    -1.46\nmax    11.72\nName: 499, dtype: float64\nelement\nmin   -3.15\nmax    9.53\nName: 500, dtype: float64\nelement\nmin    19.31\nmax    22.38\nName: 501, dtype: float64\nelement\nmin    16.35\nmax    22.71\nName: 502, dtype: float64\nelement\nmin     4.51\nmax    16.00\nName: 503, dtype: float64\nelement\nmin    9.34\nmax    9.89\nName: 504, dtype: float64\nelement\nmin     4.14\nmax    15.46\nName: 505, dtype: float64\nelement\nmin    16.78\nmax    26.23\nName: 506, dtype: float64\nelement\nmin    11.42\nmax    22.62\nName: 507, dtype: float64\nelement\nmin     0.96\nmax    15.57\nName: 508, dtype: float64\nelement\nmin    11.62\nmax    16.60\nName: 509, dtype: float64\nelement\nmin    10.04\nmax    13.65\nName: 510, dtype: float64\nelement\nmin     7.98\nmax    18.37\nName: 511, dtype: float64\nelement\nmin    18.23\nmax    24.60\nName: 512, dtype: float64\nelement\nmin   -0.54\nmax    8.40\nName: 513, dtype: float64\nelement\nmin    15.42\nmax    27.92\nName: 514, dtype: float64\nelement\nmin    19.17\nmax    22.75\nName: 515, dtype: float64\nelement\nmin     9.93\nmax    12.54\nName: 516, dtype: float64\nelement\nmin     7.84\nmax    14.59\nName: 517, dtype: float64\nelement\nmin   -1.42\nmax    3.02\nName: 518, dtype: float64\nelement\nmin    13.17\nmax    20.20\nName: 519, dtype: float64\nelement\nmin    16.20\nmax    19.62\nName: 520, dtype: float64\nelement\nmin   -4.24\nmax    9.56\nName: 521, dtype: float64\nelement\nmin     2.99\nmax    17.69\nName: 522, dtype: float64\nelement\nmin    15.72\nmax    26.71\nName: 523, dtype: float64\nelement\nmin    16.12\nmax    25.60\nName: 524, dtype: float64\nelement\nmin   -3.75\nmax   -1.15\nName: 525, dtype: float64\nelement\nmin    12.71\nmax    18.10\nName: 526, dtype: float64\nelement\nmin    14.70\nmax    23.17\nName: 527, dtype: float64\nelement\nmin    18.74\nmax    32.59\nName: 528, dtype: float64\nelement\nmin    19.58\nmax    21.61\nName: 529, dtype: float64\nelement\nmin    12.10\nmax    12.93\nName: 530, dtype: float64\nelement\nmin     3.70\nmax    13.12\nName: 531, dtype: float64\nelement\nmin    19.22\nmax    28.29\nName: 532, dtype: float64\nelement\nmin     4.84\nmax    14.09\nName: 533, dtype: float64\nelement\nmin   -3.76\nmax    6.16\nName: 534, dtype: float64\nelement\nmin     9.31\nmax    14.85\nName: 535, dtype: float64\nelement\nmin    1.11\nmax    5.40\nName: 536, dtype: float64\nelement\nmin    10.51\nmax    12.66\nName: 537, dtype: float64\nelement\nmin    12.99\nmax    17.63\nName: 538, dtype: float64\nelement\nmin     4.98\nmax    17.44\nName: 539, dtype: float64\nelement\nmin     0.84\nmax    13.49\nName: 540, dtype: float64\nelement\nmin     9.47\nmax    20.34\nName: 541, dtype: float64\nelement\nmin    1.51\nmax    3.31\nName: 542, dtype: float64\nelement\nmin     5.37\nmax    13.74\nName: 543, dtype: float64\nelement\nmin     9.56\nmax    18.67\nName: 544, dtype: float64\nelement\nmin    14.65\nmax    21.31\nName: 545, dtype: float64\nelement\nmin     0.82\nmax    12.30\nName: 546, dtype: float64\nelement\nmin    2.26\nmax    3.24\nName: 547, dtype: float64\nelement\nmin    14.82\nmax    29.10\nName: 548, dtype: float64\nelement\nmin    -1.88\nmax    11.51\nName: 549, dtype: float64\nelement\nmin    16.66\nmax    27.81\nName: 550, dtype: float64\nelement\nmin   NaN\nmax   NaN\nName: 551, dtype: float64\nelement\nmin   -3.08\nmax    6.31\nName: 552, dtype: float64\nelement\nmin   -1.34\nmax    4.21\nName: 553, dtype: float64\nelement\nmin   -2.49\nmax    1.57\nName: 554, dtype: float64\nelement\nmin     2.60\nmax    17.31\nName: 555, dtype: float64\nelement\nmin    16.97\nmax    19.05\nName: 556, dtype: float64\nelement\nmin    0.19\nmax    4.18\nName: 557, dtype: float64\nelement\nmin     7.88\nmax    10.35\nName: 558, dtype: float64\nelement\nmin    10.54\nmax    14.57\nName: 559, dtype: float64\nelement\nmin    15.75\nmax    26.40\nName: 560, dtype: float64\nelement\nmin   -1.31\nmax   -0.02\nName: 561, dtype: float64\nelement\nmin    2.54\nmax    3.34\nName: 562, dtype: float64\nelement\nmin    11.08\nmax    19.45\nName: 563, dtype: float64\nelement\nmin   -3.71\nmax    9.04\nName: 564, dtype: float64\nelement\nmin    18.88\nmax    24.75\nName: 565, dtype: float64\nelement\nmin   -0.33\nmax    5.86\nName: 566, dtype: float64\nelement\nmin    17.62\nmax    26.38\nName: 567, dtype: float64\nelement\nmin   -2.33\nmax   -0.96\nName: 568, dtype: float64\nelement\nmin    19.49\nmax    20.06\nName: 569, dtype: float64\nelement\nmin    12.01\nmax    25.88\nName: 570, dtype: float64\nelement\nmin     8.47\nmax    21.43\nName: 571, dtype: float64\nelement\nmin    18.34\nmax    30.38\nName: 572, dtype: float64\nelement\nmin    13.68\nmax    21.43\nName: 573, dtype: float64\nelement\nmin     5.22\nmax    10.52\nName: 574, dtype: float64\nelement\nmin    10.81\nmax    20.58\nName: 575, dtype: float64\nelement\nmin    14.43\nmax    17.84\nName: 576, dtype: float64\nelement\nmin    12.13\nmax    12.33\nName: 577, dtype: float64\nelement\nmin    3.61\nmax    9.01\nName: 578, dtype: float64\nelement\nmin    11.51\nmax    17.19\nName: 579, dtype: float64\nelement\nmin    16.10\nmax    29.03\nName: 580, dtype: float64\nelement\nmin    14.98\nmax    20.64\nName: 581, dtype: float64\nelement\nmin   -4.24\nmax   -3.75\nName: 582, dtype: float64\nelement\nmin    7.06\nmax    9.19\nName: 583, dtype: float64\nelement\nmin   -2.56\nmax   -0.86\nName: 584, dtype: float64\nelement\nmin    4.50\nmax    7.79\nName: 585, dtype: float64\nelement\nmin   -4.87\nmax    6.24\nName: 586, dtype: float64\nelement\nmin    18.88\nmax    19.89\nName: 587, dtype: float64\nelement\nmin    15.71\nmax    16.50\nName: 588, dtype: float64\nelement\nmin    3.79\nmax    6.41\nName: 589, dtype: float64\nelement\nmin    16.34\nmax    22.69\nName: 590, dtype: float64\nelement\nmin     4.45\nmax    18.01\nName: 591, dtype: float64\nelement\nmin    7.82\nmax    9.26\nName: 592, dtype: float64\nelement\nmin   -2.88\nmax    6.07\nName: 593, dtype: float64\nelement\nmin    5.76\nmax    7.69\nName: 594, dtype: float64\nelement\nmin     5.61\nmax    10.85\nName: 595, dtype: float64\nelement\nmin     9.49\nmax    17.40\nName: 596, dtype: float64\nelement\nmin    11.39\nmax    13.00\nName: 597, dtype: float64\nelement\nmin    10.90\nmax    19.33\nName: 598, dtype: float64\nelement\nmin    15.46\nmax    22.47\nName: 599, dtype: float64\nelement\nmin    3.60\nmax    5.35\nName: 600, dtype: float64\nelement\nmin    11.39\nmax    17.08\nName: 601, dtype: float64\nelement\nmin   -4.05\nmax    6.84\nName: 602, dtype: float64\nelement\nmin    15.57\nmax    22.85\nName: 603, dtype: float64\nelement\nmin    12.28\nmax    22.78\nName: 604, dtype: float64\nelement\nmin    8.45\nmax    8.54\nName: 605, dtype: float64\nelement\nmin    1.25\nmax    9.53\nName: 606, dtype: float64\nelement\nmin    9.36\nmax    9.52\nName: 607, dtype: float64\nelement\nmin    19.86\nmax    30.91\nName: 608, dtype: float64\nelement\nmin   -1.55\nmax    7.80\nName: 609, dtype: float64\nelement\nmin    10.76\nmax    18.90\nName: 610, dtype: float64\nelement\nmin     0.58\nmax    15.12\nName: 611, dtype: float64\nelement\nmin    14.97\nmax    22.07\nName: 612, dtype: float64\nelement\nmin    18.07\nmax    28.75\nName: 613, dtype: float64\nelement\nmin    3.39\nmax    9.77\nName: 614, dtype: float64\nelement\nmin    12.93\nmax    23.53\nName: 615, dtype: float64\nelement\nmin     1.09\nmax    10.25\nName: 616, dtype: float64\nelement\nmin    19.99\nmax    21.88\nName: 617, dtype: float64\nelement\nmin   -3.37\nmax   -0.42\nName: 618, dtype: float64\nelement\nmin    13.28\nmax    20.18\nName: 619, dtype: float64\nelement\nmin    11.55\nmax    18.83\nName: 620, dtype: float64\nelement\nmin     8.84\nmax    10.62\nName: 621, dtype: float64\nelement\nmin   -0.57\nmax    6.09\nName: 622, dtype: float64\nelement\nmin    3.18\nmax    3.70\nName: 623, dtype: float64\nelement\nmin     4.79\nmax    12.18\nName: 624, dtype: float64\nelement\nmin     8.46\nmax    11.41\nName: 625, dtype: float64\nelement\nmin   -4.54\nmax   -0.45\nName: 626, dtype: float64\nelement\nmin    14.24\nmax    22.41\nName: 627, dtype: float64\nelement\nmin    7.75\nmax    7.84\nName: 628, dtype: float64\nelement\nmin    11.29\nmax    13.78\nName: 629, dtype: float64\nelement\nmin     5.37\nmax    15.32\nName: 630, dtype: float64\nelement\nmin    5.62\nmax    5.68\nName: 631, dtype: float64\nelement\nmin     3.30\nmax    17.12\nName: 632, dtype: float64\nelement\nmin    15.5\nmax    16.3\nName: 633, dtype: float64\nelement\nmin   -2.98\nmax    2.27\nName: 634, dtype: float64\nelement\nmin   -0.54\nmax    2.58\nName: 635, dtype: float64\nelement\nmin    12.47\nmax    14.18\nName: 636, dtype: float64\nelement\nmin    19.16\nmax    24.91\nName: 637, dtype: float64\nelement\nmin    11.78\nmax    13.42\nName: 638, dtype: float64\nelement\nmin    17.68\nmax    19.93\nName: 639, dtype: float64\nelement\nmin    17.63\nmax    25.95\nName: 640, dtype: float64\nelement\nmin     9.36\nmax    16.42\nName: 641, dtype: float64\nelement\nmin    16.34\nmax    28.59\nName: 642, dtype: float64\nelement\nmin    -2.42\nmax    10.17\nName: 643, dtype: float64\nelement\nmin   NaN\nmax   NaN\nName: 644, dtype: float64\nelement\nmin     5.10\nmax    12.79\nName: 645, dtype: float64\nelement\nmin    14.57\nmax    25.92\nName: 646, dtype: float64\nelement\nmin    19.63\nmax    20.85\nName: 647, dtype: float64\nelement\nmin    16.86\nmax    22.94\nName: 648, dtype: float64\nelement\nmin   -0.84\nmax    0.65\nName: 649, dtype: float64\nelement\nmin    18.65\nmax    30.75\nName: 650, dtype: float64\nelement\nmin     5.22\nmax    17.43\nName: 651, dtype: float64\nelement\nmin    10.37\nmax    15.10\nName: 652, dtype: float64\nelement\nmin     4.72\nmax    15.92\nName: 653, dtype: float64\nelement\nmin    11.55\nmax    12.66\nName: 654, dtype: float64\nelement\nmin    17.53\nmax    30.82\nName: 655, dtype: float64\nelement\nmin     0.22\nmax    14.33\nName: 656, dtype: float64\nelement\nmin    19.84\nmax    27.22\nName: 657, dtype: float64\nelement\nmin    18.53\nmax    20.60\nName: 658, dtype: float64\nelement\nmin    0.01\nmax    5.98\nName: 659, dtype: float64\nelement\nmin    1.44\nmax    2.64\nName: 660, dtype: float64\nelement\nmin    13.36\nmax    17.00\nName: 661, dtype: float64\nelement\nmin    13.07\nmax    14.85\nName: 662, dtype: float64\nelement\nmin    17.79\nmax    26.19\nName: 663, dtype: float64\nelement\nmin   -3.83\nmax    2.42\nName: 664, dtype: float64\nelement\nmin     2.35\nmax    13.97\nName: 665, dtype: float64\nelement\nmin   -1.74\nmax    9.31\nName: 666, dtype: float64\nelement\nmin     6.19\nmax    14.59\nName: 667, dtype: float64\nelement\nmin    14.88\nmax    23.85\nName: 668, dtype: float64\nelement\nmin     7.01\nmax    19.19\nName: 669, dtype: float64\nelement\nmin    17.79\nmax    22.39\nName: 670, dtype: float64\nelement\nmin    11.68\nmax    15.26\nName: 671, dtype: float64\nelement\nmin    2.54\nmax    9.81\nName: 672, dtype: float64\nelement\nmin   -0.76\nmax    8.97\nName: 673, dtype: float64\nelement\nmin   -2.35\nmax    8.72\nName: 674, dtype: float64\nelement\nmin    18.52\nmax    29.28\nName: 675, dtype: float64\nelement\nmin     3.35\nmax    13.34\nName: 676, dtype: float64\nelement\nmin   -3.93\nmax    6.72\nName: 677, dtype: float64\nelement\nmin     0.13\nmax    10.09\nName: 678, dtype: float64\nelement\nmin    12.28\nmax    20.44\nName: 679, dtype: float64\nelement\nmin     3.55\nmax    12.47\nName: 680, dtype: float64\nelement\nmin    1.70\nmax    9.24\nName: 681, dtype: float64\nelement\nmin    19.08\nmax    25.72\nName: 682, dtype: float64\nelement\nmin    1.99\nmax    8.83\nName: 683, dtype: float64\nelement\nmin    17.70\nmax    28.42\nName: 684, dtype: float64\nelement\nmin    19.51\nmax    32.96\nName: 685, dtype: float64\nelement\nmin    16.59\nmax    30.02\nName: 686, dtype: float64\nelement\nmin   -3.72\nmax    9.34\nName: 687, dtype: float64\nelement\nmin     4.75\nmax    14.81\nName: 688, dtype: float64\nelement\nmin     7.52\nmax    20.26\nName: 689, dtype: float64\nelement\nmin    16.72\nmax    22.29\nName: 690, dtype: float64\nelement\nmin   -3.50\nmax    7.67\nName: 691, dtype: float64\nelement\nmin    5.83\nmax    8.76\nName: 692, dtype: float64\nelement\nmin    -1.99\nmax    10.24\nName: 693, dtype: float64\nelement\nmin    2.13\nmax    9.08\nName: 694, dtype: float64\nelement\nmin    10.86\nmax    16.85\nName: 695, dtype: float64\nelement\nmin    12.76\nmax    16.13\nName: 696, dtype: float64\nelement\nmin    12.18\nmax    24.47\nName: 697, dtype: float64\nelement\nmin    14.74\nmax    27.51\nName: 698, dtype: float64\nelement\nmin     9.92\nmax    22.98\nName: 699, dtype: float64\nelement\nmin    19.26\nmax    20.44\nName: 700, dtype: float64\nelement\nmin    16.12\nmax    28.45\nName: 701, dtype: float64\nelement\nmin     6.19\nmax    19.01\nName: 702, dtype: float64\nelement\nmin   -2.04\nmax   -0.09\nName: 703, dtype: float64\nelement\nmin    17.50\nmax    28.38\nName: 704, dtype: float64\nelement\nmin    17.05\nmax    19.09\nName: 705, dtype: float64\nelement\nmin   NaN\nmax   NaN\nName: 706, dtype: float64\nelement\nmin   -2.42\nmax    6.66\nName: 707, dtype: float64\nelement\nmin    14.35\nmax    19.00\nName: 708, dtype: float64\nelement\nmin     9.78\nmax    18.55\nName: 709, dtype: float64\nelement\nmin    13.27\nmax    24.33\nName: 710, dtype: float64\nelement\nmin     6.02\nmax    13.47\nName: 711, dtype: float64\nelement\nmin    18.16\nmax    24.31\nName: 712, dtype: float64\nelement\nmin    -3.63\nmax    10.71\nName: 713, dtype: float64\nelement\nmin   -2.58\nmax   -2.51\nName: 714, dtype: float64\nelement\nmin    1.34\nmax    2.31\nName: 715, dtype: float64\nelement\nmin     9.91\nmax    21.86\nName: 716, dtype: float64\nelement\nmin    11.72\nmax    18.85\nName: 717, dtype: float64\nelement\nmin    4.71\nmax    5.16\nName: 718, dtype: float64\nelement\nmin   -1.5\nmax    7.8\nName: 719, dtype: float64\nelement\nmin     3.16\nmax    16.13\nName: 720, dtype: float64\nelement\nmin     8.53\nmax    14.48\nName: 721, dtype: float64\nelement\nmin   -1.98\nmax    1.70\nName: 722, dtype: float64\nelement\nmin    19.69\nmax    24.85\nName: 723, dtype: float64\nelement\nmin    18.12\nmax    32.59\nName: 724, dtype: float64\nelement\nmin     4.96\nmax    13.95\nName: 725, dtype: float64\nelement\nmin    19.98\nmax    22.69\nName: 726, dtype: float64\nelement\nmin     9.50\nmax    11.58\nName: 727, dtype: float64\nelement\nmin     4.93\nmax    19.04\nName: 728, dtype: float64\nelement\nmin   -4.18\nmax    3.28\nName: 729, dtype: float64\nelement\nmin   -2.90\nmax    9.05\nName: 730, dtype: float64\nelement\nmin     1.95\nmax    12.37\nName: 731, dtype: float64\nelement\nmin   -1.89\nmax    3.68\nName: 732, dtype: float64\nelement\nmin     7.98\nmax    12.30\nName: 733, dtype: float64\nelement\nmin     9.13\nmax    18.33\nName: 734, dtype: float64\nelement\nmin    16.37\nmax    19.40\nName: 735, dtype: float64\nelement\nmin    18.13\nmax    21.63\nName: 736, dtype: float64\nelement\nmin     1.12\nmax    15.79\nName: 737, dtype: float64\nelement\nmin    18.59\nmax    29.33\nName: 738, dtype: float64\nelement\nmin   -2.77\nmax    2.90\nName: 739, dtype: float64\nelement\nmin    14.81\nmax    20.29\nName: 740, dtype: float64\nelement\nmin    3.12\nmax    5.59\nName: 741, dtype: float64\nelement\nmin    18.31\nmax    32.63\nName: 742, dtype: float64\nelement\nmin    18.34\nmax    23.49\nName: 743, dtype: float64\nelement\nmin   -1.75\nmax    1.53\nName: 744, dtype: float64\nelement\nmin   -1.02\nmax    8.23\nName: 745, dtype: float64\nelement\nmin     5.12\nmax    15.99\nName: 746, dtype: float64\nelement\nmin     9.89\nmax    23.86\nName: 747, dtype: float64\nelement\nmin   -3.25\nmax   -2.07\nName: 748, dtype: float64\nelement\nmin     5.50\nmax    15.18\nName: 749, dtype: float64\nelement\nmin    1.48\nmax    9.38\nName: 750, dtype: float64\nelement\nmin    17.77\nmax    21.15\nName: 751, dtype: float64\nelement\nmin   -3.33\nmax    8.90\nName: 752, dtype: float64\nelement\nmin    16.56\nmax    17.16\nName: 753, dtype: float64\nelement\nmin    10.98\nmax    19.88\nName: 754, dtype: float64\nelement\nmin    0.07\nmax    9.58\nName: 755, dtype: float64\nelement\nmin     3.85\nmax    17.60\nName: 756, dtype: float64\nelement\nmin   -1.06\nmax    5.98\nName: 757, dtype: float64\nelement\nmin    0.28\nmax    6.02\nName: 758, dtype: float64\nelement\nmin    13.43\nmax    17.38\nName: 759, dtype: float64\nelement\nmin    10.77\nmax    13.61\nName: 760, dtype: float64\nelement\nmin    19.77\nmax    26.61\nName: 761, dtype: float64\nelement\nmin    -2.53\nmax    11.64\nName: 762, dtype: float64\nelement\nmin    7.50\nmax    8.03\nName: 763, dtype: float64\nelement\nmin    16.57\nmax    26.21\nName: 764, dtype: float64\nelement\nmin   -3.98\nmax    9.09\nName: 765, dtype: float64\nelement\nmin     7.18\nmax    14.38\nName: 766, dtype: float64\nelement\nmin    14.67\nmax    18.17\nName: 767, dtype: float64\nelement\nmin    -0.93\nmax    12.91\nName: 768, dtype: float64\nelement\nmin     5.31\nmax    14.73\nName: 769, dtype: float64\nelement\nmin     7.92\nmax    17.73\nName: 770, dtype: float64\nelement\nmin    14.70\nmax    22.57\nName: 771, dtype: float64\nelement\nmin    11.07\nmax    12.11\nName: 772, dtype: float64\nelement\nmin    2.80\nmax    3.68\nName: 773, dtype: float64\nelement\nmin    13.96\nmax    22.24\nName: 774, dtype: float64\nelement\nmin     4.43\nmax    14.16\nName: 775, dtype: float64\nelement\nmin   -1.75\nmax    2.92\nName: 776, dtype: float64\nelement\nmin    17.89\nmax    29.20\nName: 777, dtype: float64\nelement\nmin    2.63\nmax    9.65\nName: 778, dtype: float64\nelement\nmin    12.17\nmax    20.67\nName: 779, dtype: float64\nelement\nmin    0.78\nmax    6.36\nName: 780, dtype: float64\nelement\nmin     5.87\nmax    20.00\nName: 781, dtype: float64\nelement\nmin   -0.48\nmax    0.54\nName: 782, dtype: float64\nelement\nmin     7.15\nmax    15.62\nName: 783, dtype: float64\nelement\nmin    14.92\nmax    25.62\nName: 784, dtype: float64\nelement\nmin     3.56\nmax    16.39\nName: 785, dtype: float64\nelement\nmin    16.90\nmax    18.19\nName: 786, dtype: float64\nelement\nmin    10.35\nmax    23.02\nName: 787, dtype: float64\nelement\nmin    2.38\nmax    3.90\nName: 788, dtype: float64\nelement\nmin   -1.32\nmax    1.70\nName: 789, dtype: float64\nelement\nmin     1.67\nmax    12.17\nName: 790, dtype: float64\nelement\nmin    13.23\nmax    18.17\nName: 791, dtype: float64\nelement\nmin    16.97\nmax    28.21\nName: 792, dtype: float64\nelement\nmin   -4.19\nmax    6.36\nName: 793, dtype: float64\nelement\nmin     4.28\nmax    11.56\nName: 794, dtype: float64\nelement\nmin    3.58\nmax    4.24\nName: 795, dtype: float64\nelement\nmin    18.01\nmax    25.97\nName: 796, dtype: float64\nelement\nmin    7.07\nmax    8.48\nName: 797, dtype: float64\nelement\nmin   NaN\nmax   NaN\nName: 798, dtype: float64\nelement\nmin   NaN\nmax   NaN\nName: 799, dtype: float64\nelement\nmin    13.78\nmax    19.00\nName: 800, dtype: float64\nelement\nmin     7.84\nmax    10.27\nName: 801, dtype: float64\nelement\nmin    15.89\nmax    26.64\nName: 802, dtype: float64\nelement\nmin    15.15\nmax    15.35\nName: 803, dtype: float64\nelement\nmin   -3.58\nmax   -3.06\nName: 804, dtype: float64\nelement\nmin     9.04\nmax    23.63\nName: 805, dtype: float64\nelement\nmin    13.71\nmax    22.05\nName: 806, dtype: float64\nelement\nmin    4.50\nmax    8.69\nName: 807, dtype: float64\nelement\nmin     7.3\nmax    21.9\nName: 808, dtype: float64\nelement\nmin    10.47\nmax    13.73\nName: 809, dtype: float64\nelement\nmin    15.04\nmax    15.30\nName: 810, dtype: float64\nelement\nmin    3.48\nmax    6.13\nName: 811, dtype: float64\nelement\nmin     4.63\nmax    12.18\nName: 812, dtype: float64\nelement\nmin     7.42\nmax    20.55\nName: 813, dtype: float64\nelement\nmin    19.67\nmax    21.15\nName: 814, dtype: float64\nelement\nmin     9.04\nmax    22.42\nName: 815, dtype: float64\nelement\nmin    18.65\nmax    19.45\nName: 816, dtype: float64\nelement\nmin     3.89\nmax    15.89\nName: 817, dtype: float64\nelement\nmin    15.11\nmax    22.08\nName: 818, dtype: float64\nelement\nmin   -3.85\nmax    8.88\nName: 819, dtype: float64\nelement\nmin    14.58\nmax    26.27\nName: 820, dtype: float64\nelement\nmin     7.80\nmax    13.02\nName: 821, dtype: float64\nelement\nmin     6.11\nmax    15.41\nName: 822, dtype: float64\nelement\nmin    18.79\nmax    24.25\nName: 823, dtype: float64\nelement\nmin   -2.49\nmax   -0.73\nName: 824, dtype: float64\nelement\nmin    2.88\nmax    9.66\nName: 825, dtype: float64\nelement\nmin    6.11\nmax    8.48\nName: 826, dtype: float64\nelement\nmin    -0.71\nmax    10.88\nName: 827, dtype: float64\nelement\nmin    18.28\nmax    30.68\nName: 828, dtype: float64\nelement\nmin     9.28\nmax    24.26\nName: 829, dtype: float64\nelement\nmin    11.94\nmax    20.25\nName: 830, dtype: float64\nelement\nmin    11.96\nmax    16.99\nName: 831, dtype: float64\nelement\nmin   -2.64\nmax    3.88\nName: 832, dtype: float64\nelement\nmin   -2.39\nmax   -0.61\nName: 833, dtype: float64\nelement\nmin    14.41\nmax    19.36\nName: 834, dtype: float64\nelement\nmin     0.02\nmax    12.32\nName: 835, dtype: float64\nelement\nmin   -4.66\nmax    6.13\nName: 836, dtype: float64\nelement\nmin    2.63\nmax    6.59\nName: 837, dtype: float64\nelement\nmin    15.80\nmax    19.32\nName: 838, dtype: float64\nelement\nmin   -1.14\nmax    0.06\nName: 839, dtype: float64\nelement\nmin   -0.42\nmax    3.49\nName: 840, dtype: float64\nelement\nmin   -4.66\nmax    1.02\nName: 841, dtype: float64\nelement\nmin    10.92\nmax    15.48\nName: 842, dtype: float64\nelement\nmin    16.58\nmax    18.51\nName: 843, dtype: float64\nelement\nmin    10.04\nmax    15.00\nName: 844, dtype: float64\nelement\nmin     7.28\nmax    10.74\nName: 845, dtype: float64\nelement\nmin    11.61\nmax    23.69\nName: 846, dtype: float64\nelement\nmin    18.83\nmax    27.56\nName: 847, dtype: float64\nelement\nmin     7.80\nmax    14.83\nName: 848, dtype: float64\nelement\nmin   -4.28\nmax   -3.46\nName: 849, dtype: float64\nelement\nmin    18.83\nmax    33.26\nName: 850, dtype: float64\nelement\nmin    11.61\nmax    21.29\nName: 851, dtype: float64\nelement\nmin    16.56\nmax    21.61\nName: 852, dtype: float64\nelement\nmin    2.49\nmax    2.71\nName: 853, dtype: float64\nelement\nmin    13.35\nmax    17.72\nName: 854, dtype: float64\nelement\nmin    17.97\nmax    30.69\nName: 855, dtype: float64\nelement\nmin   -3.05\nmax    8.08\nName: 856, dtype: float64\nelement\nmin   -1.14\nmax    1.21\nName: 857, dtype: float64\nelement\nmin    15.97\nmax    20.93\nName: 858, dtype: float64\nelement\nmin    18.67\nmax    19.89\nName: 859, dtype: float64\nelement\nmin    18.49\nmax    32.12\nName: 860, dtype: float64\nelement\nmin   NaN\nmax   NaN\nName: 861, dtype: float64\nelement\nmin     8.01\nmax    20.84\nName: 862, dtype: float64\nelement\nmin    13.19\nmax    19.69\nName: 863, dtype: float64\nelement\nmin     9.04\nmax    22.28\nName: 864, dtype: float64\nelement\nmin    15.87\nmax    30.71\nName: 865, dtype: float64\nelement\nmin    11.38\nmax    12.71\nName: 866, dtype: float64\nelement\nmin    2.52\nmax    7.88\nName: 867, dtype: float64\nelement\nmin    10.06\nmax    24.65\nName: 868, dtype: float64\nelement\nmin    16.85\nmax    31.68\nName: 869, dtype: float64\nelement\nmin    2.35\nmax    4.90\nName: 870, dtype: float64\nelement\nmin    19.05\nmax    27.55\nName: 871, dtype: float64\nelement\nmin    17.35\nmax    21.01\nName: 872, dtype: float64\nelement\nmin    1.42\nmax    7.91\nName: 873, dtype: float64\nelement\nmin    15.99\nmax    18.38\nName: 874, dtype: float64\nelement\nmin     4.76\nmax    16.87\nName: 875, dtype: float64\nelement\nmin     5.99\nmax    13.54\nName: 876, dtype: float64\nelement\nmin    -2.46\nmax    11.72\nName: 877, dtype: float64\nelement\nmin   -2.89\nmax    8.98\nName: 878, dtype: float64\nelement\nmin    -1.67\nmax    12.07\nName: 879, dtype: float64\nelement\nmin    13.12\nmax    22.55\nName: 880, dtype: float64\nelement\nmin     3.98\nmax    14.97\nName: 881, dtype: float64\nelement\nmin    14.5\nmax    20.0\nName: 882, dtype: float64\nelement\nmin     7.50\nmax    19.94\nName: 883, dtype: float64\nelement\nmin     8.21\nmax    21.13\nName: 884, dtype: float64\nelement\nmin     7.09\nmax    13.24\nName: 885, dtype: float64\nelement\nmin    6.43\nmax    9.91\nName: 886, dtype: float64\nelement\nmin     5.76\nmax    17.94\nName: 887, dtype: float64\nelement\nmin    16.33\nmax    26.40\nName: 888, dtype: float64\nelement\nmin   -2.52\nmax    9.55\nName: 889, dtype: float64\nelement\nmin    16.68\nmax    27.07\nName: 890, dtype: float64\nelement\nmin    13.17\nmax    17.06\nName: 891, dtype: float64\nelement\nmin    12.83\nmax    18.13\nName: 892, dtype: float64\nelement\nmin     9.70\nmax    17.85\nName: 893, dtype: float64\nelement\nmin    12.47\nmax    16.38\nName: 894, dtype: float64\nelement\nmin   -2.09\nmax    9.68\nName: 895, dtype: float64\nelement\nmin    19.77\nmax    30.20\nName: 896, dtype: float64\nelement\nmin    1.92\nmax    4.59\nName: 897, dtype: float64\nelement\nmin    3.29\nmax    6.24\nName: 898, dtype: float64\nelement\nmin    6.87\nmax    6.95\nName: 899, dtype: float64\nelement\nmin    15.95\nmax    30.44\nName: 900, dtype: float64\nelement\nmin     4.10\nmax    12.65\nName: 901, dtype: float64\nelement\nmin    12.75\nmax    24.72\nName: 902, dtype: float64\nelement\nmin    15.74\nmax    23.09\nName: 903, dtype: float64\nelement\nmin    13.94\nmax    23.75\nName: 904, dtype: float64\nelement\nmin    12.11\nmax    21.21\nName: 905, dtype: float64\nelement\nmin    -2.67\nmax    11.26\nName: 906, dtype: float64\nelement\nmin   -1.30\nmax    5.58\nName: 907, dtype: float64\nelement\nmin    -0.72\nmax    11.96\nName: 908, dtype: float64\nelement\nmin    19.52\nmax    24.67\nName: 909, dtype: float64\nelement\nmin   -1.73\nmax    9.42\nName: 910, dtype: float64\nelement\nmin    19.62\nmax    29.43\nName: 911, dtype: float64\nelement\nmin    -1.82\nmax    10.72\nName: 912, dtype: float64\nelement\nmin   -0.55\nmax    4.01\nName: 913, dtype: float64\nelement\nmin    19.00\nmax    21.12\nName: 914, dtype: float64\nelement\nmin    19.77\nmax    20.18\nName: 915, dtype: float64\nelement\nmin    0.46\nmax    7.97\nName: 916, dtype: float64\nelement\nmin    12.90\nmax    25.67\nName: 917, dtype: float64\nelement\nmin    -4.38\nmax    10.47\nName: 918, dtype: float64\nelement\nmin    16.19\nmax    22.10\nName: 919, dtype: float64\nelement\nmin    4.26\nmax    4.50\nName: 920, dtype: float64\nelement\nmin   -2.53\nmax    7.39\nName: 921, dtype: float64\nelement\nmin    19.17\nmax    32.45\nName: 922, dtype: float64\nelement\nmin   NaN\nmax   NaN\nName: 923, dtype: float64\nelement\nmin    17.81\nmax    24.86\nName: 924, dtype: float64\nelement\nmin     9.98\nmax    17.72\nName: 925, dtype: float64\nelement\nmin     4.17\nmax    10.12\nName: 926, dtype: float64\nelement\nmin    2.80\nmax    4.46\nName: 927, dtype: float64\nelement\nmin     0.45\nmax    14.41\nName: 928, dtype: float64\nelement\nmin   -3.31\nmax   -1.30\nName: 929, dtype: float64\nelement\nmin     7.33\nmax    15.00\nName: 930, dtype: float64\nelement\nmin     9.97\nmax    10.02\nName: 931, dtype: float64\nelement\nmin   -1.75\nmax    4.99\nName: 932, dtype: float64\nelement\nmin     9.21\nmax    14.71\nName: 933, dtype: float64\nelement\nmin   -2.62\nmax    1.30\nName: 934, dtype: float64\nelement\nmin   -3.28\nmax   -2.59\nName: 935, dtype: float64\nelement\nmin   -2.00\nmax    0.02\nName: 936, dtype: float64\nelement\nmin    6.84\nmax    8.51\nName: 937, dtype: float64\nelement\nmin     4.64\nmax    12.35\nName: 938, dtype: float64\nelement\nmin     0.73\nmax    13.46\nName: 939, dtype: float64\nelement\nmin     9.56\nmax    18.10\nName: 940, dtype: float64\nelement\nmin    12.36\nmax    20.87\nName: 941, dtype: float64\nelement\nmin    16.21\nmax    19.74\nName: 942, dtype: float64\nelement\nmin    5.56\nmax    8.50\nName: 943, dtype: float64\nelement\nmin    5.52\nmax    6.14\nName: 944, dtype: float64\nelement\nmin     7.65\nmax    14.96\nName: 945, dtype: float64\nelement\nmin   -2.57\nmax    9.22\nName: 946, dtype: float64\nelement\nmin   -4.28\nmax   -3.84\nName: 947, dtype: float64\nelement\nmin     6.21\nmax    21.17\nName: 948, dtype: float64\nelement\nmin   -3.44\nmax    8.57\nName: 949, dtype: float64\nelement\nmin     6.64\nmax    20.05\nName: 950, dtype: float64\nelement\nmin   -0.97\nmax    2.82\nName: 951, dtype: float64\nelement\nmin    19.87\nmax    20.70\nName: 952, dtype: float64\nelement\nmin    18.09\nmax    20.77\nName: 953, dtype: float64\nelement\nmin    -2.31\nmax    11.03\nName: 954, dtype: float64\nelement\nmin    16.27\nmax    19.54\nName: 955, dtype: float64\nelement\nmin    15.95\nmax    28.57\nName: 956, dtype: float64\nelement\nmin     4.77\nmax    10.65\nName: 957, dtype: float64\nelement\nmin    19.41\nmax    34.40\nName: 958, dtype: float64\nelement\nmin    18.29\nmax    28.83\nName: 959, dtype: float64\nelement\nmin     6.33\nmax    13.18\nName: 960, dtype: float64\nelement\nmin   -0.41\nmax    9.98\nName: 961, dtype: float64\nelement\nmin    16.93\nmax    23.88\nName: 962, dtype: float64\nelement\nmin    16.39\nmax    19.30\nName: 963, dtype: float64\nelement\nmin    13.79\nmax    28.47\nName: 964, dtype: float64\nelement\nmin     7.42\nmax    12.94\nName: 965, dtype: float64\nelement\nmin    18.72\nmax    27.37\nName: 966, dtype: float64\nelement\nmin    12.42\nmax    14.80\nName: 967, dtype: float64\nelement\nmin    1.67\nmax    2.75\nName: 968, dtype: float64\nelement\nmin    0.69\nmax    2.18\nName: 969, dtype: float64\nelement\nmin    18.51\nmax    27.08\nName: 970, dtype: float64\nelement\nmin    4.50\nmax    5.57\nName: 971, dtype: float64\nelement\nmin    14.23\nmax    25.58\nName: 972, dtype: float64\nelement\nmin   -4.26\nmax   -1.97\nName: 973, dtype: float64\nelement\nmin    16.27\nmax    26.36\nName: 974, dtype: float64\nelement\nmin   -0.48\nmax    5.44\nName: 975, dtype: float64\nelement\nmin   -1.97\nmax    3.68\nName: 976, dtype: float64\nelement\nmin     1.26\nmax    10.26\nName: 977, dtype: float64\nelement\nmin    13.86\nmax    25.02\nName: 978, dtype: float64\nelement\nmin     4.43\nmax    13.56\nName: 979, dtype: float64\nelement\nmin    10.73\nmax    19.17\nName: 980, dtype: float64\nelement\nmin     7.63\nmax    11.75\nName: 981, dtype: float64\nelement\nmin   -3.08\nmax    7.60\nName: 982, dtype: float64\nelement\nmin    13.04\nmax    26.30\nName: 983, dtype: float64\nelement\nmin   -4.15\nmax    2.11\nName: 984, dtype: float64\nelement\nmin    13.62\nmax    15.14\nName: 985, dtype: float64\nelement\nmin    10.28\nmax    10.87\nName: 986, dtype: float64\nelement\nmin     9.25\nmax    18.32\nName: 987, dtype: float64\nelement\nmin    0.68\nmax    5.80\nName: 988, dtype: float64\nelement\nmin     9.56\nmax    21.65\nName: 989, dtype: float64\nelement\nmin    19.78\nmax    22.20\nName: 990, dtype: float64\nelement\nmin     6.58\nmax    21.25\nName: 991, dtype: float64\nelement\nmin     6.40\nmax    15.76\nName: 992, dtype: float64\nelement\nmin    18.50\nmax    21.82\nName: 993, dtype: float64\nelement\nmin   -4.01\nmax    7.73\nName: 994, dtype: float64\nelement\nmin   -0.29\nmax    3.76\nName: 995, dtype: float64\nelement\nmin   -0.15\nmax    5.98\nName: 996, dtype: float64\nelement\nmin    13.04\nmax    19.39\nName: 997, dtype: float64\nelement\nmin     8.0\nmax    10.0\nName: 998, dtype: float64\nelement\nmin   -2.19\nmax    9.98\nName: 999, dtype: float64\nelement\nmin    0.52\nmax    1.94\nName: 1000, dtype: float64\nelement\nmin    14.56\nmax    28.05\nName: 1001, dtype: float64\nelement\nmin    16.25\nmax    31.24\nName: 1002, dtype: float64\nelement\nmin     5.26\nmax    10.58\nName: 1003, dtype: float64\nelement\nmin     9.86\nmax    15.81\nName: 1004, dtype: float64\nelement\nmin    14.76\nmax    17.49\nName: 1005, dtype: float64\nelement\nmin    17.86\nmax    26.30\nName: 1006, dtype: float64\nelement\nmin    0.01\nmax    1.04\nName: 1007, dtype: float64\nelement\nmin    13.48\nmax    13.65\nName: 1008, dtype: float64\nelement\nmin    17.44\nmax    27.88\nName: 1009, dtype: float64\nelement\nmin    10.06\nmax    10.47\nName: 1010, dtype: float64\nelement\nmin   -2.78\nmax    0.52\nName: 1011, dtype: float64\nelement\nmin     2.79\nmax    14.52\nName: 1012, dtype: float64\nelement\nmin    15.77\nmax    26.99\nName: 1013, dtype: float64\nelement\nmin     3.24\nmax    17.29\nName: 1014, dtype: float64\nelement\nmin    16.87\nmax    18.23\nName: 1015, dtype: float64\nelement\nmin   NaN\nmax   NaN\nName: 1016, dtype: float64\nelement\nmin    12.06\nmax    25.95\nName: 1017, dtype: float64\nelement\nmin    3.38\nmax    5.67\nName: 1018, dtype: float64\nelement\nmin   -1.30\nmax    4.65\nName: 1019, dtype: float64\nelement\nmin    -2.19\nmax    10.00\nName: 1020, dtype: float64\nelement\nmin     9.49\nmax    11.32\nName: 1021, dtype: float64\nelement\nmin   -4.63\nmax    3.15\nName: 1022, dtype: float64\nelement\nmin    2.51\nmax    6.67\nName: 1023, dtype: float64\nelement\nmin    -0.76\nmax    13.26\nName: 1024, dtype: float64\nelement\nmin     9.09\nmax    15.59\nName: 1025, dtype: float64\nelement\nmin     5.09\nmax    10.63\nName: 1026, dtype: float64\nelement\nmin    18.76\nmax    19.77\nName: 1027, dtype: float64\nelement\nmin     2.74\nmax    14.60\nName: 1028, dtype: float64\nelement\nmin   -1.29\nmax   -0.34\nName: 1029, dtype: float64\nelement\nmin    14.22\nmax    15.95\nName: 1030, dtype: float64\nelement\nmin    11.3\nmax    26.3\nName: 1031, dtype: float64\nelement\nmin    0.22\nmax    1.93\nName: 1032, dtype: float64\nelement\nmin   -1.12\nmax   -0.52\nName: 1033, dtype: float64\nelement\nmin    10.08\nmax    12.84\nName: 1034, dtype: float64\nelement\nmin    19.57\nmax    19.96\nName: 1035, dtype: float64\nelement\nmin    16.53\nmax    19.55\nName: 1036, dtype: float64\nelement\nmin    15.62\nmax    17.60\nName: 1037, dtype: float64\nelement\nmin    16.26\nmax    22.76\nName: 1038, dtype: float64\nelement\nmin    1.78\nmax    9.47\nName: 1039, dtype: float64\nelement\nmin    -1.14\nmax    13.10\nName: 1040, dtype: float64\nelement\nmin     6.95\nmax    19.61\nName: 1041, dtype: float64\nelement\nmin    -0.18\nmax    12.28\nName: 1042, dtype: float64\nelement\nmin    12.94\nmax    21.93\nName: 1043, dtype: float64\nelement\nmin    -0.78\nmax    11.69\nName: 1044, dtype: float64\nelement\nmin     5.55\nmax    12.35\nName: 1045, dtype: float64\nelement\nmin   -2.32\nmax    2.16\nName: 1046, dtype: float64\nelement\nmin    16.89\nmax    27.86\nName: 1047, dtype: float64\nelement\nmin   -1.65\nmax    3.92\nName: 1048, dtype: float64\nelement\nmin     9.73\nmax    11.27\nName: 1049, dtype: float64\nelement\nmin     2.31\nmax    14.33\nName: 1050, dtype: float64\nelement\nmin    16.57\nmax    17.79\nName: 1051, dtype: float64\nelement\nmin   -0.73\nmax    6.67\nName: 1052, dtype: float64\nelement\nmin   -4.15\nmax   -3.50\nName: 1053, dtype: float64\nelement\nmin   -2.09\nmax    9.36\nName: 1054, dtype: float64\nelement\nmin    13.46\nmax    18.25\nName: 1055, dtype: float64\nelement\nmin    11.91\nmax    22.58\nName: 1056, dtype: float64\nelement\nmin    0.23\nmax    5.23\nName: 1057, dtype: float64\nelement\nmin    3.26\nmax    5.92\nName: 1058, dtype: float64\nelement\nmin   -0.25\nmax    3.03\nName: 1059, dtype: float64\nelement\nmin   -2.75\nmax    8.48\nName: 1060, dtype: float64\nelement\nmin    2.60\nmax    7.31\nName: 1061, dtype: float64\nelement\nmin    17.11\nmax    26.64\nName: 1062, dtype: float64\nelement\nmin     0.64\nmax    10.41\nName: 1063, dtype: float64\nelement\nmin   -1.71\nmax    1.29\nName: 1064, dtype: float64\nelement\nmin    2.07\nmax    9.35\nName: 1065, dtype: float64\nelement\nmin     4.47\nmax    16.48\nName: 1066, dtype: float64\nelement\nmin    14.89\nmax    24.46\nName: 1067, dtype: float64\nelement\nmin    0.54\nmax    3.31\nName: 1068, dtype: float64\nelement\nmin   -3.98\nmax    2.67\nName: 1069, dtype: float64\nelement\nmin    16.28\nmax    21.47\nName: 1070, dtype: float64\nelement\nmin    14.79\nmax    22.66\nName: 1071, dtype: float64\nelement\nmin    14.63\nmax    25.95\nName: 1072, dtype: float64\nelement\nmin     5.5\nmax    13.8\nName: 1073, dtype: float64\nelement\nmin    14.20\nmax    28.28\nName: 1074, dtype: float64\nelement\nmin     6.55\nmax    17.49\nName: 1075, dtype: float64\nelement\nmin    13.75\nmax    24.15\nName: 1076, dtype: float64\nelement\nmin   -3.47\nmax    0.32\nName: 1077, dtype: float64\nelement\nmin   NaN\nmax   NaN\nName: 1078, dtype: float64\nelement\nmin     4.93\nmax    15.80\nName: 1079, dtype: float64\nelement\nmin    4.84\nmax    7.21\nName: 1080, dtype: float64\nelement\nmin    17.70\nmax    31.25\nName: 1081, dtype: float64\nelement\nmin    11.58\nmax    24.29\nName: 1082, dtype: float64\nelement\nmin    3.76\nmax    4.60\nName: 1083, dtype: float64\nelement\nmin    14.25\nmax    27.03\nName: 1084, dtype: float64\nelement\nmin    17.99\nmax    22.92\nName: 1085, dtype: float64\nelement\nmin    10.67\nmax    16.30\nName: 1086, dtype: float64\nelement\nmin    14.55\nmax    18.84\nName: 1087, dtype: float64\nelement\nmin    -2.49\nmax    11.76\nName: 1088, dtype: float64\nelement\nmin     4.79\nmax    13.45\nName: 1089, dtype: float64\nelement\nmin    12.38\nmax    26.81\nName: 1090, dtype: float64\nelement\nmin    15.06\nmax    28.25\nName: 1091, dtype: float64\nelement\nmin    -2.26\nmax    12.54\nName: 1092, dtype: float64\nelement\nmin    15.17\nmax    23.88\nName: 1093, dtype: float64\nelement\nmin    12.94\nmax    22.07\nName: 1094, dtype: float64\nelement\nmin    14.64\nmax    16.54\nName: 1095, dtype: float64\nelement\nmin    11.20\nmax    22.35\nName: 1096, dtype: float64\nelement\nmin   -3.04\nmax    2.36\nName: 1097, dtype: float64\nelement\nmin    18.47\nmax    26.52\nName: 1098, dtype: float64\nelement\nmin     1.26\nmax    10.28\nName: 1099, dtype: float64\nelement\nmin    7.60\nmax    7.99\nName: 1100, dtype: float64\nelement\nmin     6.33\nmax    17.12\nName: 1101, dtype: float64\nelement\nmin   -4.99\nmax    2.74\nName: 1102, dtype: float64\nelement\nmin    19.91\nmax    26.33\nName: 1103, dtype: float64\nelement\nmin    2.16\nmax    6.53\nName: 1104, dtype: float64\nelement\nmin    11.69\nmax    22.11\nName: 1105, dtype: float64\nelement\nmin    11.06\nmax    21.30\nName: 1106, dtype: float64\nelement\nmin    16.85\nmax    31.45\nName: 1107, dtype: float64\nelement\nmin    16.13\nmax    17.98\nName: 1108, dtype: float64\nelement\nmin   -0.21\nmax    1.87\nName: 1109, dtype: float64\nelement\nmin     8.49\nmax    23.08\nName: 1110, dtype: float64\nelement\nmin    15.03\nmax    20.79\nName: 1111, dtype: float64\nelement\nmin   -3.46\nmax    8.61\nName: 1112, dtype: float64\nelement\nmin    15.27\nmax    20.77\nName: 1113, dtype: float64\nelement\nmin     9.61\nmax    19.41\nName: 1114, dtype: float64\nelement\nmin   -2.19\nmax    4.66\nName: 1115, dtype: float64\n"
        },
        {
          "execution_count": 57,
          "output_type": "execute_result",
          "data": {
            "text/plain": "0       17.045\n1        9.340\n2        8.535\n3       13.135\n4        0.490\n         ...  \n1111    17.910\n1112     2.575\n1113    18.020\n1114    14.510\n1115     1.235\nLength: 1116, dtype: float64"
          },
          "metadata": {}
        }
      ],
      "execution_count": 57
    },
    {
      "id": "9e09ad84-5759-4bf6-b169-81e8c882bbab",
      "cell_type": "code",
      "source": "users = pd.DataFrame({'id':[1,2,3], 'name':['A','B','C']})\nusers",
      "metadata": {
        "trusted": true
      },
      "outputs": [
        {
          "execution_count": 59,
          "output_type": "execute_result",
          "data": {
            "text/plain": "   id name\n0   1    A\n1   2    B\n2   3    C",
            "text/html": "<div>\n<style scoped>\n    .dataframe tbody tr th:only-of-type {\n        vertical-align: middle;\n    }\n\n    .dataframe tbody tr th {\n        vertical-align: top;\n    }\n\n    .dataframe thead th {\n        text-align: right;\n    }\n</style>\n<table border=\"1\" class=\"dataframe\">\n  <thead>\n    <tr style=\"text-align: right;\">\n      <th></th>\n      <th>id</th>\n      <th>name</th>\n    </tr>\n  </thead>\n  <tbody>\n    <tr>\n      <th>0</th>\n      <td>1</td>\n      <td>A</td>\n    </tr>\n    <tr>\n      <th>1</th>\n      <td>2</td>\n      <td>B</td>\n    </tr>\n    <tr>\n      <th>2</th>\n      <td>3</td>\n      <td>C</td>\n    </tr>\n  </tbody>\n</table>\n</div>"
          },
          "metadata": {}
        }
      ],
      "execution_count": 59
    },
    {
      "id": "9d58bc1b-8713-4c64-bba7-7e5c19afc544",
      "cell_type": "code",
      "source": "msgs = pd.DataFrame({'userid':[1,1,2], 'msg':['hello','bye','hi']})\nmsgs",
      "metadata": {
        "trusted": true
      },
      "outputs": [
        {
          "execution_count": 60,
          "output_type": "execute_result",
          "data": {
            "text/plain": "   userid    msg\n0       1  hello\n1       1    bye\n2       2     hi",
            "text/html": "<div>\n<style scoped>\n    .dataframe tbody tr th:only-of-type {\n        vertical-align: middle;\n    }\n\n    .dataframe tbody tr th {\n        vertical-align: top;\n    }\n\n    .dataframe thead th {\n        text-align: right;\n    }\n</style>\n<table border=\"1\" class=\"dataframe\">\n  <thead>\n    <tr style=\"text-align: right;\">\n      <th></th>\n      <th>userid</th>\n      <th>msg</th>\n    </tr>\n  </thead>\n  <tbody>\n    <tr>\n      <th>0</th>\n      <td>1</td>\n      <td>hello</td>\n    </tr>\n    <tr>\n      <th>1</th>\n      <td>1</td>\n      <td>bye</td>\n    </tr>\n    <tr>\n      <th>2</th>\n      <td>2</td>\n      <td>hi</td>\n    </tr>\n  </tbody>\n</table>\n</div>"
          },
          "metadata": {}
        }
      ],
      "execution_count": 60
    },
    {
      "id": "7463b5ff-cfff-4276-b5e2-3dcda85ebc3b",
      "cell_type": "code",
      "source": "users.merge(msgs,left_on='id',right_on='userid')",
      "metadata": {
        "trusted": true
      },
      "outputs": [
        {
          "execution_count": 61,
          "output_type": "execute_result",
          "data": {
            "text/plain": "   id name  userid    msg\n0   1    A       1  hello\n1   1    A       1    bye\n2   2    B       2     hi",
            "text/html": "<div>\n<style scoped>\n    .dataframe tbody tr th:only-of-type {\n        vertical-align: middle;\n    }\n\n    .dataframe tbody tr th {\n        vertical-align: top;\n    }\n\n    .dataframe thead th {\n        text-align: right;\n    }\n</style>\n<table border=\"1\" class=\"dataframe\">\n  <thead>\n    <tr style=\"text-align: right;\">\n      <th></th>\n      <th>id</th>\n      <th>name</th>\n      <th>userid</th>\n      <th>msg</th>\n    </tr>\n  </thead>\n  <tbody>\n    <tr>\n      <th>0</th>\n      <td>1</td>\n      <td>A</td>\n      <td>1</td>\n      <td>hello</td>\n    </tr>\n    <tr>\n      <th>1</th>\n      <td>1</td>\n      <td>A</td>\n      <td>1</td>\n      <td>bye</td>\n    </tr>\n    <tr>\n      <th>2</th>\n      <td>2</td>\n      <td>B</td>\n      <td>2</td>\n      <td>hi</td>\n    </tr>\n  </tbody>\n</table>\n</div>"
          },
          "metadata": {}
        }
      ],
      "execution_count": 61
    },
    {
      "id": "bbdf9529-1565-4e01-8bb2-828f1db3425f",
      "cell_type": "code",
      "source": "import numpy as np\narr = np.random.randint(10,100,size=(6,4))\narr",
      "metadata": {
        "trusted": true
      },
      "outputs": [
        {
          "execution_count": 65,
          "output_type": "execute_result",
          "data": {
            "text/plain": "array([[16, 38, 41, 22],\n       [67, 98, 49, 25],\n       [15, 45, 25, 53],\n       [43, 27, 47, 94],\n       [12, 42, 85, 84],\n       [96, 23, 34, 77]])"
          },
          "metadata": {}
        }
      ],
      "execution_count": 65
    },
    {
      "id": "c75da126-2d6e-498c-a895-6b2c69c6aef3",
      "cell_type": "code",
      "source": "df = pd.DataFrame(data=arr)",
      "metadata": {
        "trusted": true
      },
      "outputs": [],
      "execution_count": 67
    },
    {
      "id": "7ccfe5a0-5353-4221-8f14-ffc55a1e7f8a",
      "cell_type": "code",
      "source": "df.columns",
      "metadata": {
        "trusted": true
      },
      "outputs": [
        {
          "execution_count": 70,
          "output_type": "execute_result",
          "data": {
            "text/plain": "RangeIndex(start=0, stop=4, step=1)"
          },
          "metadata": {}
        }
      ],
      "execution_count": 70
    },
    {
      "id": "f0da1412-fefe-4658-8a4a-04e604f55037",
      "cell_type": "code",
      "source": "df[4] = df[0]+df[1]\ndf[5] = df[0]-df[1]",
      "metadata": {
        "trusted": true
      },
      "outputs": [],
      "execution_count": 75
    },
    {
      "id": "8723adb3-d97f-4e3d-8835-e7ab94272ede",
      "cell_type": "code",
      "source": "df[6] = [1,2,3,4,5,6]",
      "metadata": {
        "trusted": true
      },
      "outputs": [],
      "execution_count": 77
    },
    {
      "id": "5e64f2aa-14f1-4838-90d6-b9950848b03c",
      "cell_type": "code",
      "source": "df",
      "metadata": {
        "trusted": true
      },
      "outputs": [
        {
          "execution_count": 78,
          "output_type": "execute_result",
          "data": {
            "text/plain": "    0   1   2   3    4   5  6\n0  16  38  41  22   54 -22  1\n1  67  98  49  25  165 -31  2\n2  15  45  25  53   60 -30  3\n3  43  27  47  94   70  16  4\n4  12  42  85  84   54 -30  5\n5  96  23  34  77  119  73  6",
            "text/html": "<div>\n<style scoped>\n    .dataframe tbody tr th:only-of-type {\n        vertical-align: middle;\n    }\n\n    .dataframe tbody tr th {\n        vertical-align: top;\n    }\n\n    .dataframe thead th {\n        text-align: right;\n    }\n</style>\n<table border=\"1\" class=\"dataframe\">\n  <thead>\n    <tr style=\"text-align: right;\">\n      <th></th>\n      <th>0</th>\n      <th>1</th>\n      <th>2</th>\n      <th>3</th>\n      <th>4</th>\n      <th>5</th>\n      <th>6</th>\n    </tr>\n  </thead>\n  <tbody>\n    <tr>\n      <th>0</th>\n      <td>16</td>\n      <td>38</td>\n      <td>41</td>\n      <td>22</td>\n      <td>54</td>\n      <td>-22</td>\n      <td>1</td>\n    </tr>\n    <tr>\n      <th>1</th>\n      <td>67</td>\n      <td>98</td>\n      <td>49</td>\n      <td>25</td>\n      <td>165</td>\n      <td>-31</td>\n      <td>2</td>\n    </tr>\n    <tr>\n      <th>2</th>\n      <td>15</td>\n      <td>45</td>\n      <td>25</td>\n      <td>53</td>\n      <td>60</td>\n      <td>-30</td>\n      <td>3</td>\n    </tr>\n    <tr>\n      <th>3</th>\n      <td>43</td>\n      <td>27</td>\n      <td>47</td>\n      <td>94</td>\n      <td>70</td>\n      <td>16</td>\n      <td>4</td>\n    </tr>\n    <tr>\n      <th>4</th>\n      <td>12</td>\n      <td>42</td>\n      <td>85</td>\n      <td>84</td>\n      <td>54</td>\n      <td>-30</td>\n      <td>5</td>\n    </tr>\n    <tr>\n      <th>5</th>\n      <td>96</td>\n      <td>23</td>\n      <td>34</td>\n      <td>77</td>\n      <td>119</td>\n      <td>73</td>\n      <td>6</td>\n    </tr>\n  </tbody>\n</table>\n</div>"
          },
          "metadata": {}
        }
      ],
      "execution_count": 78
    },
    {
      "id": "7208381f-160e-48e3-a793-f522b1913be6",
      "cell_type": "code",
      "source": "df.values",
      "metadata": {
        "trusted": true
      },
      "outputs": [
        {
          "execution_count": 80,
          "output_type": "execute_result",
          "data": {
            "text/plain": "array([[ 16,  38,  41,  22,  54, -22,   1],\n       [ 67,  98,  49,  25, 165, -31,   2],\n       [ 15,  45,  25,  53,  60, -30,   3],\n       [ 43,  27,  47,  94,  70,  16,   4],\n       [ 12,  42,  85,  84,  54, -30,   5],\n       [ 96,  23,  34,  77, 119,  73,   6]], dtype=int64)"
          },
          "metadata": {}
        }
      ],
      "execution_count": 80
    },
    {
      "id": "e3885412-e544-4fc1-9c45-7a9fa2cbe839",
      "cell_type": "code",
      "source": "data = pd.read_csv('data/Uber Drives.csv')",
      "metadata": {
        "trusted": true
      },
      "outputs": [],
      "execution_count": 81
    },
    {
      "id": "5011341f-3abc-4d4e-a318-c941e4833673",
      "cell_type": "code",
      "source": "data",
      "metadata": {
        "trusted": true
      },
      "outputs": [
        {
          "execution_count": 82,
          "output_type": "execute_result",
          "data": {
            "text/plain": "           START_DATE*         END_DATE* CATEGORY*            START*  \\\n0       1/1/2016 21:11    1/1/2016 21:17  Business       Fort Pierce   \n1        1/2/2016 1:25     1/2/2016 1:37  Business       Fort Pierce   \n2       1/2/2016 20:25    1/2/2016 20:38  Business       Fort Pierce   \n3       1/5/2016 17:31    1/5/2016 17:45  Business       Fort Pierce   \n4       1/6/2016 14:42    1/6/2016 15:49  Business       Fort Pierce   \n...                ...               ...       ...               ...   \n1151  12/31/2016 13:24  12/31/2016 13:42  Business           Kar?chi   \n1152  12/31/2016 15:03  12/31/2016 15:38  Business  Unknown Location   \n1153  12/31/2016 21:32  12/31/2016 21:50  Business        Katunayake   \n1154  12/31/2016 22:08  12/31/2016 23:51  Business           Gampaha   \n1155            Totals               NaN       NaN               NaN   \n\n                 STOP*   MILES*         PURPOSE*  \n0          Fort Pierce      5.1   Meal/Entertain  \n1          Fort Pierce      5.0              NaN  \n2          Fort Pierce      4.8  Errand/Supplies  \n3          Fort Pierce      4.7          Meeting  \n4      West Palm Beach     63.7   Customer Visit  \n...                ...      ...              ...  \n1151  Unknown Location      3.9   Temporary Site  \n1152  Unknown Location     16.2          Meeting  \n1153           Gampaha      6.4   Temporary Site  \n1154         Ilukwatta     48.2   Temporary Site  \n1155               NaN  12204.7              NaN  \n\n[1156 rows x 7 columns]",
            "text/html": "<div>\n<style scoped>\n    .dataframe tbody tr th:only-of-type {\n        vertical-align: middle;\n    }\n\n    .dataframe tbody tr th {\n        vertical-align: top;\n    }\n\n    .dataframe thead th {\n        text-align: right;\n    }\n</style>\n<table border=\"1\" class=\"dataframe\">\n  <thead>\n    <tr style=\"text-align: right;\">\n      <th></th>\n      <th>START_DATE*</th>\n      <th>END_DATE*</th>\n      <th>CATEGORY*</th>\n      <th>START*</th>\n      <th>STOP*</th>\n      <th>MILES*</th>\n      <th>PURPOSE*</th>\n    </tr>\n  </thead>\n  <tbody>\n    <tr>\n      <th>0</th>\n      <td>1/1/2016 21:11</td>\n      <td>1/1/2016 21:17</td>\n      <td>Business</td>\n      <td>Fort Pierce</td>\n      <td>Fort Pierce</td>\n      <td>5.1</td>\n      <td>Meal/Entertain</td>\n    </tr>\n    <tr>\n      <th>1</th>\n      <td>1/2/2016 1:25</td>\n      <td>1/2/2016 1:37</td>\n      <td>Business</td>\n      <td>Fort Pierce</td>\n      <td>Fort Pierce</td>\n      <td>5.0</td>\n      <td>NaN</td>\n    </tr>\n    <tr>\n      <th>2</th>\n      <td>1/2/2016 20:25</td>\n      <td>1/2/2016 20:38</td>\n      <td>Business</td>\n      <td>Fort Pierce</td>\n      <td>Fort Pierce</td>\n      <td>4.8</td>\n      <td>Errand/Supplies</td>\n    </tr>\n    <tr>\n      <th>3</th>\n      <td>1/5/2016 17:31</td>\n      <td>1/5/2016 17:45</td>\n      <td>Business</td>\n      <td>Fort Pierce</td>\n      <td>Fort Pierce</td>\n      <td>4.7</td>\n      <td>Meeting</td>\n    </tr>\n    <tr>\n      <th>4</th>\n      <td>1/6/2016 14:42</td>\n      <td>1/6/2016 15:49</td>\n      <td>Business</td>\n      <td>Fort Pierce</td>\n      <td>West Palm Beach</td>\n      <td>63.7</td>\n      <td>Customer Visit</td>\n    </tr>\n    <tr>\n      <th>...</th>\n      <td>...</td>\n      <td>...</td>\n      <td>...</td>\n      <td>...</td>\n      <td>...</td>\n      <td>...</td>\n      <td>...</td>\n    </tr>\n    <tr>\n      <th>1151</th>\n      <td>12/31/2016 13:24</td>\n      <td>12/31/2016 13:42</td>\n      <td>Business</td>\n      <td>Kar?chi</td>\n      <td>Unknown Location</td>\n      <td>3.9</td>\n      <td>Temporary Site</td>\n    </tr>\n    <tr>\n      <th>1152</th>\n      <td>12/31/2016 15:03</td>\n      <td>12/31/2016 15:38</td>\n      <td>Business</td>\n      <td>Unknown Location</td>\n      <td>Unknown Location</td>\n      <td>16.2</td>\n      <td>Meeting</td>\n    </tr>\n    <tr>\n      <th>1153</th>\n      <td>12/31/2016 21:32</td>\n      <td>12/31/2016 21:50</td>\n      <td>Business</td>\n      <td>Katunayake</td>\n      <td>Gampaha</td>\n      <td>6.4</td>\n      <td>Temporary Site</td>\n    </tr>\n    <tr>\n      <th>1154</th>\n      <td>12/31/2016 22:08</td>\n      <td>12/31/2016 23:51</td>\n      <td>Business</td>\n      <td>Gampaha</td>\n      <td>Ilukwatta</td>\n      <td>48.2</td>\n      <td>Temporary Site</td>\n    </tr>\n    <tr>\n      <th>1155</th>\n      <td>Totals</td>\n      <td>NaN</td>\n      <td>NaN</td>\n      <td>NaN</td>\n      <td>NaN</td>\n      <td>12204.7</td>\n      <td>NaN</td>\n    </tr>\n  </tbody>\n</table>\n<p>1156 rows × 7 columns</p>\n</div>"
          },
          "metadata": {}
        }
      ],
      "execution_count": 82
    },
    {
      "id": "578e53e6-a4cf-4fa7-84de-ddd6e31551cb",
      "cell_type": "code",
      "source": " type(data)",
      "metadata": {
        "trusted": true
      },
      "outputs": [
        {
          "execution_count": 83,
          "output_type": "execute_result",
          "data": {
            "text/plain": "pandas.core.frame.DataFrame"
          },
          "metadata": {}
        }
      ],
      "execution_count": 83
    },
    {
      "id": "c9aa21f7-6788-4b03-b55b-a6b97634618f",
      "cell_type": "code",
      "source": "data.shape",
      "metadata": {
        "trusted": true
      },
      "outputs": [
        {
          "execution_count": 84,
          "output_type": "execute_result",
          "data": {
            "text/plain": "(1156, 7)"
          },
          "metadata": {}
        }
      ],
      "execution_count": 84
    },
    {
      "id": "a0d29a5f-a3ae-412f-b94b-121bb42bcdbb",
      "cell_type": "code",
      "source": "data.columns",
      "metadata": {
        "trusted": true
      },
      "outputs": [
        {
          "execution_count": 86,
          "output_type": "execute_result",
          "data": {
            "text/plain": "Index(['START_DATE*', 'END_DATE*', 'CATEGORY*', 'START*', 'STOP*', 'MILES*',\n       'PURPOSE*'],\n      dtype='object')"
          },
          "metadata": {}
        }
      ],
      "execution_count": 86
    },
    {
      "id": "13b1be66-1382-404f-a65f-37e847da446c",
      "cell_type": "code",
      "source": "data.head()",
      "metadata": {
        "trusted": true
      },
      "outputs": [
        {
          "execution_count": 87,
          "output_type": "execute_result",
          "data": {
            "text/plain": "      START_DATE*       END_DATE* CATEGORY*       START*            STOP*  \\\n0  1/1/2016 21:11  1/1/2016 21:17  Business  Fort Pierce      Fort Pierce   \n1   1/2/2016 1:25   1/2/2016 1:37  Business  Fort Pierce      Fort Pierce   \n2  1/2/2016 20:25  1/2/2016 20:38  Business  Fort Pierce      Fort Pierce   \n3  1/5/2016 17:31  1/5/2016 17:45  Business  Fort Pierce      Fort Pierce   \n4  1/6/2016 14:42  1/6/2016 15:49  Business  Fort Pierce  West Palm Beach   \n\n   MILES*         PURPOSE*  \n0     5.1   Meal/Entertain  \n1     5.0              NaN  \n2     4.8  Errand/Supplies  \n3     4.7          Meeting  \n4    63.7   Customer Visit  ",
            "text/html": "<div>\n<style scoped>\n    .dataframe tbody tr th:only-of-type {\n        vertical-align: middle;\n    }\n\n    .dataframe tbody tr th {\n        vertical-align: top;\n    }\n\n    .dataframe thead th {\n        text-align: right;\n    }\n</style>\n<table border=\"1\" class=\"dataframe\">\n  <thead>\n    <tr style=\"text-align: right;\">\n      <th></th>\n      <th>START_DATE*</th>\n      <th>END_DATE*</th>\n      <th>CATEGORY*</th>\n      <th>START*</th>\n      <th>STOP*</th>\n      <th>MILES*</th>\n      <th>PURPOSE*</th>\n    </tr>\n  </thead>\n  <tbody>\n    <tr>\n      <th>0</th>\n      <td>1/1/2016 21:11</td>\n      <td>1/1/2016 21:17</td>\n      <td>Business</td>\n      <td>Fort Pierce</td>\n      <td>Fort Pierce</td>\n      <td>5.1</td>\n      <td>Meal/Entertain</td>\n    </tr>\n    <tr>\n      <th>1</th>\n      <td>1/2/2016 1:25</td>\n      <td>1/2/2016 1:37</td>\n      <td>Business</td>\n      <td>Fort Pierce</td>\n      <td>Fort Pierce</td>\n      <td>5.0</td>\n      <td>NaN</td>\n    </tr>\n    <tr>\n      <th>2</th>\n      <td>1/2/2016 20:25</td>\n      <td>1/2/2016 20:38</td>\n      <td>Business</td>\n      <td>Fort Pierce</td>\n      <td>Fort Pierce</td>\n      <td>4.8</td>\n      <td>Errand/Supplies</td>\n    </tr>\n    <tr>\n      <th>3</th>\n      <td>1/5/2016 17:31</td>\n      <td>1/5/2016 17:45</td>\n      <td>Business</td>\n      <td>Fort Pierce</td>\n      <td>Fort Pierce</td>\n      <td>4.7</td>\n      <td>Meeting</td>\n    </tr>\n    <tr>\n      <th>4</th>\n      <td>1/6/2016 14:42</td>\n      <td>1/6/2016 15:49</td>\n      <td>Business</td>\n      <td>Fort Pierce</td>\n      <td>West Palm Beach</td>\n      <td>63.7</td>\n      <td>Customer Visit</td>\n    </tr>\n  </tbody>\n</table>\n</div>"
          },
          "metadata": {}
        }
      ],
      "execution_count": 87
    },
    {
      "id": "b33cf7ad-56a3-4982-8348-731aa1e93585",
      "cell_type": "code",
      "source": "data.tail()",
      "metadata": {
        "trusted": true
      },
      "outputs": [
        {
          "execution_count": 88,
          "output_type": "execute_result",
          "data": {
            "text/plain": "           START_DATE*         END_DATE* CATEGORY*            START*  \\\n1151  12/31/2016 13:24  12/31/2016 13:42  Business           Kar?chi   \n1152  12/31/2016 15:03  12/31/2016 15:38  Business  Unknown Location   \n1153  12/31/2016 21:32  12/31/2016 21:50  Business        Katunayake   \n1154  12/31/2016 22:08  12/31/2016 23:51  Business           Gampaha   \n1155            Totals               NaN       NaN               NaN   \n\n                 STOP*   MILES*        PURPOSE*  \n1151  Unknown Location      3.9  Temporary Site  \n1152  Unknown Location     16.2         Meeting  \n1153           Gampaha      6.4  Temporary Site  \n1154         Ilukwatta     48.2  Temporary Site  \n1155               NaN  12204.7             NaN  ",
            "text/html": "<div>\n<style scoped>\n    .dataframe tbody tr th:only-of-type {\n        vertical-align: middle;\n    }\n\n    .dataframe tbody tr th {\n        vertical-align: top;\n    }\n\n    .dataframe thead th {\n        text-align: right;\n    }\n</style>\n<table border=\"1\" class=\"dataframe\">\n  <thead>\n    <tr style=\"text-align: right;\">\n      <th></th>\n      <th>START_DATE*</th>\n      <th>END_DATE*</th>\n      <th>CATEGORY*</th>\n      <th>START*</th>\n      <th>STOP*</th>\n      <th>MILES*</th>\n      <th>PURPOSE*</th>\n    </tr>\n  </thead>\n  <tbody>\n    <tr>\n      <th>1151</th>\n      <td>12/31/2016 13:24</td>\n      <td>12/31/2016 13:42</td>\n      <td>Business</td>\n      <td>Kar?chi</td>\n      <td>Unknown Location</td>\n      <td>3.9</td>\n      <td>Temporary Site</td>\n    </tr>\n    <tr>\n      <th>1152</th>\n      <td>12/31/2016 15:03</td>\n      <td>12/31/2016 15:38</td>\n      <td>Business</td>\n      <td>Unknown Location</td>\n      <td>Unknown Location</td>\n      <td>16.2</td>\n      <td>Meeting</td>\n    </tr>\n    <tr>\n      <th>1153</th>\n      <td>12/31/2016 21:32</td>\n      <td>12/31/2016 21:50</td>\n      <td>Business</td>\n      <td>Katunayake</td>\n      <td>Gampaha</td>\n      <td>6.4</td>\n      <td>Temporary Site</td>\n    </tr>\n    <tr>\n      <th>1154</th>\n      <td>12/31/2016 22:08</td>\n      <td>12/31/2016 23:51</td>\n      <td>Business</td>\n      <td>Gampaha</td>\n      <td>Ilukwatta</td>\n      <td>48.2</td>\n      <td>Temporary Site</td>\n    </tr>\n    <tr>\n      <th>1155</th>\n      <td>Totals</td>\n      <td>NaN</td>\n      <td>NaN</td>\n      <td>NaN</td>\n      <td>NaN</td>\n      <td>12204.7</td>\n      <td>NaN</td>\n    </tr>\n  </tbody>\n</table>\n</div>"
          },
          "metadata": {}
        }
      ],
      "execution_count": 88
    },
    {
      "id": "17014a9d-057d-4c71-abb5-26b5e9587d26",
      "cell_type": "code",
      "source": "data.drop(1155,inplace=True)",
      "metadata": {
        "trusted": true
      },
      "outputs": [],
      "execution_count": 89
    },
    {
      "id": "b742c015-de40-446c-9a27-cbc6a2147f50",
      "cell_type": "code",
      "source": "data.tail()",
      "metadata": {
        "trusted": true
      },
      "outputs": [
        {
          "execution_count": 91,
          "output_type": "execute_result",
          "data": {
            "text/plain": "           START_DATE*         END_DATE* CATEGORY*            START*  \\\n1150   12/31/2016 1:07   12/31/2016 1:14  Business           Kar?chi   \n1151  12/31/2016 13:24  12/31/2016 13:42  Business           Kar?chi   \n1152  12/31/2016 15:03  12/31/2016 15:38  Business  Unknown Location   \n1153  12/31/2016 21:32  12/31/2016 21:50  Business        Katunayake   \n1154  12/31/2016 22:08  12/31/2016 23:51  Business           Gampaha   \n\n                 STOP*  MILES*        PURPOSE*  \n1150           Kar?chi     0.7         Meeting  \n1151  Unknown Location     3.9  Temporary Site  \n1152  Unknown Location    16.2         Meeting  \n1153           Gampaha     6.4  Temporary Site  \n1154         Ilukwatta    48.2  Temporary Site  ",
            "text/html": "<div>\n<style scoped>\n    .dataframe tbody tr th:only-of-type {\n        vertical-align: middle;\n    }\n\n    .dataframe tbody tr th {\n        vertical-align: top;\n    }\n\n    .dataframe thead th {\n        text-align: right;\n    }\n</style>\n<table border=\"1\" class=\"dataframe\">\n  <thead>\n    <tr style=\"text-align: right;\">\n      <th></th>\n      <th>START_DATE*</th>\n      <th>END_DATE*</th>\n      <th>CATEGORY*</th>\n      <th>START*</th>\n      <th>STOP*</th>\n      <th>MILES*</th>\n      <th>PURPOSE*</th>\n    </tr>\n  </thead>\n  <tbody>\n    <tr>\n      <th>1150</th>\n      <td>12/31/2016 1:07</td>\n      <td>12/31/2016 1:14</td>\n      <td>Business</td>\n      <td>Kar?chi</td>\n      <td>Kar?chi</td>\n      <td>0.7</td>\n      <td>Meeting</td>\n    </tr>\n    <tr>\n      <th>1151</th>\n      <td>12/31/2016 13:24</td>\n      <td>12/31/2016 13:42</td>\n      <td>Business</td>\n      <td>Kar?chi</td>\n      <td>Unknown Location</td>\n      <td>3.9</td>\n      <td>Temporary Site</td>\n    </tr>\n    <tr>\n      <th>1152</th>\n      <td>12/31/2016 15:03</td>\n      <td>12/31/2016 15:38</td>\n      <td>Business</td>\n      <td>Unknown Location</td>\n      <td>Unknown Location</td>\n      <td>16.2</td>\n      <td>Meeting</td>\n    </tr>\n    <tr>\n      <th>1153</th>\n      <td>12/31/2016 21:32</td>\n      <td>12/31/2016 21:50</td>\n      <td>Business</td>\n      <td>Katunayake</td>\n      <td>Gampaha</td>\n      <td>6.4</td>\n      <td>Temporary Site</td>\n    </tr>\n    <tr>\n      <th>1154</th>\n      <td>12/31/2016 22:08</td>\n      <td>12/31/2016 23:51</td>\n      <td>Business</td>\n      <td>Gampaha</td>\n      <td>Ilukwatta</td>\n      <td>48.2</td>\n      <td>Temporary Site</td>\n    </tr>\n  </tbody>\n</table>\n</div>"
          },
          "metadata": {}
        }
      ],
      "execution_count": 91
    },
    {
      "id": "d9902b28-6387-49f1-b235-6ab2f570122d",
      "cell_type": "code",
      "source": "data.dtypes",
      "metadata": {
        "trusted": true
      },
      "outputs": [
        {
          "execution_count": 92,
          "output_type": "execute_result",
          "data": {
            "text/plain": "START_DATE*     object\nEND_DATE*       object\nCATEGORY*       object\nSTART*          object\nSTOP*           object\nMILES*         float64\nPURPOSE*        object\ndtype: object"
          },
          "metadata": {}
        }
      ],
      "execution_count": 92
    },
    {
      "id": "a1f4775e-74e4-4034-aad0-7e8627d22bfa",
      "cell_type": "code",
      "source": "data.info()",
      "metadata": {
        "trusted": true
      },
      "outputs": [
        {
          "name": "stdout",
          "output_type": "stream",
          "text": "<class 'pandas.core.frame.DataFrame'>\nRangeIndex: 1155 entries, 0 to 1154\nData columns (total 7 columns):\n #   Column       Non-Null Count  Dtype  \n---  ------       --------------  -----  \n 0   START_DATE*  1155 non-null   object \n 1   END_DATE*    1155 non-null   object \n 2   CATEGORY*    1155 non-null   object \n 3   START*       1155 non-null   object \n 4   STOP*        1155 non-null   object \n 5   MILES*       1155 non-null   float64\n 6   PURPOSE*     653 non-null    object \ndtypes: float64(1), object(6)\nmemory usage: 36.2+ KB\n"
        }
      ],
      "execution_count": 93
    },
    {
      "id": "53023ab0-57b0-4a2f-b321-491775936bba",
      "cell_type": "code",
      "source": "#data.columns = ['START_DATE', 'END_DATE', 'CATEGORY', 'START', 'STOP', 'MILES','PURPOSE']\n\n",
      "metadata": {
        "trusted": true
      },
      "outputs": [
        {
          "execution_count": 94,
          "output_type": "execute_result",
          "data": {
            "text/plain": "Index(['START_DATE*', 'END_DATE*', 'CATEGORY*', 'START*', 'STOP*', 'MILES*',\n       'PURPOSE*'],\n      dtype='object')"
          },
          "metadata": {}
        }
      ],
      "execution_count": 94
    },
    {
      "id": "c232c2ac-24e5-4f75-8cc3-3dacf58dfc50",
      "cell_type": "code",
      "source": "data.columns = list(map(lambda x: x[:-1],data.columns))",
      "metadata": {
        "trusted": true
      },
      "outputs": [],
      "execution_count": 95
    },
    {
      "id": "8e524d0b-1eb3-4518-bdd0-5ff2a582fa71",
      "cell_type": "code",
      "source": "data.head()",
      "metadata": {
        "trusted": true
      },
      "outputs": [
        {
          "execution_count": 96,
          "output_type": "execute_result",
          "data": {
            "text/plain": "       START_DATE        END_DATE  CATEGORY        START             STOP  \\\n0  1/1/2016 21:11  1/1/2016 21:17  Business  Fort Pierce      Fort Pierce   \n1   1/2/2016 1:25   1/2/2016 1:37  Business  Fort Pierce      Fort Pierce   \n2  1/2/2016 20:25  1/2/2016 20:38  Business  Fort Pierce      Fort Pierce   \n3  1/5/2016 17:31  1/5/2016 17:45  Business  Fort Pierce      Fort Pierce   \n4  1/6/2016 14:42  1/6/2016 15:49  Business  Fort Pierce  West Palm Beach   \n\n   MILES          PURPOSE  \n0    5.1   Meal/Entertain  \n1    5.0              NaN  \n2    4.8  Errand/Supplies  \n3    4.7          Meeting  \n4   63.7   Customer Visit  ",
            "text/html": "<div>\n<style scoped>\n    .dataframe tbody tr th:only-of-type {\n        vertical-align: middle;\n    }\n\n    .dataframe tbody tr th {\n        vertical-align: top;\n    }\n\n    .dataframe thead th {\n        text-align: right;\n    }\n</style>\n<table border=\"1\" class=\"dataframe\">\n  <thead>\n    <tr style=\"text-align: right;\">\n      <th></th>\n      <th>START_DATE</th>\n      <th>END_DATE</th>\n      <th>CATEGORY</th>\n      <th>START</th>\n      <th>STOP</th>\n      <th>MILES</th>\n      <th>PURPOSE</th>\n    </tr>\n  </thead>\n  <tbody>\n    <tr>\n      <th>0</th>\n      <td>1/1/2016 21:11</td>\n      <td>1/1/2016 21:17</td>\n      <td>Business</td>\n      <td>Fort Pierce</td>\n      <td>Fort Pierce</td>\n      <td>5.1</td>\n      <td>Meal/Entertain</td>\n    </tr>\n    <tr>\n      <th>1</th>\n      <td>1/2/2016 1:25</td>\n      <td>1/2/2016 1:37</td>\n      <td>Business</td>\n      <td>Fort Pierce</td>\n      <td>Fort Pierce</td>\n      <td>5.0</td>\n      <td>NaN</td>\n    </tr>\n    <tr>\n      <th>2</th>\n      <td>1/2/2016 20:25</td>\n      <td>1/2/2016 20:38</td>\n      <td>Business</td>\n      <td>Fort Pierce</td>\n      <td>Fort Pierce</td>\n      <td>4.8</td>\n      <td>Errand/Supplies</td>\n    </tr>\n    <tr>\n      <th>3</th>\n      <td>1/5/2016 17:31</td>\n      <td>1/5/2016 17:45</td>\n      <td>Business</td>\n      <td>Fort Pierce</td>\n      <td>Fort Pierce</td>\n      <td>4.7</td>\n      <td>Meeting</td>\n    </tr>\n    <tr>\n      <th>4</th>\n      <td>1/6/2016 14:42</td>\n      <td>1/6/2016 15:49</td>\n      <td>Business</td>\n      <td>Fort Pierce</td>\n      <td>West Palm Beach</td>\n      <td>63.7</td>\n      <td>Customer Visit</td>\n    </tr>\n  </tbody>\n</table>\n</div>"
          },
          "metadata": {}
        }
      ],
      "execution_count": 96
    },
    {
      "id": "73a2f24c-d819-43da-b33c-cbc9b6e7c775",
      "cell_type": "code",
      "source": "data['START_DATE'] = pd.to_datetime(data['START_DATE'])\ndata['END_DATE'] = pd.to_datetime(data['END_DATE'])",
      "metadata": {
        "trusted": true
      },
      "outputs": [],
      "execution_count": 103
    },
    {
      "id": "ac9588f9-3f44-447d-be78-e45b5186af0d",
      "cell_type": "code",
      "source": "data.info()",
      "metadata": {
        "trusted": true
      },
      "outputs": [
        {
          "name": "stdout",
          "output_type": "stream",
          "text": "<class 'pandas.core.frame.DataFrame'>\nRangeIndex: 1155 entries, 0 to 1154\nData columns (total 7 columns):\n #   Column      Non-Null Count  Dtype         \n---  ------      --------------  -----         \n 0   START_DATE  1155 non-null   datetime64[ns]\n 1   END_DATE    1155 non-null   datetime64[ns]\n 2   CATEGORY    1155 non-null   object        \n 3   START       1155 non-null   object        \n 4   STOP        1155 non-null   object        \n 5   MILES       1155 non-null   float64       \n 6   PURPOSE     653 non-null    object        \ndtypes: datetime64[ns](2), float64(1), object(4)\nmemory usage: 45.2+ KB\n"
        }
      ],
      "execution_count": 104
    },
    {
      "id": "32ef021d-f795-4437-8984-fad7265effc7",
      "cell_type": "code",
      "source": "ts=data['END_DATE'][0]\nts",
      "metadata": {
        "trusted": true
      },
      "outputs": [
        {
          "execution_count": 106,
          "output_type": "execute_result",
          "data": {
            "text/plain": "Timestamp('2016-01-01 21:17:00')"
          },
          "metadata": {}
        }
      ],
      "execution_count": 106
    },
    {
      "id": "7d2bc90e-8ded-45df-849e-20bede05daa2",
      "cell_type": "code",
      "source": "ts.year",
      "metadata": {
        "trusted": true
      },
      "outputs": [
        {
          "execution_count": 107,
          "output_type": "execute_result",
          "data": {
            "text/plain": "2016"
          },
          "metadata": {}
        }
      ],
      "execution_count": 107
    },
    {
      "id": "32e5aba6-bee7-4bf8-9a2b-16d7ab86e420",
      "cell_type": "code",
      "source": "ts.month",
      "metadata": {
        "trusted": true
      },
      "outputs": [
        {
          "execution_count": 108,
          "output_type": "execute_result",
          "data": {
            "text/plain": "1"
          },
          "metadata": {}
        }
      ],
      "execution_count": 108
    },
    {
      "id": "d041bbf4-6b2f-459c-960a-e38b55cfb311",
      "cell_type": "code",
      "source": "ts.month_name()",
      "metadata": {
        "trusted": true
      },
      "outputs": [
        {
          "execution_count": 109,
          "output_type": "execute_result",
          "data": {
            "text/plain": "'January'"
          },
          "metadata": {}
        }
      ],
      "execution_count": 109
    },
    {
      "id": "a40cd0ec-9637-4655-90f8-54e8ed6654f9",
      "cell_type": "code",
      "source": "ts.day",
      "metadata": {
        "trusted": true
      },
      "outputs": [
        {
          "execution_count": 110,
          "output_type": "execute_result",
          "data": {
            "text/plain": "1"
          },
          "metadata": {}
        }
      ],
      "execution_count": 110
    },
    {
      "id": "a3413049-5bb2-4572-8575-b333c7ebfeb0",
      "cell_type": "code",
      "source": "ts.day_name()",
      "metadata": {
        "trusted": true
      },
      "outputs": [
        {
          "execution_count": 111,
          "output_type": "execute_result",
          "data": {
            "text/plain": "'Friday'"
          },
          "metadata": {}
        }
      ],
      "execution_count": 111
    },
    {
      "id": "42ac0587-0c24-445d-b891-e62140672f89",
      "cell_type": "code",
      "source": "ts.dayofweek",
      "metadata": {
        "trusted": true
      },
      "outputs": [
        {
          "execution_count": 112,
          "output_type": "execute_result",
          "data": {
            "text/plain": "4"
          },
          "metadata": {}
        }
      ],
      "execution_count": 112
    },
    {
      "id": "b65d2813-456d-47cb-84a8-2536c29ff14e",
      "cell_type": "code",
      "source": "ts.hour",
      "metadata": {
        "trusted": true
      },
      "outputs": [
        {
          "execution_count": 113,
          "output_type": "execute_result",
          "data": {
            "text/plain": "21"
          },
          "metadata": {}
        }
      ],
      "execution_count": 113
    },
    {
      "id": "10d14bf2-c379-40e5-897a-8f1b0cb63981",
      "cell_type": "code",
      "source": "data['year'] = data['END_DATE'].dt.year",
      "metadata": {
        "trusted": true
      },
      "outputs": [],
      "execution_count": 114
    },
    {
      "id": "284347f8-e74f-4c37-b8d4-ecc38b250281",
      "cell_type": "code",
      "source": "data.head()",
      "metadata": {
        "trusted": true
      },
      "outputs": [
        {
          "execution_count": 115,
          "output_type": "execute_result",
          "data": {
            "text/plain": "           START_DATE            END_DATE  CATEGORY        START  \\\n0 2016-01-01 21:11:00 2016-01-01 21:17:00  Business  Fort Pierce   \n1 2016-01-02 01:25:00 2016-01-02 01:37:00  Business  Fort Pierce   \n2 2016-01-02 20:25:00 2016-01-02 20:38:00  Business  Fort Pierce   \n3 2016-01-05 17:31:00 2016-01-05 17:45:00  Business  Fort Pierce   \n4 2016-01-06 14:42:00 2016-01-06 15:49:00  Business  Fort Pierce   \n\n              STOP  MILES          PURPOSE  year  \n0      Fort Pierce    5.1   Meal/Entertain  2016  \n1      Fort Pierce    5.0              NaN  2016  \n2      Fort Pierce    4.8  Errand/Supplies  2016  \n3      Fort Pierce    4.7          Meeting  2016  \n4  West Palm Beach   63.7   Customer Visit  2016  ",
            "text/html": "<div>\n<style scoped>\n    .dataframe tbody tr th:only-of-type {\n        vertical-align: middle;\n    }\n\n    .dataframe tbody tr th {\n        vertical-align: top;\n    }\n\n    .dataframe thead th {\n        text-align: right;\n    }\n</style>\n<table border=\"1\" class=\"dataframe\">\n  <thead>\n    <tr style=\"text-align: right;\">\n      <th></th>\n      <th>START_DATE</th>\n      <th>END_DATE</th>\n      <th>CATEGORY</th>\n      <th>START</th>\n      <th>STOP</th>\n      <th>MILES</th>\n      <th>PURPOSE</th>\n      <th>year</th>\n    </tr>\n  </thead>\n  <tbody>\n    <tr>\n      <th>0</th>\n      <td>2016-01-01 21:11:00</td>\n      <td>2016-01-01 21:17:00</td>\n      <td>Business</td>\n      <td>Fort Pierce</td>\n      <td>Fort Pierce</td>\n      <td>5.1</td>\n      <td>Meal/Entertain</td>\n      <td>2016</td>\n    </tr>\n    <tr>\n      <th>1</th>\n      <td>2016-01-02 01:25:00</td>\n      <td>2016-01-02 01:37:00</td>\n      <td>Business</td>\n      <td>Fort Pierce</td>\n      <td>Fort Pierce</td>\n      <td>5.0</td>\n      <td>NaN</td>\n      <td>2016</td>\n    </tr>\n    <tr>\n      <th>2</th>\n      <td>2016-01-02 20:25:00</td>\n      <td>2016-01-02 20:38:00</td>\n      <td>Business</td>\n      <td>Fort Pierce</td>\n      <td>Fort Pierce</td>\n      <td>4.8</td>\n      <td>Errand/Supplies</td>\n      <td>2016</td>\n    </tr>\n    <tr>\n      <th>3</th>\n      <td>2016-01-05 17:31:00</td>\n      <td>2016-01-05 17:45:00</td>\n      <td>Business</td>\n      <td>Fort Pierce</td>\n      <td>Fort Pierce</td>\n      <td>4.7</td>\n      <td>Meeting</td>\n      <td>2016</td>\n    </tr>\n    <tr>\n      <th>4</th>\n      <td>2016-01-06 14:42:00</td>\n      <td>2016-01-06 15:49:00</td>\n      <td>Business</td>\n      <td>Fort Pierce</td>\n      <td>West Palm Beach</td>\n      <td>63.7</td>\n      <td>Customer Visit</td>\n      <td>2016</td>\n    </tr>\n  </tbody>\n</table>\n</div>"
          },
          "metadata": {}
        }
      ],
      "execution_count": 115
    },
    {
      "id": "87a3b967-79dd-4e9b-8d5a-673d2e50e6dd",
      "cell_type": "code",
      "source": "data.MILES.sum()",
      "metadata": {
        "trusted": true
      },
      "outputs": [
        {
          "execution_count": 117,
          "output_type": "execute_result",
          "data": {
            "text/plain": "np.float64(12204.7)"
          },
          "metadata": {}
        }
      ],
      "execution_count": 117
    },
    {
      "id": "ef0cbe33-c996-44ee-bddc-a0aade87d887",
      "cell_type": "code",
      "source": "data['month'] = data['END_DATE'].dt.month",
      "metadata": {
        "trusted": true
      },
      "outputs": [],
      "execution_count": 118
    },
    {
      "id": "5e8b079a-b4dd-4bb9-b59d-0c32561dd916",
      "cell_type": "code",
      "source": "data.head()",
      "metadata": {
        "trusted": true
      },
      "outputs": [
        {
          "execution_count": 127,
          "output_type": "execute_result",
          "data": {
            "text/plain": "           START_DATE            END_DATE  CATEGORY        START  \\\n0 2016-01-01 21:11:00 2016-01-01 21:17:00  Business  Fort Pierce   \n1 2016-01-02 01:25:00 2016-01-02 01:37:00  Business  Fort Pierce   \n2 2016-01-02 20:25:00 2016-01-02 20:38:00  Business  Fort Pierce   \n3 2016-01-05 17:31:00 2016-01-05 17:45:00  Business  Fort Pierce   \n4 2016-01-06 14:42:00 2016-01-06 15:49:00  Business  Fort Pierce   \n\n              STOP  MILES          PURPOSE  year  month  \n0      Fort Pierce    5.1   Meal/Entertain  2016      1  \n1      Fort Pierce    5.0              NaN  2016      1  \n2      Fort Pierce    4.8  Errand/Supplies  2016      1  \n3      Fort Pierce    4.7          Meeting  2016      1  \n4  West Palm Beach   63.7   Customer Visit  2016      1  ",
            "text/html": "<div>\n<style scoped>\n    .dataframe tbody tr th:only-of-type {\n        vertical-align: middle;\n    }\n\n    .dataframe tbody tr th {\n        vertical-align: top;\n    }\n\n    .dataframe thead th {\n        text-align: right;\n    }\n</style>\n<table border=\"1\" class=\"dataframe\">\n  <thead>\n    <tr style=\"text-align: right;\">\n      <th></th>\n      <th>START_DATE</th>\n      <th>END_DATE</th>\n      <th>CATEGORY</th>\n      <th>START</th>\n      <th>STOP</th>\n      <th>MILES</th>\n      <th>PURPOSE</th>\n      <th>year</th>\n      <th>month</th>\n    </tr>\n  </thead>\n  <tbody>\n    <tr>\n      <th>0</th>\n      <td>2016-01-01 21:11:00</td>\n      <td>2016-01-01 21:17:00</td>\n      <td>Business</td>\n      <td>Fort Pierce</td>\n      <td>Fort Pierce</td>\n      <td>5.1</td>\n      <td>Meal/Entertain</td>\n      <td>2016</td>\n      <td>1</td>\n    </tr>\n    <tr>\n      <th>1</th>\n      <td>2016-01-02 01:25:00</td>\n      <td>2016-01-02 01:37:00</td>\n      <td>Business</td>\n      <td>Fort Pierce</td>\n      <td>Fort Pierce</td>\n      <td>5.0</td>\n      <td>NaN</td>\n      <td>2016</td>\n      <td>1</td>\n    </tr>\n    <tr>\n      <th>2</th>\n      <td>2016-01-02 20:25:00</td>\n      <td>2016-01-02 20:38:00</td>\n      <td>Business</td>\n      <td>Fort Pierce</td>\n      <td>Fort Pierce</td>\n      <td>4.8</td>\n      <td>Errand/Supplies</td>\n      <td>2016</td>\n      <td>1</td>\n    </tr>\n    <tr>\n      <th>3</th>\n      <td>2016-01-05 17:31:00</td>\n      <td>2016-01-05 17:45:00</td>\n      <td>Business</td>\n      <td>Fort Pierce</td>\n      <td>Fort Pierce</td>\n      <td>4.7</td>\n      <td>Meeting</td>\n      <td>2016</td>\n      <td>1</td>\n    </tr>\n    <tr>\n      <th>4</th>\n      <td>2016-01-06 14:42:00</td>\n      <td>2016-01-06 15:49:00</td>\n      <td>Business</td>\n      <td>Fort Pierce</td>\n      <td>West Palm Beach</td>\n      <td>63.7</td>\n      <td>Customer Visit</td>\n      <td>2016</td>\n      <td>1</td>\n    </tr>\n  </tbody>\n</table>\n</div>"
          },
          "metadata": {}
        }
      ],
      "execution_count": 127
    },
    {
      "id": "d8c03ccd-b38d-43d0-bb8f-ed33d601f95e",
      "cell_type": "code",
      "source": "data.groupby('month').MILES.sum()",
      "metadata": {
        "trusted": true
      },
      "outputs": [
        {
          "execution_count": 124,
          "output_type": "execute_result",
          "data": {
            "text/plain": "month\n1      512.9\n2      908.2\n3     1693.9\n4     1113.0\n5      363.8\n6      842.8\n7     1224.6\n8     1335.5\n9      601.8\n10    1810.0\n11     816.9\n12     981.3\nName: MILES, dtype: float64"
          },
          "metadata": {}
        }
      ],
      "execution_count": 124
    },
    {
      "id": "ba684cf3-8c4a-41c2-a600-e45716040736",
      "cell_type": "code",
      "source": "data['month'].value_counts()",
      "metadata": {
        "trusted": true
      },
      "outputs": [
        {
          "execution_count": 126,
          "output_type": "execute_result",
          "data": {
            "text/plain": "month\n12    146\n8     133\n11    122\n2     115\n3     113\n7     112\n6     108\n10    106\n1      61\n4      54\n5      49\n9      36\nName: count, dtype: int64"
          },
          "metadata": {}
        }
      ],
      "execution_count": 126
    },
    {
      "id": "0fbd7666-1dae-480d-8bd3-adf545129370",
      "cell_type": "code",
      "source": "data.loc[data['MILES'] >= 5, \"MILES\"].count()",
      "metadata": {
        "trusted": true
      },
      "outputs": [
        {
          "execution_count": 140,
          "output_type": "execute_result",
          "data": {
            "text/plain": "np.int64(659)"
          },
          "metadata": {}
        }
      ],
      "execution_count": 140
    },
    {
      "id": "382f0f8b-21f7-4763-9e8b-38c58bbe8351",
      "cell_type": "code",
      "source": "data['KM'] = data['MILES']*1.609",
      "metadata": {
        "trusted": true
      },
      "outputs": [],
      "execution_count": 141
    },
    {
      "id": "827fa121-e5d7-43f2-a334-6b8d5cd288b9",
      "cell_type": "code",
      "source": "data.head()",
      "metadata": {
        "trusted": true
      },
      "outputs": [
        {
          "execution_count": 142,
          "output_type": "execute_result",
          "data": {
            "text/plain": "           START_DATE            END_DATE  CATEGORY        START  \\\n0 2016-01-01 21:11:00 2016-01-01 21:17:00  Business  Fort Pierce   \n1 2016-01-02 01:25:00 2016-01-02 01:37:00  Business  Fort Pierce   \n2 2016-01-02 20:25:00 2016-01-02 20:38:00  Business  Fort Pierce   \n3 2016-01-05 17:31:00 2016-01-05 17:45:00  Business  Fort Pierce   \n4 2016-01-06 14:42:00 2016-01-06 15:49:00  Business  Fort Pierce   \n\n              STOP  MILES          PURPOSE  year  month        KM  \n0      Fort Pierce    5.1   Meal/Entertain  2016      1    8.2059  \n1      Fort Pierce    5.0              NaN  2016      1    8.0450  \n2      Fort Pierce    4.8  Errand/Supplies  2016      1    7.7232  \n3      Fort Pierce    4.7          Meeting  2016      1    7.5623  \n4  West Palm Beach   63.7   Customer Visit  2016      1  102.4933  ",
            "text/html": "<div>\n<style scoped>\n    .dataframe tbody tr th:only-of-type {\n        vertical-align: middle;\n    }\n\n    .dataframe tbody tr th {\n        vertical-align: top;\n    }\n\n    .dataframe thead th {\n        text-align: right;\n    }\n</style>\n<table border=\"1\" class=\"dataframe\">\n  <thead>\n    <tr style=\"text-align: right;\">\n      <th></th>\n      <th>START_DATE</th>\n      <th>END_DATE</th>\n      <th>CATEGORY</th>\n      <th>START</th>\n      <th>STOP</th>\n      <th>MILES</th>\n      <th>PURPOSE</th>\n      <th>year</th>\n      <th>month</th>\n      <th>KM</th>\n    </tr>\n  </thead>\n  <tbody>\n    <tr>\n      <th>0</th>\n      <td>2016-01-01 21:11:00</td>\n      <td>2016-01-01 21:17:00</td>\n      <td>Business</td>\n      <td>Fort Pierce</td>\n      <td>Fort Pierce</td>\n      <td>5.1</td>\n      <td>Meal/Entertain</td>\n      <td>2016</td>\n      <td>1</td>\n      <td>8.2059</td>\n    </tr>\n    <tr>\n      <th>1</th>\n      <td>2016-01-02 01:25:00</td>\n      <td>2016-01-02 01:37:00</td>\n      <td>Business</td>\n      <td>Fort Pierce</td>\n      <td>Fort Pierce</td>\n      <td>5.0</td>\n      <td>NaN</td>\n      <td>2016</td>\n      <td>1</td>\n      <td>8.0450</td>\n    </tr>\n    <tr>\n      <th>2</th>\n      <td>2016-01-02 20:25:00</td>\n      <td>2016-01-02 20:38:00</td>\n      <td>Business</td>\n      <td>Fort Pierce</td>\n      <td>Fort Pierce</td>\n      <td>4.8</td>\n      <td>Errand/Supplies</td>\n      <td>2016</td>\n      <td>1</td>\n      <td>7.7232</td>\n    </tr>\n    <tr>\n      <th>3</th>\n      <td>2016-01-05 17:31:00</td>\n      <td>2016-01-05 17:45:00</td>\n      <td>Business</td>\n      <td>Fort Pierce</td>\n      <td>Fort Pierce</td>\n      <td>4.7</td>\n      <td>Meeting</td>\n      <td>2016</td>\n      <td>1</td>\n      <td>7.5623</td>\n    </tr>\n    <tr>\n      <th>4</th>\n      <td>2016-01-06 14:42:00</td>\n      <td>2016-01-06 15:49:00</td>\n      <td>Business</td>\n      <td>Fort Pierce</td>\n      <td>West Palm Beach</td>\n      <td>63.7</td>\n      <td>Customer Visit</td>\n      <td>2016</td>\n      <td>1</td>\n      <td>102.4933</td>\n    </tr>\n  </tbody>\n</table>\n</div>"
          },
          "metadata": {}
        }
      ],
      "execution_count": 142
    },
    {
      "id": "4d4cc9c4-0597-4904-a1dc-320bcb2a08ef",
      "cell_type": "code",
      "source": "data.groupby('month')['MILES'].mean()",
      "metadata": {
        "trusted": true
      },
      "outputs": [
        {
          "execution_count": 147,
          "output_type": "execute_result",
          "data": {
            "text/plain": "month\n1      8.408197\n2      7.897391\n3     14.990265\n4     20.611111\n5      7.424490\n6      7.803704\n7     10.933929\n8     10.041353\n9     16.716667\n10    17.075472\n11     6.695902\n12     6.721233\nName: MILES, dtype: float64"
          },
          "metadata": {}
        }
      ],
      "execution_count": 147
    },
    {
      "id": "74724510-7cf6-452d-a539-ad9a2df5060f",
      "cell_type": "code",
      "source": "data['PURPOSE'].value_counts(dropna=False)",
      "metadata": {
        "trusted": true
      },
      "outputs": [
        {
          "execution_count": 151,
          "output_type": "execute_result",
          "data": {
            "text/plain": "PURPOSE\nNaN                502\nMeeting            187\nMeal/Entertain     160\nErrand/Supplies    128\nCustomer Visit     101\nTemporary Site      50\nBetween Offices     18\nMoving               4\nAirport/Travel       3\nCharity ($)          1\nCommute              1\nName: count, dtype: int64"
          },
          "metadata": {}
        }
      ],
      "execution_count": 151
    },
    {
      "id": "dae5cebe-a2b3-49c1-bde5-03e8cb63b9ce",
      "cell_type": "code",
      "source": "",
      "metadata": {
        "trusted": true
      },
      "outputs": [],
      "execution_count": null
    }
  ]
}